{
 "cells": [
  {
   "cell_type": "markdown",
   "metadata": {},
   "source": [
    "# SUPERMARKET DATA PROJECT PREDICTIVE MODEL NOTEBOOK"
   ]
  },
  {
   "cell_type": "markdown",
   "metadata": {},
   "source": [
    "# PROJECT DESCRIPTION\n"
   ]
  },
  {
   "cell_type": "markdown",
   "metadata": {},
   "source": [
    "#### The aim of this project is to predicting at which store region a customer is likely to shop from.\n",
    "\n",
    "This is an Intermediate cohort personal mini-project for the A4Ayub data labs http://a4ayub.me/site/\n"
   ]
  },
  {
   "cell_type": "markdown",
   "metadata": {},
   "source": [
    "### Aim Of The Project\n",
    "To predict at which store region a customer is likely to shop"
   ]
  },
  {
   "cell_type": "markdown",
   "metadata": {},
   "source": [
    "### Problem Statement\n",
    "This Project includes:\n",
    "1. Descriptive Statistics\n",
    "2. Inferential Statistics\n",
    "3. Visualisation\n",
    "4. Modelling\n",
    "5. Prediction\n",
    "6. Intepretation of Results"
   ]
  },
  {
   "cell_type": "markdown",
   "metadata": {},
   "source": [
    "### About The Data\n",
    "#### <font color=\"red\">**This data is proprietory and can only be shared by Ayub, A4Ayub Data Science Labs.!  (http://www.a4ayub.me/)**</font>"
   ]
  },
  {
   "cell_type": "markdown",
   "metadata": {},
   "source": [
    "### Data Description\n",
    "Each row in the dataset corresponds to one unique product in a basket (e.g. if there are three occurences of the\n",
    "same product in that basket, it will have one row for the product in that basket, with quantity equal to three)\n",
    "\n",
    "The file has the below structure:"
   ]
  },
  {
   "cell_type": "markdown",
   "metadata": {},
   "source": [
    "### Data Structure\n",
    "\n",
    "Each row in the dataset corresponds to one unique product in a basket (e.g. if there are three occurences of the same product in that basket, it will have one row for the product in that basket, with quantity equal to three)\n",
    "\n",
    "The file has the below structure:\n",
    "\n",
    "| Column Name | Description | Type | Sample Values |\n",
    "| --- | --- | --- | --- |\n",
    "| shop_week | Identifies the week of the basket | Char | Format is YYYYWW where the first 4 characters identify the fiscal year and the other two characters identify the specific week within the year (e.g. 200735). Being the fiscal year, the first week doesn’t start in January.  (See time.csv file for start/end dates of each week) |\n",
    "| shop_date | Date when shopping has been made. Date is specified in the yyyymmdd format | Char | 20060413, 20060412 |\n",
    "| shop_weekday | Identifies the day of the week | Num | 1=Sunday, 2=Monday, …, 7=Saturday |\n",
    "| shop_hour | Hour slot of the shopping | Num | 0=00:00-00:59, 1=01:00-01:59, …23=23:00-23:59 |\n",
    "| Quantity | Number of items of the same product bought in this basket | Num | Integer number |\n",
    "| spend | Spend associated to the items bought | Num | Number with two decimal digits |\n",
    "| prod_code | Product Code | Char | PRD0900001, PRD0900003 |\n",
    "| prod_code_10 | Product Hierarchy Level 10 Code | Char | CL00072, CL00144 |\n",
    "| prod_code_20 | Product Hierarchy Level 20 Code | Char | DEP00021, DEP00051 |\n",
    "| prod_code_30 | Product Hierarchy Level 30 Code | Char | G00007, G00015 |\n",
    "| prod_code_40 | Product Hierarchy Level 40 Code | Char | D00002, D00003 |\n",
    "| cust_code | Customer Code | Char | CUST0000001624, CUST0000001912 |\n",
    "| cust_price_sensitivity | Customer’s Price Sensitivity | Char | LA=Less Affluent, MM=Mid Market, UM=Up Market, XX=unclassified |\n",
    "| cust_lifestage | Customer’s Lifestage | Char | YA=Young Adults, OA=Older Adults, YF=Young Families, OF=Older Families, PE=Pensioners, OT=Other, XX=unclassified |\n",
    "| basket_id | Basket ID. All items in a basket share the same basket_id value. | Num | 994100100000020, 994100100000344 |\n",
    "| basket_size | Basket size | Char | L=Large, M=Medium, S=Small |\n",
    "| basket_price_sensitivity | Basket price sensitivity  | Char | LA=Less Affluent, MM=Mid Market, UM=Up Market, XX=unclassified |\n",
    "| basket_type | Basket type | Char | Small Shop, Top Up, Full Shop, XX |\n",
    "| basket_dominant_mission | Shopping dominant mission | Char | Fresh, Grocery, Mixed, Non Food, XX |\n",
    "| store_code | Store Code | Char | STORE00001, STORE00002 |\n",
    "| store_format | Format of the Store | Char | LS, MS, SS, XLS |\n",
    "| store_region | Region the store belongs to | Char | E02, W01, E01, N03 |\n"
   ]
  },
  {
   "cell_type": "markdown",
   "metadata": {},
   "source": [
    "# LET'S EXPLORE"
   ]
  },
  {
   "cell_type": "markdown",
   "metadata": {},
   "source": [
    "# Importing Packages"
   ]
  },
  {
   "cell_type": "code",
   "execution_count": 522,
   "metadata": {},
   "outputs": [],
   "source": [
    "#importing packages\n",
    "import pandas as pd\n",
    "import numpy as np\n",
    " \n",
    "\n",
    "#importing visualization metrics\n",
    "import matplotlib.pyplot as plt\n",
    "from matplotlib.gridspec import GridSpec\n",
    "import seaborn as sns\n",
    "%matplotlib inline \n",
    "\n",
    "# Import the warnings\n",
    "import warnings\n",
    "\n",
    "# Import statsmodels\n",
    "import statsmodels.formula.api as smf\n",
    "\n",
    "# Importing classifiers from scikit-learn\n",
    "from sklearn.linear_model import LinearRegression\n",
    "from sklearn.ensemble import RandomForestClassifier\n",
    "\n",
    "# Using Skicit-learn to split data into training and testing sets\n",
    "from sklearn.model_selection import train_test_split\n",
    "\n",
    "# Import the metrics\n",
    "from sklearn import metrics\n",
    "\n",
    "# configuration settings\n",
    "%matplotlib inline\n",
    "sns.set(color_codes=True)\n",
    "warnings.filterwarnings('ignore') ## Surpress the warnings\n",
    "pd.options.display.max_columns = None # Display all columns\n",
    "\n",
    "# For Statistics\n",
    "import scipy.stats as stats\n",
    "import pandas_profiling as pp\n",
    "#other packages\n",
    "import math\n",
    "from collections import Counter\n",
    "from numpy import log"
   ]
  },
  {
   "cell_type": "markdown",
   "metadata": {},
   "source": [
    "# Importing Data"
   ]
  },
  {
   "cell_type": "code",
   "execution_count": 523,
   "metadata": {},
   "outputs": [],
   "source": [
    "dataset =  pd.read_csv(\"supermarket_dataset_used.csv\")"
   ]
  },
  {
   "cell_type": "markdown",
   "metadata": {},
   "source": [
    "# EXPLORATORY DATA ANALYSIS"
   ]
  },
  {
   "cell_type": "markdown",
   "metadata": {},
   "source": [
    "## 1. General Analysis"
   ]
  },
  {
   "cell_type": "code",
   "execution_count": 524,
   "metadata": {},
   "outputs": [
    {
     "data": {
      "text/html": [
       "<div>\n",
       "<style scoped>\n",
       "    .dataframe tbody tr th:only-of-type {\n",
       "        vertical-align: middle;\n",
       "    }\n",
       "\n",
       "    .dataframe tbody tr th {\n",
       "        vertical-align: top;\n",
       "    }\n",
       "\n",
       "    .dataframe thead th {\n",
       "        text-align: right;\n",
       "    }\n",
       "</style>\n",
       "<table border=\"1\" class=\"dataframe\">\n",
       "  <thead>\n",
       "    <tr style=\"text-align: right;\">\n",
       "      <th></th>\n",
       "      <th>SHOP_WEEK</th>\n",
       "      <th>Year</th>\n",
       "      <th>Month</th>\n",
       "      <th>Date</th>\n",
       "      <th>SHOP_WEEKDAY</th>\n",
       "      <th>SHOP_HOUR</th>\n",
       "      <th>QUANTITY</th>\n",
       "      <th>SPEND</th>\n",
       "      <th>PROD_CODE</th>\n",
       "      <th>PROD_CODE_10</th>\n",
       "      <th>PROD_CODE_20</th>\n",
       "      <th>PROD_CODE_30</th>\n",
       "      <th>PROD_CODE_40</th>\n",
       "      <th>CUST_CODE</th>\n",
       "      <th>CUST_PRICE_SENSITIVITY</th>\n",
       "      <th>CUST_LIFESTAGE</th>\n",
       "      <th>BASKET_ID</th>\n",
       "      <th>BASKET_SIZE</th>\n",
       "      <th>BASKET_PRICE_SENSITIVITY</th>\n",
       "      <th>BASKET_TYPE</th>\n",
       "      <th>BASKET_DOMINANT_MISSION</th>\n",
       "      <th>STORE_CODE</th>\n",
       "      <th>STORE_FORMAT</th>\n",
       "      <th>STORE_REGION</th>\n",
       "    </tr>\n",
       "  </thead>\n",
       "  <tbody>\n",
       "    <tr>\n",
       "      <td>0</td>\n",
       "      <td>200607</td>\n",
       "      <td>2006</td>\n",
       "      <td>4</td>\n",
       "      <td>13</td>\n",
       "      <td>5</td>\n",
       "      <td>20</td>\n",
       "      <td>1</td>\n",
       "      <td>103</td>\n",
       "      <td>PRD0900097</td>\n",
       "      <td>CL00001</td>\n",
       "      <td>DEP00001</td>\n",
       "      <td>G00001</td>\n",
       "      <td>D00001</td>\n",
       "      <td>CUST0000634693</td>\n",
       "      <td>LA</td>\n",
       "      <td>YF</td>\n",
       "      <td>994100000000000</td>\n",
       "      <td>L</td>\n",
       "      <td>LA</td>\n",
       "      <td>Top Up</td>\n",
       "      <td>Fresh</td>\n",
       "      <td>STORE00001</td>\n",
       "      <td>LS</td>\n",
       "      <td>E02</td>\n",
       "    </tr>\n",
       "    <tr>\n",
       "      <td>1</td>\n",
       "      <td>200607</td>\n",
       "      <td>2006</td>\n",
       "      <td>4</td>\n",
       "      <td>12</td>\n",
       "      <td>4</td>\n",
       "      <td>19</td>\n",
       "      <td>1</td>\n",
       "      <td>28</td>\n",
       "      <td>PRD0900353</td>\n",
       "      <td>CL00070</td>\n",
       "      <td>DEP00020</td>\n",
       "      <td>G00007</td>\n",
       "      <td>D00002</td>\n",
       "      <td>CUST0000634693</td>\n",
       "      <td>LA</td>\n",
       "      <td>YF</td>\n",
       "      <td>994100000000000</td>\n",
       "      <td>M</td>\n",
       "      <td>MM</td>\n",
       "      <td>Small Shop</td>\n",
       "      <td>Fresh</td>\n",
       "      <td>STORE00001</td>\n",
       "      <td>LS</td>\n",
       "      <td>E02</td>\n",
       "    </tr>\n",
       "    <tr>\n",
       "      <td>2</td>\n",
       "      <td>200607</td>\n",
       "      <td>2006</td>\n",
       "      <td>4</td>\n",
       "      <td>13</td>\n",
       "      <td>5</td>\n",
       "      <td>20</td>\n",
       "      <td>3</td>\n",
       "      <td>84</td>\n",
       "      <td>PRD0900550</td>\n",
       "      <td>CL00167</td>\n",
       "      <td>DEP00055</td>\n",
       "      <td>G00016</td>\n",
       "      <td>D00003</td>\n",
       "      <td>CUST0000634693</td>\n",
       "      <td>LA</td>\n",
       "      <td>YF</td>\n",
       "      <td>994100000000000</td>\n",
       "      <td>L</td>\n",
       "      <td>LA</td>\n",
       "      <td>Top Up</td>\n",
       "      <td>Fresh</td>\n",
       "      <td>STORE00001</td>\n",
       "      <td>LS</td>\n",
       "      <td>E02</td>\n",
       "    </tr>\n",
       "    <tr>\n",
       "      <td>3</td>\n",
       "      <td>200607</td>\n",
       "      <td>2006</td>\n",
       "      <td>4</td>\n",
       "      <td>12</td>\n",
       "      <td>4</td>\n",
       "      <td>19</td>\n",
       "      <td>1</td>\n",
       "      <td>221</td>\n",
       "      <td>PRD0901647</td>\n",
       "      <td>CL00010</td>\n",
       "      <td>DEP00003</td>\n",
       "      <td>G00002</td>\n",
       "      <td>D00001</td>\n",
       "      <td>CUST0000634693</td>\n",
       "      <td>LA</td>\n",
       "      <td>YF</td>\n",
       "      <td>994100000000000</td>\n",
       "      <td>M</td>\n",
       "      <td>MM</td>\n",
       "      <td>Small Shop</td>\n",
       "      <td>Fresh</td>\n",
       "      <td>STORE00001</td>\n",
       "      <td>LS</td>\n",
       "      <td>E02</td>\n",
       "    </tr>\n",
       "    <tr>\n",
       "      <td>4</td>\n",
       "      <td>200607</td>\n",
       "      <td>2006</td>\n",
       "      <td>4</td>\n",
       "      <td>13</td>\n",
       "      <td>5</td>\n",
       "      <td>20</td>\n",
       "      <td>1</td>\n",
       "      <td>334</td>\n",
       "      <td>PRD0902064</td>\n",
       "      <td>CL00073</td>\n",
       "      <td>DEP00021</td>\n",
       "      <td>G00007</td>\n",
       "      <td>D00002</td>\n",
       "      <td>CUST0000634693</td>\n",
       "      <td>LA</td>\n",
       "      <td>YF</td>\n",
       "      <td>994100000000000</td>\n",
       "      <td>L</td>\n",
       "      <td>LA</td>\n",
       "      <td>Top Up</td>\n",
       "      <td>Fresh</td>\n",
       "      <td>STORE00001</td>\n",
       "      <td>LS</td>\n",
       "      <td>E02</td>\n",
       "    </tr>\n",
       "  </tbody>\n",
       "</table>\n",
       "</div>"
      ],
      "text/plain": [
       "   SHOP_WEEK  Year  Month  Date  SHOP_WEEKDAY  SHOP_HOUR  QUANTITY  SPEND  \\\n",
       "0     200607  2006      4    13             5         20         1    103   \n",
       "1     200607  2006      4    12             4         19         1     28   \n",
       "2     200607  2006      4    13             5         20         3     84   \n",
       "3     200607  2006      4    12             4         19         1    221   \n",
       "4     200607  2006      4    13             5         20         1    334   \n",
       "\n",
       "    PROD_CODE PROD_CODE_10 PROD_CODE_20 PROD_CODE_30 PROD_CODE_40  \\\n",
       "0  PRD0900097      CL00001     DEP00001       G00001       D00001   \n",
       "1  PRD0900353      CL00070     DEP00020       G00007       D00002   \n",
       "2  PRD0900550      CL00167     DEP00055       G00016       D00003   \n",
       "3  PRD0901647      CL00010     DEP00003       G00002       D00001   \n",
       "4  PRD0902064      CL00073     DEP00021       G00007       D00002   \n",
       "\n",
       "        CUST_CODE CUST_PRICE_SENSITIVITY CUST_LIFESTAGE        BASKET_ID  \\\n",
       "0  CUST0000634693                     LA             YF  994100000000000   \n",
       "1  CUST0000634693                     LA             YF  994100000000000   \n",
       "2  CUST0000634693                     LA             YF  994100000000000   \n",
       "3  CUST0000634693                     LA             YF  994100000000000   \n",
       "4  CUST0000634693                     LA             YF  994100000000000   \n",
       "\n",
       "  BASKET_SIZE BASKET_PRICE_SENSITIVITY BASKET_TYPE BASKET_DOMINANT_MISSION  \\\n",
       "0           L                       LA      Top Up                   Fresh   \n",
       "1           M                       MM  Small Shop                   Fresh   \n",
       "2           L                       LA      Top Up                   Fresh   \n",
       "3           M                       MM  Small Shop                   Fresh   \n",
       "4           L                       LA      Top Up                   Fresh   \n",
       "\n",
       "   STORE_CODE STORE_FORMAT STORE_REGION  \n",
       "0  STORE00001           LS          E02  \n",
       "1  STORE00001           LS          E02  \n",
       "2  STORE00001           LS          E02  \n",
       "3  STORE00001           LS          E02  \n",
       "4  STORE00001           LS          E02  "
      ]
     },
     "execution_count": 524,
     "metadata": {},
     "output_type": "execute_result"
    }
   ],
   "source": [
    "# viewing the top 5 rows of the dataset\n",
    "\n",
    "dataset.head()"
   ]
  },
  {
   "cell_type": "code",
   "execution_count": 525,
   "metadata": {},
   "outputs": [
    {
     "data": {
      "application/vnd.jupyter.widget-view+json": {
       "model_id": "b88e4fa8c11848b4911415265e5d515d",
       "version_major": 2,
       "version_minor": 0
      },
      "text/plain": [
       "Tab(children=(HTML(value='<div id=\"overview-content\" class=\"row variable spacing\">\\n    <div class=\"row\">\\n   …"
      ]
     },
     "metadata": {},
     "output_type": "display_data"
    },
    {
     "data": {
      "text/html": [
       "Report generated with <a href=\"https://github.com/pandas-profiling/pandas-profiling\">pandas-profiling</a>."
      ],
      "text/plain": [
       "<IPython.core.display.HTML object>"
      ]
     },
     "metadata": {},
     "output_type": "display_data"
    },
    {
     "data": {
      "text/plain": []
     },
     "execution_count": 525,
     "metadata": {},
     "output_type": "execute_result"
    }
   ],
   "source": [
    "#getting the statistics and summary of the whole dataset\n",
    "\n",
    "pp.ProfileReport(dataset)"
   ]
  },
  {
   "cell_type": "code",
   "execution_count": 526,
   "metadata": {},
   "outputs": [
    {
     "data": {
      "text/plain": [
       "Index(['SHOP_WEEK', 'Year', 'Month', 'Date', 'SHOP_WEEKDAY', 'SHOP_HOUR',\n",
       "       'QUANTITY', 'SPEND', 'PROD_CODE', 'PROD_CODE_10', 'PROD_CODE_20',\n",
       "       'PROD_CODE_30', 'PROD_CODE_40', 'CUST_CODE', 'CUST_PRICE_SENSITIVITY',\n",
       "       'CUST_LIFESTAGE', 'BASKET_ID', 'BASKET_SIZE',\n",
       "       'BASKET_PRICE_SENSITIVITY', 'BASKET_TYPE', 'BASKET_DOMINANT_MISSION',\n",
       "       'STORE_CODE', 'STORE_FORMAT', 'STORE_REGION'],\n",
       "      dtype='object')"
      ]
     },
     "execution_count": 526,
     "metadata": {},
     "output_type": "execute_result"
    }
   ],
   "source": [
    "#variables in the dataset\n",
    "\n",
    "dataset.columns"
   ]
  },
  {
   "cell_type": "code",
   "execution_count": 527,
   "metadata": {},
   "outputs": [
    {
     "data": {
      "text/plain": [
       "SHOP_WEEK                    int64\n",
       "Year                         int64\n",
       "Month                        int64\n",
       "Date                         int64\n",
       "SHOP_WEEKDAY                 int64\n",
       "SHOP_HOUR                    int64\n",
       "QUANTITY                     int64\n",
       "SPEND                        int64\n",
       "PROD_CODE                   object\n",
       "PROD_CODE_10                object\n",
       "PROD_CODE_20                object\n",
       "PROD_CODE_30                object\n",
       "PROD_CODE_40                object\n",
       "CUST_CODE                   object\n",
       "CUST_PRICE_SENSITIVITY      object\n",
       "CUST_LIFESTAGE              object\n",
       "BASKET_ID                    int64\n",
       "BASKET_SIZE                 object\n",
       "BASKET_PRICE_SENSITIVITY    object\n",
       "BASKET_TYPE                 object\n",
       "BASKET_DOMINANT_MISSION     object\n",
       "STORE_CODE                  object\n",
       "STORE_FORMAT                object\n",
       "STORE_REGION                object\n",
       "dtype: object"
      ]
     },
     "execution_count": 527,
     "metadata": {},
     "output_type": "execute_result"
    }
   ],
   "source": [
    "# checking the datatypes\n",
    "\n",
    "dataset.dtypes"
   ]
  },
  {
   "cell_type": "code",
   "execution_count": 528,
   "metadata": {},
   "outputs": [
    {
     "data": {
      "text/plain": [
       "(119, 24)"
      ]
     },
     "execution_count": 528,
     "metadata": {},
     "output_type": "execute_result"
    }
   ],
   "source": [
    "#Total number of rows and columns\n",
    "#We have 119 rows and 24 columns\n",
    "\n",
    "dataset.shape"
   ]
  },
  {
   "cell_type": "code",
   "execution_count": 529,
   "metadata": {
    "scrolled": true
   },
   "outputs": [
    {
     "name": "stdout",
     "output_type": "stream",
     "text": [
      "Duplicate rows:  Empty DataFrame\n",
      "Columns: [SHOP_WEEK, Year, Month, Date, SHOP_WEEKDAY, SHOP_HOUR, QUANTITY, SPEND, PROD_CODE, PROD_CODE_10, PROD_CODE_20, PROD_CODE_30, PROD_CODE_40, CUST_CODE, CUST_PRICE_SENSITIVITY, CUST_LIFESTAGE, BASKET_ID, BASKET_SIZE, BASKET_PRICE_SENSITIVITY, BASKET_TYPE, BASKET_DOMINANT_MISSION, STORE_CODE, STORE_FORMAT, STORE_REGION]\n",
      "Index: []\n"
     ]
    }
   ],
   "source": [
    "# Rows containing duplicate data\n",
    "\n",
    "duplicate_rows = dataset[dataset.duplicated()]\n",
    "print(\"Duplicate rows: \",duplicate_rows)"
   ]
  },
  {
   "cell_type": "code",
   "execution_count": 530,
   "metadata": {},
   "outputs": [],
   "source": [
    "#code to delete dupicates if we have any\n",
    "#datset=dataset.drop_duplicates()"
   ]
  },
  {
   "cell_type": "code",
   "execution_count": 531,
   "metadata": {
    "scrolled": true
   },
   "outputs": [
    {
     "data": {
      "text/plain": [
       "SHOP_WEEK                   119\n",
       "Year                        119\n",
       "Month                       119\n",
       "Date                        119\n",
       "SHOP_WEEKDAY                119\n",
       "SHOP_HOUR                   119\n",
       "QUANTITY                    119\n",
       "SPEND                       119\n",
       "PROD_CODE                   119\n",
       "PROD_CODE_10                119\n",
       "PROD_CODE_20                119\n",
       "PROD_CODE_30                119\n",
       "PROD_CODE_40                119\n",
       "CUST_CODE                    73\n",
       "CUST_PRICE_SENSITIVITY       73\n",
       "CUST_LIFESTAGE               73\n",
       "BASKET_ID                   119\n",
       "BASKET_SIZE                 119\n",
       "BASKET_PRICE_SENSITIVITY    119\n",
       "BASKET_TYPE                 119\n",
       "BASKET_DOMINANT_MISSION     119\n",
       "STORE_CODE                  119\n",
       "STORE_FORMAT                119\n",
       "STORE_REGION                119\n",
       "dtype: int64"
      ]
     },
     "execution_count": 531,
     "metadata": {},
     "output_type": "execute_result"
    }
   ],
   "source": [
    "#The count of each column\n",
    "# CUST_CODE, CUST_PRICE_SENSITIVITY and CUST_LIFESTAGE have missing values\n",
    "\n",
    "dataset.count()"
   ]
  },
  {
   "cell_type": "code",
   "execution_count": 532,
   "metadata": {},
   "outputs": [
    {
     "data": {
      "text/plain": [
       "SHOP_WEEK                    0\n",
       "Year                         0\n",
       "Month                        0\n",
       "Date                         0\n",
       "SHOP_WEEKDAY                 0\n",
       "SHOP_HOUR                    0\n",
       "QUANTITY                     0\n",
       "SPEND                        0\n",
       "PROD_CODE                    0\n",
       "PROD_CODE_10                 0\n",
       "PROD_CODE_20                 0\n",
       "PROD_CODE_30                 0\n",
       "PROD_CODE_40                 0\n",
       "CUST_CODE                   46\n",
       "CUST_PRICE_SENSITIVITY      46\n",
       "CUST_LIFESTAGE              46\n",
       "BASKET_ID                    0\n",
       "BASKET_SIZE                  0\n",
       "BASKET_PRICE_SENSITIVITY     0\n",
       "BASKET_TYPE                  0\n",
       "BASKET_DOMINANT_MISSION      0\n",
       "STORE_CODE                   0\n",
       "STORE_FORMAT                 0\n",
       "STORE_REGION                 0\n",
       "dtype: int64"
      ]
     },
     "execution_count": 532,
     "metadata": {},
     "output_type": "execute_result"
    }
   ],
   "source": [
    "#lokking for columns with missing values\n",
    "\n",
    "dataset.isnull().sum()"
   ]
  },
  {
   "cell_type": "markdown",
   "metadata": {},
   "source": [
    "## 2. Exploring The Target Variable"
   ]
  },
  {
   "cell_type": "markdown",
   "metadata": {},
   "source": [
    "The objective is to learn more about the target varibale which is the store region. This is through visualization and conducting description analysis"
   ]
  },
  {
   "cell_type": "code",
   "execution_count": 533,
   "metadata": {},
   "outputs": [
    {
     "data": {
      "text/plain": [
       "0    E02\n",
       "1    E02\n",
       "2    E02\n",
       "3    E02\n",
       "4    E02\n",
       "Name: STORE_REGION, dtype: object"
      ]
     },
     "execution_count": 533,
     "metadata": {},
     "output_type": "execute_result"
    }
   ],
   "source": [
    "#viewing the top 5 of the store region variable\n",
    "\n",
    "store_region_data = dataset[\"STORE_REGION\"]\n",
    "store_region_data.head()"
   ]
  },
  {
   "cell_type": "code",
   "execution_count": 534,
   "metadata": {},
   "outputs": [
    {
     "data": {
      "text/plain": [
       "array(['E02', 'W01', 'N01', 'N02', 'W02', 'S02', 'S01', 'N03', 'S03'],\n",
       "      dtype=object)"
      ]
     },
     "execution_count": 534,
     "metadata": {},
     "output_type": "execute_result"
    }
   ],
   "source": [
    "# the store regions available\n",
    "# We have 9 store regions\n",
    "\n",
    "available_store_regions = store_region_data.unique()\n",
    "available_store_regions"
   ]
  },
  {
   "cell_type": "code",
   "execution_count": 535,
   "metadata": {},
   "outputs": [
    {
     "data": {
      "text/plain": [
       "N01    21\n",
       "W01    17\n",
       "N02    16\n",
       "S01    15\n",
       "N03    14\n",
       "E02    12\n",
       "W02     9\n",
       "S03     8\n",
       "S02     7\n",
       "Name: STORE_REGION, dtype: int64"
      ]
     },
     "execution_count": 535,
     "metadata": {},
     "output_type": "execute_result"
    }
   ],
   "source": [
    "# finding out the distribution of the number the customers bought in those store regions\n",
    "#the classes are quite imbalanced\n",
    "\n",
    "dataset[\"STORE_REGION\"].value_counts()"
   ]
  },
  {
   "cell_type": "code",
   "execution_count": 536,
   "metadata": {
    "scrolled": true
   },
   "outputs": [
    {
     "data": {
      "text/html": [
       "<div>\n",
       "<style scoped>\n",
       "    .dataframe tbody tr th:only-of-type {\n",
       "        vertical-align: middle;\n",
       "    }\n",
       "\n",
       "    .dataframe tbody tr th {\n",
       "        vertical-align: top;\n",
       "    }\n",
       "\n",
       "    .dataframe thead th {\n",
       "        text-align: right;\n",
       "    }\n",
       "</style>\n",
       "<table border=\"1\" class=\"dataframe\">\n",
       "  <thead>\n",
       "    <tr style=\"text-align: right;\">\n",
       "      <th></th>\n",
       "      <th>STORE_REGION</th>\n",
       "      <th>COUNT</th>\n",
       "    </tr>\n",
       "  </thead>\n",
       "  <tbody>\n",
       "    <tr>\n",
       "      <td>0</td>\n",
       "      <td>N01</td>\n",
       "      <td>21</td>\n",
       "    </tr>\n",
       "    <tr>\n",
       "      <td>1</td>\n",
       "      <td>W01</td>\n",
       "      <td>17</td>\n",
       "    </tr>\n",
       "    <tr>\n",
       "      <td>2</td>\n",
       "      <td>N02</td>\n",
       "      <td>16</td>\n",
       "    </tr>\n",
       "    <tr>\n",
       "      <td>3</td>\n",
       "      <td>S01</td>\n",
       "      <td>15</td>\n",
       "    </tr>\n",
       "    <tr>\n",
       "      <td>4</td>\n",
       "      <td>N03</td>\n",
       "      <td>14</td>\n",
       "    </tr>\n",
       "    <tr>\n",
       "      <td>5</td>\n",
       "      <td>E02</td>\n",
       "      <td>12</td>\n",
       "    </tr>\n",
       "    <tr>\n",
       "      <td>6</td>\n",
       "      <td>W02</td>\n",
       "      <td>9</td>\n",
       "    </tr>\n",
       "    <tr>\n",
       "      <td>7</td>\n",
       "      <td>S03</td>\n",
       "      <td>8</td>\n",
       "    </tr>\n",
       "    <tr>\n",
       "      <td>8</td>\n",
       "      <td>S02</td>\n",
       "      <td>7</td>\n",
       "    </tr>\n",
       "  </tbody>\n",
       "</table>\n",
       "</div>"
      ],
      "text/plain": [
       "  STORE_REGION  COUNT\n",
       "0          N01     21\n",
       "1          W01     17\n",
       "2          N02     16\n",
       "3          S01     15\n",
       "4          N03     14\n",
       "5          E02     12\n",
       "6          W02      9\n",
       "7          S03      8\n",
       "8          S02      7"
      ]
     },
     "execution_count": 536,
     "metadata": {},
     "output_type": "execute_result"
    }
   ],
   "source": [
    "#preparing data for visualization to show the distribution of the number the customers bought in those store regions\n",
    "\n",
    "available_store_regions_visualization_data = dataset[\"STORE_REGION\"].value_counts().rename_axis(\"STORE_REGION\").reset_index(name=\"COUNT\")\n",
    "available_store_regions_visualization_data"
   ]
  },
  {
   "cell_type": "code",
   "execution_count": 537,
   "metadata": {},
   "outputs": [
    {
     "data": {
      "text/plain": [
       "<BarContainer object of 9 artists>"
      ]
     },
     "execution_count": 537,
     "metadata": {},
     "output_type": "execute_result"
    },
    {
     "data": {
      "image/png": "[encoded data removed]",
      "text/plain": [
       "<Figure size 1800x864 with 2 Axes>"
      ]
     },
     "metadata": {},
     "output_type": "display_data"
    }
   ],
   "source": [
    "#visualization to show the distribution of the number the customers bought in those store regions\n",
    "#Create a the top level element for all the plot elements by defining its width of 25 and height 12\n",
    "\n",
    "fig = plt.figure(figsize=(25,12))\n",
    "\n",
    "\n",
    "# Define a gridspec which will specify the geometry within which a subpot will be configure\n",
    "# This will have 7 rows and 9 columns\n",
    "\n",
    "gs = GridSpec(7,9)\n",
    "\n",
    "\n",
    "# In the above gridSpec we will have two columns: One to display the pie-chart and the other to disply a bar-chart\n",
    "# Define the subplot where you will have the pie chart\n",
    "\n",
    "pie_subplot = plt.subplot(gs[:, :-4]) # From the Top to Last Row; From First Column to Fifth column\n",
    "\n",
    "# define the subplot where you will have the bar chart\n",
    "\n",
    "bar_subplot = plt.subplot(gs[:, 5:])\n",
    "\n",
    "# Draw the pie Chart\n",
    "# store regions as labels\n",
    "\n",
    "pie_labels = 'E02', 'W01', 'N01', 'N02', 'W02', 'S02', 'S01', 'N03', 'S03' \n",
    "\n",
    " # explode the pie chart at region N01\n",
    "    \n",
    "pie_explode = (0,0.1,0,0,0,0,0,0,0)\n",
    "\n",
    "# Setting the title of the pie plot\n",
    "\n",
    "pie_subplot.set_title(label='Store Regions Proportions', fontdict={'fontsize': 25})\n",
    "\n",
    "#plotting the pie graph\n",
    "\n",
    "pie_subplot.pie(\n",
    "    available_store_regions_visualization_data[\"COUNT\"],\n",
    "    explode=pie_explode,\n",
    "    autopct=\"%1.1f%%\",\n",
    "    shadow=True,\n",
    "    startangle=90,\n",
    "    textprops={\"fontsize\":26}\n",
    ")\n",
    "\n",
    "#Adding a legend to the pie graph\n",
    "\n",
    "pie_subplot.legend(pie_labels,loc=0,fontsize=15,ncol=2) \n",
    "\n",
    "# plotting the bar chart\n",
    "#specifying the x axis\n",
    "bar_list = available_store_regions_visualization_data[\"STORE_REGION\"]\n",
    "\n",
    "#specifying the y axis\n",
    "bar_count = available_store_regions_visualization_data[\"COUNT\"]\n",
    "\n",
    "#arange from one with higher count to the one with the least\n",
    "index_values = np.arange(len(bar_list))\n",
    "\n",
    "#specifying the width of the space between the bars\n",
    "width = 1/1.2\n",
    "\n",
    "#setting the title\n",
    "bar_subplot.set_title(label='Store Regions Distribution', fontdict={'fontsize': 25})\n",
    "\n",
    "#setting the xlabel and ylabel\n",
    "bar_subplot.set_xlabel(xlabel=\"STORE_REGION\",fontdict={'fontsize':25})\n",
    "bar_subplot.set_ylabel(ylabel=\"COUNT\",fontdict={'fontsize':25})\n",
    "\n",
    "#specisfying if the x axis labels will be executed horizontally or vertically\n",
    "bar_subplot.set_xticklabels(bar_list,rotation=\"vertical\",fontdict={'fontsize':25})\n",
    "\n",
    "#plotting the graph\n",
    "bar_subplot.bar(bar_list,bar_count,width)"
   ]
  },
  {
   "cell_type": "code",
   "execution_count": null,
   "metadata": {},
   "outputs": [],
   "source": []
  },
  {
   "attachments": {
    "image.png": {
     "image/png": "[encoded data removed]"
    }
   },
   "cell_type": "markdown",
   "metadata": {},
   "source": [
    "From the visualization above we notice that the distribution of the number of customers is not the same in each region.\n",
    "Let's calculate to find out if the count of the number of customers is balanced. That is we are looking how \"badly unbalanced\" our target variable is.\n",
    "Here I use shannon enthropy as a measure of balance.\n",
    "\n",
    "#### Shannon Enthropy Formula\n",
    "\n",
    "![image.png](attachment:image.png)\n",
    "\n",
    "https://stats.stackexchange.com/questions/239973/a-general-measure-of-data-set-imbalance"
   ]
  },
  {
   "cell_type": "code",
   "execution_count": 538,
   "metadata": {},
   "outputs": [],
   "source": [
    "def balance_calculator(variable, unit = \"Natural\"): #We set Nutural as a default\n",
    "    #setting the metrics of unit\n",
    "    base = {\n",
    "        'shannon' : 2.,\n",
    "        'natural' : math.exp(1),\n",
    "        'hartley' : 10.\n",
    "    }\n",
    "    \n",
    "    #lets specify if the length of one or less the function returns zero\n",
    "    if len(variable)<=1:\n",
    "        return 0\n",
    "    \n",
    "    #intializing count\n",
    "    counts = Counter()\n",
    "    for d in variable:\n",
    "        counts[d] += 1\n",
    "    ent = 0\n",
    "    probs = [float(c) / len(variable) for c in counts.values()]\n",
    "    for p in probs:\n",
    "        if p > 0.:\n",
    "            ent -= p * math.log(p, base[unit])\n",
    "    return ent/math.log(len(variable))\n",
    "    "
   ]
  },
  {
   "cell_type": "code",
   "execution_count": 539,
   "metadata": {},
   "outputs": [
    {
     "data": {
      "text/plain": [
       "0.6464584943366048"
      ]
     },
     "execution_count": 539,
     "metadata": {},
     "output_type": "execute_result"
    }
   ],
   "source": [
    "#checking for balance\n",
    "#our value is 0.6464584943366048 so we can just continue to the model\n",
    "balance_value = balance_calculator(dataset[\"STORE_REGION\"], \"shannon\")\n",
    "balance_value"
   ]
  },
  {
   "cell_type": "markdown",
   "metadata": {},
   "source": [
    "## 3. Exploring The Model Variables With Respect To The Target Variable"
   ]
  },
  {
   "cell_type": "markdown",
   "metadata": {},
   "source": [
    "## Variables To Be Used To Create The Model:\n",
    "\n",
    "           Date\n",
    "           QUANTITY\n",
    "           SPEND\n",
    "           SHOP_WEEKDAY\n",
    "           SHOP_HOUR\n",
    "           PROD_CODE_10\n",
    "           CUST_PRICE_SENSITIVITY\n",
    "           CUST_LIFESTAGE\n",
    "           BASKET_SIZE\n",
    "           BASKET_DOMINANT_MISSION\n",
    "           STORE_FORMAT"
   ]
  },
  {
   "cell_type": "code",
   "execution_count": 540,
   "metadata": {},
   "outputs": [
    {
     "data": {
      "text/html": [
       "<div>\n",
       "<style scoped>\n",
       "    .dataframe tbody tr th:only-of-type {\n",
       "        vertical-align: middle;\n",
       "    }\n",
       "\n",
       "    .dataframe tbody tr th {\n",
       "        vertical-align: top;\n",
       "    }\n",
       "\n",
       "    .dataframe thead th {\n",
       "        text-align: right;\n",
       "    }\n",
       "</style>\n",
       "<table border=\"1\" class=\"dataframe\">\n",
       "  <thead>\n",
       "    <tr style=\"text-align: right;\">\n",
       "      <th></th>\n",
       "      <th>Date</th>\n",
       "      <th>QUANTITY</th>\n",
       "      <th>SPEND</th>\n",
       "      <th>SHOP_WEEKDAY</th>\n",
       "      <th>SHOP_HOUR</th>\n",
       "      <th>PROD_CODE_10</th>\n",
       "      <th>CUST_PRICE_SENSITIVITY</th>\n",
       "      <th>CUST_LIFESTAGE</th>\n",
       "      <th>BASKET_SIZE</th>\n",
       "      <th>BASKET_DOMINANT_MISSION</th>\n",
       "      <th>STORE_FORMAT</th>\n",
       "      <th>STORE_REGION</th>\n",
       "    </tr>\n",
       "  </thead>\n",
       "  <tbody>\n",
       "    <tr>\n",
       "      <td>0</td>\n",
       "      <td>13</td>\n",
       "      <td>1</td>\n",
       "      <td>103</td>\n",
       "      <td>5</td>\n",
       "      <td>20</td>\n",
       "      <td>CL00001</td>\n",
       "      <td>LA</td>\n",
       "      <td>YF</td>\n",
       "      <td>L</td>\n",
       "      <td>Fresh</td>\n",
       "      <td>LS</td>\n",
       "      <td>E02</td>\n",
       "    </tr>\n",
       "    <tr>\n",
       "      <td>1</td>\n",
       "      <td>12</td>\n",
       "      <td>1</td>\n",
       "      <td>28</td>\n",
       "      <td>4</td>\n",
       "      <td>19</td>\n",
       "      <td>CL00070</td>\n",
       "      <td>LA</td>\n",
       "      <td>YF</td>\n",
       "      <td>M</td>\n",
       "      <td>Fresh</td>\n",
       "      <td>LS</td>\n",
       "      <td>E02</td>\n",
       "    </tr>\n",
       "    <tr>\n",
       "      <td>2</td>\n",
       "      <td>13</td>\n",
       "      <td>3</td>\n",
       "      <td>84</td>\n",
       "      <td>5</td>\n",
       "      <td>20</td>\n",
       "      <td>CL00167</td>\n",
       "      <td>LA</td>\n",
       "      <td>YF</td>\n",
       "      <td>L</td>\n",
       "      <td>Fresh</td>\n",
       "      <td>LS</td>\n",
       "      <td>E02</td>\n",
       "    </tr>\n",
       "    <tr>\n",
       "      <td>3</td>\n",
       "      <td>12</td>\n",
       "      <td>1</td>\n",
       "      <td>221</td>\n",
       "      <td>4</td>\n",
       "      <td>19</td>\n",
       "      <td>CL00010</td>\n",
       "      <td>LA</td>\n",
       "      <td>YF</td>\n",
       "      <td>M</td>\n",
       "      <td>Fresh</td>\n",
       "      <td>LS</td>\n",
       "      <td>E02</td>\n",
       "    </tr>\n",
       "    <tr>\n",
       "      <td>4</td>\n",
       "      <td>13</td>\n",
       "      <td>1</td>\n",
       "      <td>334</td>\n",
       "      <td>5</td>\n",
       "      <td>20</td>\n",
       "      <td>CL00073</td>\n",
       "      <td>LA</td>\n",
       "      <td>YF</td>\n",
       "      <td>L</td>\n",
       "      <td>Fresh</td>\n",
       "      <td>LS</td>\n",
       "      <td>E02</td>\n",
       "    </tr>\n",
       "  </tbody>\n",
       "</table>\n",
       "</div>"
      ],
      "text/plain": [
       "   Date  QUANTITY  SPEND  SHOP_WEEKDAY  SHOP_HOUR PROD_CODE_10  \\\n",
       "0    13         1    103             5         20      CL00001   \n",
       "1    12         1     28             4         19      CL00070   \n",
       "2    13         3     84             5         20      CL00167   \n",
       "3    12         1    221             4         19      CL00010   \n",
       "4    13         1    334             5         20      CL00073   \n",
       "\n",
       "  CUST_PRICE_SENSITIVITY CUST_LIFESTAGE BASKET_SIZE BASKET_DOMINANT_MISSION  \\\n",
       "0                     LA             YF           L                   Fresh   \n",
       "1                     LA             YF           M                   Fresh   \n",
       "2                     LA             YF           L                   Fresh   \n",
       "3                     LA             YF           M                   Fresh   \n",
       "4                     LA             YF           L                   Fresh   \n",
       "\n",
       "  STORE_FORMAT STORE_REGION  \n",
       "0           LS          E02  \n",
       "1           LS          E02  \n",
       "2           LS          E02  \n",
       "3           LS          E02  \n",
       "4           LS          E02  "
      ]
     },
     "execution_count": 540,
     "metadata": {},
     "output_type": "execute_result"
    }
   ],
   "source": [
    "# Extracting Data to be used in exploration\n",
    "dataset_for_exploration = dataset[[\"Date\", \"QUANTITY\", \"SPEND\", \"SHOP_WEEKDAY\" ,\"SHOP_HOUR\",  \"PROD_CODE_10\", \"CUST_PRICE_SENSITIVITY\", \"CUST_LIFESTAGE\",\"BASKET_SIZE\",\"BASKET_DOMINANT_MISSION\", \"STORE_FORMAT\", \"STORE_REGION\"]]\n",
    "#viewing the data\n",
    "dataset_for_exploration.head()"
   ]
  },
  {
   "cell_type": "markdown",
   "metadata": {},
   "source": [
    "## Preparing data for Visualization"
   ]
  },
  {
   "cell_type": "markdown",
   "metadata": {},
   "source": [
    "### Step One: Deal With The Missing Values"
   ]
  },
  {
   "cell_type": "code",
   "execution_count": 541,
   "metadata": {},
   "outputs": [
    {
     "data": {
      "text/plain": [
       "Date                        0\n",
       "QUANTITY                    0\n",
       "SPEND                       0\n",
       "SHOP_WEEKDAY                0\n",
       "SHOP_HOUR                   0\n",
       "PROD_CODE_10                0\n",
       "CUST_PRICE_SENSITIVITY     46\n",
       "CUST_LIFESTAGE             46\n",
       "BASKET_SIZE                 0\n",
       "BASKET_DOMINANT_MISSION     0\n",
       "STORE_FORMAT                0\n",
       "STORE_REGION                0\n",
       "dtype: int64"
      ]
     },
     "execution_count": 541,
     "metadata": {},
     "output_type": "execute_result"
    }
   ],
   "source": [
    "#finding missing values\n",
    "dataset_for_exploration.isnull().sum()"
   ]
  },
  {
   "cell_type": "code",
   "execution_count": 542,
   "metadata": {},
   "outputs": [
    {
     "data": {
      "text/plain": [
       "array(['LA', 'MM', nan, 'UM'], dtype=object)"
      ]
     },
     "execution_count": 542,
     "metadata": {},
     "output_type": "execute_result"
    }
   ],
   "source": [
    "#exploring data with missing values\n",
    "#CUST_PRICE_SENSITIVITY\n",
    "#From the dataset description there is a category called XX which mean unclassified so we replave the nan with XX \n",
    "CUST_PRICE_SENSITIVITY_DATA = dataset_for_exploration[\"CUST_PRICE_SENSITIVITY\"].unique()\n",
    "CUST_PRICE_SENSITIVITY_DATA"
   ]
  },
  {
   "cell_type": "code",
   "execution_count": 543,
   "metadata": {},
   "outputs": [
    {
     "data": {
      "text/plain": [
       "array(['YF', 'OT', nan, 'OA', 'OF', 'YA'], dtype=object)"
      ]
     },
     "execution_count": 543,
     "metadata": {},
     "output_type": "execute_result"
    }
   ],
   "source": [
    "#exploring data with missing values\n",
    "#CUST_LIFESTAGE\n",
    "#From the dataset description there is a category called XX which mean unclassified so we replave the nan with XX \n",
    "CUST_LIFESTAGE_DATA = dataset_for_exploration[\"CUST_LIFESTAGE\"].unique()\n",
    "CUST_LIFESTAGE_DATA"
   ]
  },
  {
   "cell_type": "code",
   "execution_count": 544,
   "metadata": {},
   "outputs": [],
   "source": [
    "# replacing nan with XX in CUST_LIFESTAGE\n",
    "dataset_for_exploration[\"CUST_PRICE_SENSITIVITY\"].fillna(\"XX\",inplace=True)"
   ]
  },
  {
   "cell_type": "code",
   "execution_count": 545,
   "metadata": {},
   "outputs": [],
   "source": [
    "# replacing nan with XX in CUST_LIFESTAGE\n",
    "dataset_for_exploration[\"CUST_LIFESTAGE\"].fillna(\"XX\",inplace=True)"
   ]
  },
  {
   "cell_type": "code",
   "execution_count": 546,
   "metadata": {},
   "outputs": [
    {
     "data": {
      "text/plain": [
       "Date                       0\n",
       "QUANTITY                   0\n",
       "SPEND                      0\n",
       "SHOP_WEEKDAY               0\n",
       "SHOP_HOUR                  0\n",
       "PROD_CODE_10               0\n",
       "CUST_PRICE_SENSITIVITY     0\n",
       "CUST_LIFESTAGE             0\n",
       "BASKET_SIZE                0\n",
       "BASKET_DOMINANT_MISSION    0\n",
       "STORE_FORMAT               0\n",
       "STORE_REGION               0\n",
       "dtype: int64"
      ]
     },
     "execution_count": 546,
     "metadata": {},
     "output_type": "execute_result"
    }
   ],
   "source": [
    "# Check if we still have nulls\n",
    "dataset_for_exploration.isnull().sum()"
   ]
  },
  {
   "cell_type": "markdown",
   "metadata": {},
   "source": [
    "### Step Two: Replace With The Actual Names For The Variables"
   ]
  },
  {
   "cell_type": "code",
   "execution_count": 547,
   "metadata": {},
   "outputs": [
    {
     "data": {
      "text/plain": [
       "array(['Less Affluent', 'Mid Market', 'unclassified', 'Up Market'],\n",
       "      dtype=object)"
      ]
     },
     "execution_count": 547,
     "metadata": {},
     "output_type": "execute_result"
    }
   ],
   "source": [
    "#replace data point in CUST_PRICE_SENSITIVITY\n",
    "customer_price_sensitivity_dict = {\"LA\" : \"Less Affluent\",\"MM\" : \"Mid Market\", \"UM\" : \"Up Market\",\"XX\":\"unclassified\"}\n",
    "\n",
    "# Replace the values\n",
    "dataset_for_exploration[\"CUST_PRICE_SENSITIVITY\"].replace(customer_price_sensitivity_dict, inplace=True)\n",
    "\n",
    "# Display the data\n",
    "dataset_for_exploration[\"CUST_PRICE_SENSITIVITY\"].unique()"
   ]
  },
  {
   "cell_type": "code",
   "execution_count": 548,
   "metadata": {},
   "outputs": [
    {
     "data": {
      "text/plain": [
       "array(['Young Families', 'Other', 'unclassified', 'Older Adults',\n",
       "       'Older Families', 'Young Adults'], dtype=object)"
      ]
     },
     "execution_count": 548,
     "metadata": {},
     "output_type": "execute_result"
    }
   ],
   "source": [
    "#replace data point in CUST_LIFESTAGE\n",
    "customer_price_sensitivity_dict = {\"YA\":\"Young Adults\", \"OA\":\"Older Adults\", \"YF\":\"Young Families\", \n",
    "                                   \"OF\":\"Older Families\", \"PE\":\"Pensioners\", \"OT\":\"Other\", \"XX\":\"unclassified\"}\n",
    "\n",
    "# Replace the values\n",
    "dataset_for_exploration[\"CUST_LIFESTAGE\"].replace(customer_price_sensitivity_dict, inplace=True)\n",
    "\n",
    "# Display the data\n",
    "dataset_for_exploration[\"CUST_LIFESTAGE\"].unique()"
   ]
  },
  {
   "cell_type": "code",
   "execution_count": 549,
   "metadata": {},
   "outputs": [
    {
     "data": {
      "text/plain": [
       "array(['Large', 'Medium', 'Small'], dtype=object)"
      ]
     },
     "execution_count": 549,
     "metadata": {},
     "output_type": "execute_result"
    }
   ],
   "source": [
    "#replace data point in BASKET_SIZE\n",
    "basket_size_dict = {\"L\":\"Large\", \"M\":\"Medium\", \"S\":\"Small\"}\n",
    "\n",
    "# Replace the values\n",
    "dataset_for_exploration[\"BASKET_SIZE\"].replace(basket_size_dict, inplace=True)\n",
    "\n",
    "# Display the data\n",
    "dataset_for_exploration[\"BASKET_SIZE\"].unique()"
   ]
  },
  {
   "cell_type": "code",
   "execution_count": 550,
   "metadata": {},
   "outputs": [
    {
     "data": {
      "text/plain": [
       "array(['Thursday', 'Wednesday', 'Friday', 'Tuesday', 'Monday'],\n",
       "      dtype=object)"
      ]
     },
     "execution_count": 550,
     "metadata": {},
     "output_type": "execute_result"
    }
   ],
   "source": [
    "#replace data point in SHOP_WEEKDAY\n",
    "day_dictionary= {2:\"Monday\", 3:\"Tuesday\", 4:\"Wednesday\", 5:\"Thursday\", 6:\"Friday\", 7:\"Saturday\", 1:\"Sunday\"}\n",
    "\n",
    "# Replace the values\n",
    "dataset_for_exploration[\"SHOP_WEEKDAY\"].replace(day_dictionary, inplace=True)\n",
    "\n",
    "# Display the data\n",
    "dataset_for_exploration[\"SHOP_WEEKDAY\"].unique()"
   ]
  },
  {
   "cell_type": "code",
   "execution_count": 551,
   "metadata": {},
   "outputs": [
    {
     "data": {
      "text/html": [
       "<div>\n",
       "<style scoped>\n",
       "    .dataframe tbody tr th:only-of-type {\n",
       "        vertical-align: middle;\n",
       "    }\n",
       "\n",
       "    .dataframe tbody tr th {\n",
       "        vertical-align: top;\n",
       "    }\n",
       "\n",
       "    .dataframe thead th {\n",
       "        text-align: right;\n",
       "    }\n",
       "</style>\n",
       "<table border=\"1\" class=\"dataframe\">\n",
       "  <thead>\n",
       "    <tr style=\"text-align: right;\">\n",
       "      <th></th>\n",
       "      <th>Date</th>\n",
       "      <th>QUANTITY</th>\n",
       "      <th>SPEND</th>\n",
       "      <th>SHOP_WEEKDAY</th>\n",
       "      <th>SHOP_HOUR</th>\n",
       "      <th>PROD_CODE_10</th>\n",
       "      <th>CUST_PRICE_SENSITIVITY</th>\n",
       "      <th>CUST_LIFESTAGE</th>\n",
       "      <th>BASKET_SIZE</th>\n",
       "      <th>BASKET_DOMINANT_MISSION</th>\n",
       "      <th>STORE_FORMAT</th>\n",
       "      <th>STORE_REGION</th>\n",
       "    </tr>\n",
       "  </thead>\n",
       "  <tbody>\n",
       "    <tr>\n",
       "      <td>0</td>\n",
       "      <td>13</td>\n",
       "      <td>1</td>\n",
       "      <td>103</td>\n",
       "      <td>Thursday</td>\n",
       "      <td>20</td>\n",
       "      <td>CL00001</td>\n",
       "      <td>Less Affluent</td>\n",
       "      <td>Young Families</td>\n",
       "      <td>Large</td>\n",
       "      <td>Fresh</td>\n",
       "      <td>LS</td>\n",
       "      <td>E02</td>\n",
       "    </tr>\n",
       "    <tr>\n",
       "      <td>1</td>\n",
       "      <td>12</td>\n",
       "      <td>1</td>\n",
       "      <td>28</td>\n",
       "      <td>Wednesday</td>\n",
       "      <td>19</td>\n",
       "      <td>CL00070</td>\n",
       "      <td>Less Affluent</td>\n",
       "      <td>Young Families</td>\n",
       "      <td>Medium</td>\n",
       "      <td>Fresh</td>\n",
       "      <td>LS</td>\n",
       "      <td>E02</td>\n",
       "    </tr>\n",
       "    <tr>\n",
       "      <td>2</td>\n",
       "      <td>13</td>\n",
       "      <td>3</td>\n",
       "      <td>84</td>\n",
       "      <td>Thursday</td>\n",
       "      <td>20</td>\n",
       "      <td>CL00167</td>\n",
       "      <td>Less Affluent</td>\n",
       "      <td>Young Families</td>\n",
       "      <td>Large</td>\n",
       "      <td>Fresh</td>\n",
       "      <td>LS</td>\n",
       "      <td>E02</td>\n",
       "    </tr>\n",
       "    <tr>\n",
       "      <td>3</td>\n",
       "      <td>12</td>\n",
       "      <td>1</td>\n",
       "      <td>221</td>\n",
       "      <td>Wednesday</td>\n",
       "      <td>19</td>\n",
       "      <td>CL00010</td>\n",
       "      <td>Less Affluent</td>\n",
       "      <td>Young Families</td>\n",
       "      <td>Medium</td>\n",
       "      <td>Fresh</td>\n",
       "      <td>LS</td>\n",
       "      <td>E02</td>\n",
       "    </tr>\n",
       "    <tr>\n",
       "      <td>4</td>\n",
       "      <td>13</td>\n",
       "      <td>1</td>\n",
       "      <td>334</td>\n",
       "      <td>Thursday</td>\n",
       "      <td>20</td>\n",
       "      <td>CL00073</td>\n",
       "      <td>Less Affluent</td>\n",
       "      <td>Young Families</td>\n",
       "      <td>Large</td>\n",
       "      <td>Fresh</td>\n",
       "      <td>LS</td>\n",
       "      <td>E02</td>\n",
       "    </tr>\n",
       "  </tbody>\n",
       "</table>\n",
       "</div>"
      ],
      "text/plain": [
       "   Date  QUANTITY  SPEND SHOP_WEEKDAY  SHOP_HOUR PROD_CODE_10  \\\n",
       "0    13         1    103     Thursday         20      CL00001   \n",
       "1    12         1     28    Wednesday         19      CL00070   \n",
       "2    13         3     84     Thursday         20      CL00167   \n",
       "3    12         1    221    Wednesday         19      CL00010   \n",
       "4    13         1    334     Thursday         20      CL00073   \n",
       "\n",
       "  CUST_PRICE_SENSITIVITY  CUST_LIFESTAGE BASKET_SIZE BASKET_DOMINANT_MISSION  \\\n",
       "0          Less Affluent  Young Families       Large                   Fresh   \n",
       "1          Less Affluent  Young Families      Medium                   Fresh   \n",
       "2          Less Affluent  Young Families       Large                   Fresh   \n",
       "3          Less Affluent  Young Families      Medium                   Fresh   \n",
       "4          Less Affluent  Young Families       Large                   Fresh   \n",
       "\n",
       "  STORE_FORMAT STORE_REGION  \n",
       "0           LS          E02  \n",
       "1           LS          E02  \n",
       "2           LS          E02  \n",
       "3           LS          E02  \n",
       "4           LS          E02  "
      ]
     },
     "execution_count": 551,
     "metadata": {},
     "output_type": "execute_result"
    }
   ],
   "source": [
    "dataset_for_exploration.head()"
   ]
  },
  {
   "cell_type": "markdown",
   "metadata": {},
   "source": [
    "## Visualizing Data"
   ]
  },
  {
   "cell_type": "markdown",
   "metadata": {},
   "source": [
    "### a). Visualizing The Store Region With Respect To The Quantity Purchased And Other Variations"
   ]
  },
  {
   "cell_type": "markdown",
   "metadata": {},
   "source": [
    "#### a (1). Store Region vs Quantity"
   ]
  },
  {
   "cell_type": "markdown",
   "metadata": {},
   "source": [
    "Most quantity is bought in store region W01 and the least at store region 02"
   ]
  },
  {
   "cell_type": "code",
   "execution_count": 552,
   "metadata": {},
   "outputs": [
    {
     "name": "stdout",
     "output_type": "stream",
     "text": [
      "  STORE_REGION  QUANTITY\n",
      "0          E02        26\n",
      "1          N01        25\n",
      "2          N02        23\n",
      "3          N03        23\n",
      "4          S01        17\n",
      "5          S02         7\n",
      "6          S03        18\n",
      "7          W01        28\n",
      "8          W02        13\n"
     ]
    },
    {
     "data": {
      "image/png": "[encoded data removed]",
      "text/plain": [
       "<Figure size 1080x432 with 1 Axes>"
      ]
     },
     "metadata": {},
     "output_type": "display_data"
    }
   ],
   "source": [
    "# extracting data for visualization\n",
    "store_region_vs_quantity_data = dataset_for_exploration[[\"STORE_REGION\",\"QUANTITY\"]]\n",
    "store_region_vs_quantity_data = store_region_vs_quantity_data.groupby([\"STORE_REGION\"]).sum().reset_index()\n",
    "print(store_region_vs_quantity_data)\n",
    "\n",
    "sns.set(style =\"whitegrid\") \n",
    "fig, ax = plt.subplots(figsize=(15,6))\n",
    "ax = sns.barplot(x= \"STORE_REGION\", y= \"QUANTITY\", data = store_region_vs_quantity_data)\n",
    "ax.set_title(\"Distribution of Quantity Bought In Each Store Region\",fontsize = 20)\n",
    "plt.show()"
   ]
  },
  {
   "cell_type": "markdown",
   "metadata": {},
   "source": [
    "#### a (2). Store Region vs Quantity vs week day"
   ]
  },
  {
   "cell_type": "code",
   "execution_count": 553,
   "metadata": {},
   "outputs": [
    {
     "data": {
      "text/html": [
       "<div>\n",
       "<style scoped>\n",
       "    .dataframe tbody tr th:only-of-type {\n",
       "        vertical-align: middle;\n",
       "    }\n",
       "\n",
       "    .dataframe tbody tr th {\n",
       "        vertical-align: top;\n",
       "    }\n",
       "\n",
       "    .dataframe thead th {\n",
       "        text-align: right;\n",
       "    }\n",
       "</style>\n",
       "<table border=\"1\" class=\"dataframe\">\n",
       "  <thead>\n",
       "    <tr style=\"text-align: right;\">\n",
       "      <th></th>\n",
       "      <th>SHOP_WEEKDAY</th>\n",
       "      <th>COUNT</th>\n",
       "    </tr>\n",
       "  </thead>\n",
       "  <tbody>\n",
       "    <tr>\n",
       "      <td>0</td>\n",
       "      <td>Wednesday</td>\n",
       "      <td>41</td>\n",
       "    </tr>\n",
       "    <tr>\n",
       "      <td>1</td>\n",
       "      <td>Thursday</td>\n",
       "      <td>28</td>\n",
       "    </tr>\n",
       "    <tr>\n",
       "      <td>2</td>\n",
       "      <td>Friday</td>\n",
       "      <td>22</td>\n",
       "    </tr>\n",
       "    <tr>\n",
       "      <td>3</td>\n",
       "      <td>Monday</td>\n",
       "      <td>17</td>\n",
       "    </tr>\n",
       "    <tr>\n",
       "      <td>4</td>\n",
       "      <td>Tuesday</td>\n",
       "      <td>11</td>\n",
       "    </tr>\n",
       "  </tbody>\n",
       "</table>\n",
       "</div>"
      ],
      "text/plain": [
       "  SHOP_WEEKDAY  COUNT\n",
       "0    Wednesday     41\n",
       "1     Thursday     28\n",
       "2       Friday     22\n",
       "3       Monday     17\n",
       "4      Tuesday     11"
      ]
     },
     "execution_count": 553,
     "metadata": {},
     "output_type": "execute_result"
    }
   ],
   "source": [
    "#exploring weekday data\n",
    "\n",
    "# extracting data for visualization\n",
    "week_day_data  = dataset_for_exploration[\"SHOP_WEEKDAY\"].value_counts().rename_axis(\"SHOP_WEEKDAY\").reset_index(name=\"COUNT\")\n",
    "week_day_data \n"
   ]
  },
  {
   "cell_type": "code",
   "execution_count": 554,
   "metadata": {},
   "outputs": [
    {
     "data": {
      "image/png": "[encoded data removed]",
      "text/plain": [
       "<Figure size 432x432 with 1 Axes>"
      ]
     },
     "metadata": {},
     "output_type": "display_data"
    }
   ],
   "source": [
    "# Visualizing the distribution of week days\n",
    "\n",
    "sns.set(style =\"whitegrid\") \n",
    "fig, ax = plt.subplots(figsize=(6,6))\n",
    "ax = sns.barplot(x= \"SHOP_WEEKDAY\", y= \"COUNT\", data = week_day_data)\n",
    "ax.set_title(\"Distribution of days of the week\",fontsize = 20)\n",
    "plt.show()"
   ]
  },
  {
   "cell_type": "markdown",
   "metadata": {},
   "source": [
    "### Insights:\n",
    "         Wednesday had the most days followed by thurday\n",
    "         Tuesday had the least days in that period"
   ]
  },
  {
   "cell_type": "code",
   "execution_count": 555,
   "metadata": {},
   "outputs": [
    {
     "name": "stdout",
     "output_type": "stream",
     "text": [
      "   STORE_REGION SHOP_WEEKDAY  QUANTITY\n",
      "0           E02     Thursday        18\n",
      "1           E02    Wednesday         8\n",
      "2           N01       Friday         4\n",
      "3           N01     Thursday        21\n",
      "4           N02       Monday        23\n",
      "5           N03     Thursday         2\n",
      "6           N03    Wednesday        21\n",
      "7           S01     Thursday         1\n",
      "8           S01      Tuesday         3\n",
      "9           S01    Wednesday        13\n",
      "10          S02    Wednesday         7\n",
      "11          S03       Monday         3\n",
      "12          S03    Wednesday        15\n",
      "13          W01       Friday        24\n",
      "14          W01      Tuesday         4\n",
      "15          W02       Friday         7\n",
      "16          W02      Tuesday         6\n"
     ]
    },
    {
     "data": {
      "image/png": "[encoded data removed]",
      "text/plain": [
       "<Figure size 1080x432 with 1 Axes>"
      ]
     },
     "metadata": {},
     "output_type": "display_data"
    }
   ],
   "source": [
    "# extracting data for visualization\n",
    "store_region_vs_quantity_data_and_week_day = dataset_for_exploration[[\"STORE_REGION\",\"QUANTITY\",\"SHOP_WEEKDAY\"]]\n",
    "store_region_vs_quantity_data_and_week_day = store_region_vs_quantity_data_and_week_day.groupby([\"STORE_REGION\",\"SHOP_WEEKDAY\"]).sum().reset_index()\n",
    "print(store_region_vs_quantity_data_and_week_day)\n",
    "\n",
    "#plotting the bar graph\n",
    "sns.set(style =\"whitegrid\") \n",
    "fig, ax = plt.subplots(figsize=(15,6))\n",
    "ax = sns.barplot(x= \"STORE_REGION\", y= \"QUANTITY\",hue= \"SHOP_WEEKDAY\", data = store_region_vs_quantity_data_and_week_day)\n",
    "ax.set_title(\"Distribution of Quantity Bought In Each Store Region and day of the week\",fontsize = 20)\n",
    "plt.show()"
   ]
  },
  {
   "cell_type": "markdown",
   "metadata": {},
   "source": [
    "#### Insights:\n",
    "\n",
    "    People in region N02 shopped on Monday only\n",
    "    In region W01 they shopped on Friday and Tuesday but heavily on Friday\n",
    "    In region E02 they shopped heavily on Thursday as compare to Werdnesday\n",
    "    It is only in Shop region S01 they shoped thrice and \n",
    "    Shopped once in store region S02 on Wednesday and N02 on Monday"
   ]
  },
  {
   "cell_type": "markdown",
   "metadata": {},
   "source": [
    "#### a (3). Store Region vs Quantity vs basket size"
   ]
  },
  {
   "cell_type": "code",
   "execution_count": 556,
   "metadata": {},
   "outputs": [
    {
     "data": {
      "text/html": [
       "<div>\n",
       "<style scoped>\n",
       "    .dataframe tbody tr th:only-of-type {\n",
       "        vertical-align: middle;\n",
       "    }\n",
       "\n",
       "    .dataframe tbody tr th {\n",
       "        vertical-align: top;\n",
       "    }\n",
       "\n",
       "    .dataframe thead th {\n",
       "        text-align: right;\n",
       "    }\n",
       "</style>\n",
       "<table border=\"1\" class=\"dataframe\">\n",
       "  <thead>\n",
       "    <tr style=\"text-align: right;\">\n",
       "      <th></th>\n",
       "      <th>BASKET_SIZE</th>\n",
       "      <th>COUNT</th>\n",
       "    </tr>\n",
       "  </thead>\n",
       "  <tbody>\n",
       "    <tr>\n",
       "      <td>0</td>\n",
       "      <td>Large</td>\n",
       "      <td>83</td>\n",
       "    </tr>\n",
       "    <tr>\n",
       "      <td>1</td>\n",
       "      <td>Medium</td>\n",
       "      <td>30</td>\n",
       "    </tr>\n",
       "    <tr>\n",
       "      <td>2</td>\n",
       "      <td>Small</td>\n",
       "      <td>6</td>\n",
       "    </tr>\n",
       "  </tbody>\n",
       "</table>\n",
       "</div>"
      ],
      "text/plain": [
       "  BASKET_SIZE  COUNT\n",
       "0       Large     83\n",
       "1      Medium     30\n",
       "2       Small      6"
      ]
     },
     "execution_count": 556,
     "metadata": {},
     "output_type": "execute_result"
    }
   ],
   "source": [
    "#exploring basket size\n",
    "basket_size_data = dataset_for_exploration[\"BASKET_SIZE\"].value_counts().rename_axis(\"BASKET_SIZE\").reset_index(name=\"COUNT\")\n",
    "basket_size_data"
   ]
  },
  {
   "cell_type": "code",
   "execution_count": 557,
   "metadata": {},
   "outputs": [
    {
     "data": {
      "text/plain": [
       "<matplotlib.legend.Legend at 0x26503a52648>"
      ]
     },
     "execution_count": 557,
     "metadata": {},
     "output_type": "execute_result"
    },
    {
     "data": {
      "image/png": "[encoded data removed]",
      "text/plain": [
       "<Figure size 432x288 with 1 Axes>"
      ]
     },
     "metadata": {},
     "output_type": "display_data"
    }
   ],
   "source": [
    "fig, ax = plt.subplots()\n",
    "\n",
    "#setting font size\n",
    "plt.rcParams['font.size']=12\n",
    "\n",
    "#defining the labels\n",
    "labels = [\"Large\", \"Medium\", \"Small\"]\n",
    "\n",
    "\n",
    "#setting explode settings\n",
    "explode=(0.1,0,0)\n",
    "\n",
    "#Plotting the pie graph\n",
    "ax.pie(basket_size_data[\"COUNT\"], explode=explode, labels=labels\n",
    "       , autopct='%1.0f%%', \n",
    "       shadow=True, startangle=90,   \n",
    "       pctdistance=1.6,labeldistance=1.4)\n",
    "\n",
    "ax.axis('equal')\n",
    "ax.set_title(\"Basket Size Proportions\")\n",
    "ax.legend(frameon=False, bbox_to_anchor=(1.5,0.8))"
   ]
  },
  {
   "cell_type": "markdown",
   "metadata": {},
   "source": [
    "### Insights:\n",
    "         The large baskest were the most used in shoping"
   ]
  },
  {
   "cell_type": "code",
   "execution_count": 558,
   "metadata": {},
   "outputs": [
    {
     "name": "stdout",
     "output_type": "stream",
     "text": [
      "   STORE_REGION BASKET_SIZE  QUANTITY\n",
      "0           E02       Large        18\n",
      "1           E02      Medium         8\n",
      "2           N01       Large        21\n",
      "3           N01      Medium         4\n",
      "4           N02       Large        23\n",
      "5           N03       Large        21\n",
      "6           N03       Small         2\n",
      "7           S01       Large        13\n",
      "8           S01      Medium         3\n",
      "9           S01       Small         1\n",
      "10          S02      Medium         7\n",
      "11          S03       Large        14\n",
      "12          S03      Medium         3\n",
      "13          S03       Small         1\n",
      "14          W01       Large        24\n",
      "15          W01      Medium         4\n",
      "16          W02      Medium        11\n",
      "17          W02       Small         2\n"
     ]
    },
    {
     "data": {
      "image/png": "[encoded data removed]",
      "text/plain": [
       "<Figure size 1080x432 with 1 Axes>"
      ]
     },
     "metadata": {},
     "output_type": "display_data"
    }
   ],
   "source": [
    "# extracting data for visualization\n",
    "store_region_vs_quantity_data_and_basket_size= dataset_for_exploration[[\"STORE_REGION\",\"QUANTITY\",\"BASKET_SIZE\"]]\n",
    "store_region_vs_quantity_data_and_basket_size = store_region_vs_quantity_data_and_basket_size.groupby([\"STORE_REGION\",\"BASKET_SIZE\"]).sum().reset_index()\n",
    "print(store_region_vs_quantity_data_and_basket_size)\n",
    "\n",
    "#plotting the bar graph\n",
    "sns.set(style =\"whitegrid\") \n",
    "fig, ax = plt.subplots(figsize=(15,6))\n",
    "ax = sns.barplot(x= \"STORE_REGION\", y= \"QUANTITY\",hue= \"BASKET_SIZE\", data = store_region_vs_quantity_data_and_basket_size)\n",
    "ax.set_title(\"Distribution of Quantity Bought In Each Store Region \\n and size of basket used to shop\",fontsize = 20)\n",
    "plt.show()"
   ]
  },
  {
   "cell_type": "markdown",
   "metadata": {},
   "source": [
    "### Insights:\n",
    "        The large basket was mostly used followed by medium then small\n",
    "        A medium basket size was used in store region S02\n",
    "        A large basket size was used in store region N02\n",
    "        The large basket size was used in mostv regions as compared to the other basket sizes\n",
    "        "
   ]
  },
  {
   "cell_type": "markdown",
   "metadata": {},
   "source": [
    "#### a (4). Store Region vs Quantity vs shop hour"
   ]
  },
  {
   "cell_type": "code",
   "execution_count": 559,
   "metadata": {},
   "outputs": [
    {
     "data": {
      "text/html": [
       "<div>\n",
       "<style scoped>\n",
       "    .dataframe tbody tr th:only-of-type {\n",
       "        vertical-align: middle;\n",
       "    }\n",
       "\n",
       "    .dataframe tbody tr th {\n",
       "        vertical-align: top;\n",
       "    }\n",
       "\n",
       "    .dataframe thead th {\n",
       "        text-align: right;\n",
       "    }\n",
       "</style>\n",
       "<table border=\"1\" class=\"dataframe\">\n",
       "  <thead>\n",
       "    <tr style=\"text-align: right;\">\n",
       "      <th></th>\n",
       "      <th>SHOP_HOUR</th>\n",
       "      <th>COUNT</th>\n",
       "    </tr>\n",
       "  </thead>\n",
       "  <tbody>\n",
       "    <tr>\n",
       "      <td>0</td>\n",
       "      <td>15</td>\n",
       "      <td>31</td>\n",
       "    </tr>\n",
       "    <tr>\n",
       "      <td>1</td>\n",
       "      <td>8</td>\n",
       "      <td>19</td>\n",
       "    </tr>\n",
       "    <tr>\n",
       "      <td>2</td>\n",
       "      <td>13</td>\n",
       "      <td>16</td>\n",
       "    </tr>\n",
       "    <tr>\n",
       "      <td>3</td>\n",
       "      <td>9</td>\n",
       "      <td>16</td>\n",
       "    </tr>\n",
       "    <tr>\n",
       "      <td>4</td>\n",
       "      <td>20</td>\n",
       "      <td>15</td>\n",
       "    </tr>\n",
       "    <tr>\n",
       "      <td>5</td>\n",
       "      <td>19</td>\n",
       "      <td>8</td>\n",
       "    </tr>\n",
       "    <tr>\n",
       "      <td>6</td>\n",
       "      <td>12</td>\n",
       "      <td>6</td>\n",
       "    </tr>\n",
       "    <tr>\n",
       "      <td>7</td>\n",
       "      <td>16</td>\n",
       "      <td>4</td>\n",
       "    </tr>\n",
       "    <tr>\n",
       "      <td>8</td>\n",
       "      <td>10</td>\n",
       "      <td>4</td>\n",
       "    </tr>\n",
       "  </tbody>\n",
       "</table>\n",
       "</div>"
      ],
      "text/plain": [
       "   SHOP_HOUR  COUNT\n",
       "0         15     31\n",
       "1          8     19\n",
       "2         13     16\n",
       "3          9     16\n",
       "4         20     15\n",
       "5         19      8\n",
       "6         12      6\n",
       "7         16      4\n",
       "8         10      4"
      ]
     },
     "execution_count": 559,
     "metadata": {},
     "output_type": "execute_result"
    }
   ],
   "source": [
    "#exploring shop hour\n",
    "shop_hour_data = dataset_for_exploration[\"SHOP_HOUR\"].value_counts().rename_axis(\"SHOP_HOUR\").reset_index(name=\"COUNT\")\n",
    "shop_hour_data"
   ]
  },
  {
   "cell_type": "code",
   "execution_count": 560,
   "metadata": {},
   "outputs": [
    {
     "data": {
      "image/png": "[encoded data removed]",
      "text/plain": [
       "<Figure size 432x432 with 1 Axes>"
      ]
     },
     "metadata": {},
     "output_type": "display_data"
    }
   ],
   "source": [
    "# Visualizing the distribution of shop hour\n",
    "\n",
    "sns.set(style =\"whitegrid\") \n",
    "fig, ax = plt.subplots(figsize=(6,6))\n",
    "ax = sns.barplot(x= \"SHOP_HOUR\", y= \"COUNT\", data = shop_hour_data )\n",
    "ax.set_title(\"Distribution of shop hours\",fontsize = 20)\n",
    "plt.show()"
   ]
  },
  {
   "cell_type": "markdown",
   "metadata": {},
   "source": [
    "### Insights:\n",
    "         The supermarket seems to be so busy at 3pm and les busy at 10 am.\n",
    "         The supermarket is busy between:\n",
    "                 8 am and 10 am\n",
    "                 12 noon and 4 pm\n",
    "                 7 pm and 8 pm"
   ]
  },
  {
   "cell_type": "code",
   "execution_count": 561,
   "metadata": {},
   "outputs": [
    {
     "name": "stdout",
     "output_type": "stream",
     "text": [
      "   STORE_REGION  SHOP_HOUR  QUANTITY\n",
      "0           E02         19         8\n",
      "1           E02         20        18\n",
      "2           N01          8        21\n",
      "3           N01         19         4\n",
      "4           N02          9        23\n",
      "5           N03         15        23\n",
      "6           S01         10         3\n",
      "7           S01         13        13\n",
      "8           S01         16         1\n",
      "9           S02         20         7\n",
      "10          S03         10         3\n",
      "11          S03         12        14\n",
      "12          S03         13         1\n",
      "13          W01         15        28\n",
      "14          W02          8         2\n",
      "15          W02         13         6\n",
      "16          W02         16         5\n"
     ]
    },
    {
     "data": {
      "image/png": "[encoded data removed]",
      "text/plain": [
       "<Figure size 1080x432 with 1 Axes>"
      ]
     },
     "metadata": {},
     "output_type": "display_data"
    }
   ],
   "source": [
    "# extracting data for visualization\n",
    "store_region_vs_quantity_data_and_shop_hour= dataset_for_exploration[[\"STORE_REGION\",\"QUANTITY\",\"SHOP_HOUR\"]]\n",
    "store_region_vs_quantity_data_and_shop_hour = store_region_vs_quantity_data_and_shop_hour.groupby([\"STORE_REGION\",\"SHOP_HOUR\"]).sum().reset_index()\n",
    "print(store_region_vs_quantity_data_and_shop_hour)\n",
    "\n",
    "#plotting the bar graph\n",
    "sns.set(style =\"whitegrid\") \n",
    "fig, ax = plt.subplots(figsize=(15,6))\n",
    "ax = sns.barplot(x= \"STORE_REGION\", y= \"QUANTITY\",hue= \"SHOP_HOUR\", data = store_region_vs_quantity_data_and_shop_hour)\n",
    "ax.set_title(\"Distribution of Quantity Bought In Each Store Region \\n and The Hour It Was Shopped\",fontsize = 20)\n",
    "plt.show()"
   ]
  },
  {
   "cell_type": "markdown",
   "metadata": {},
   "source": [
    "### Insights:\n",
    "    In region E02 customers shopped between 7 pm to 8 pm\n",
    "    In region N01 customers shopped at 8 am and 7 pm\n",
    "    In region N02 cutomers shopped at  9 am\n",
    "    In region N03 cutomers shopped at  3 pm\n",
    "    In region S01 cutomers shopped at  10 am, 1 pm and 4 pm\n",
    "    In region S02 cutomers shopped at  8 pm\n",
    "    In region S03 cutomers shopped at  10 am, 12 noon and 3 pm\n",
    "    In region W01 cutomers shopped at  3 pmIn region S01 cutomers shopped at  10 am, 1pm and 4pm\n",
    "    In region W02 cutomers shopped at  8 am, 1pm and 4pm\n",
    "    \n",
    "    The largest quantity  bought was at store region W01 at 3 pm and the smallest at store region S01 at 4 pm and at store     region S03 at 1 pm\n",
    "    "
   ]
  },
  {
   "cell_type": "markdown",
   "metadata": {},
   "source": [
    "#### a (5). Store Region vs Quantity vs customer price sensitivity"
   ]
  },
  {
   "cell_type": "code",
   "execution_count": 562,
   "metadata": {},
   "outputs": [
    {
     "data": {
      "text/html": [
       "<div>\n",
       "<style scoped>\n",
       "    .dataframe tbody tr th:only-of-type {\n",
       "        vertical-align: middle;\n",
       "    }\n",
       "\n",
       "    .dataframe tbody tr th {\n",
       "        vertical-align: top;\n",
       "    }\n",
       "\n",
       "    .dataframe thead th {\n",
       "        text-align: right;\n",
       "    }\n",
       "</style>\n",
       "<table border=\"1\" class=\"dataframe\">\n",
       "  <thead>\n",
       "    <tr style=\"text-align: right;\">\n",
       "      <th></th>\n",
       "      <th>CUST_PRICE_SENSITIVITY</th>\n",
       "      <th>COUNT</th>\n",
       "    </tr>\n",
       "  </thead>\n",
       "  <tbody>\n",
       "    <tr>\n",
       "      <td>0</td>\n",
       "      <td>unclassified</td>\n",
       "      <td>46</td>\n",
       "    </tr>\n",
       "    <tr>\n",
       "      <td>1</td>\n",
       "      <td>Less Affluent</td>\n",
       "      <td>42</td>\n",
       "    </tr>\n",
       "    <tr>\n",
       "      <td>2</td>\n",
       "      <td>Mid Market</td>\n",
       "      <td>27</td>\n",
       "    </tr>\n",
       "    <tr>\n",
       "      <td>3</td>\n",
       "      <td>Up Market</td>\n",
       "      <td>4</td>\n",
       "    </tr>\n",
       "  </tbody>\n",
       "</table>\n",
       "</div>"
      ],
      "text/plain": [
       "  CUST_PRICE_SENSITIVITY  COUNT\n",
       "0           unclassified     46\n",
       "1          Less Affluent     42\n",
       "2             Mid Market     27\n",
       "3              Up Market      4"
      ]
     },
     "execution_count": 562,
     "metadata": {},
     "output_type": "execute_result"
    }
   ],
   "source": [
    "#exploring customer price sensitivity\n",
    "customer_price_sensitivity_data = dataset_for_exploration[\"CUST_PRICE_SENSITIVITY\"].value_counts().rename_axis(\"CUST_PRICE_SENSITIVITY\").reset_index(name=\"COUNT\")\n",
    "customer_price_sensitivity_data"
   ]
  },
  {
   "cell_type": "code",
   "execution_count": 563,
   "metadata": {},
   "outputs": [
    {
     "data": {
      "image/png": "[encoded data removed]",
      "text/plain": [
       "<Figure size 360x432 with 1 Axes>"
      ]
     },
     "metadata": {},
     "output_type": "display_data"
    }
   ],
   "source": [
    "# Visualizing the distribution of customer price sensitivity\n",
    "\n",
    "sns.set(style =\"whitegrid\") \n",
    "fig, ax = plt.subplots(figsize=(5,6))\n",
    "ax = sns.barplot(x= \"CUST_PRICE_SENSITIVITY\", y= \"COUNT\", data = customer_price_sensitivity_data )\n",
    "ax.set_title(\"Distribution of customer price sensitivity\",fontsize = 20)\n",
    "plt.show()"
   ]
  },
  {
   "cell_type": "markdown",
   "metadata": {},
   "source": [
    "### Insights:\n",
    "      People in the unclassified customer price sensitivity bracket appear to shop more often than the others"
   ]
  },
  {
   "cell_type": "code",
   "execution_count": 564,
   "metadata": {},
   "outputs": [
    {
     "name": "stdout",
     "output_type": "stream",
     "text": [
      "   STORE_REGION CUST_PRICE_SENSITIVITY  QUANTITY\n",
      "0           E02          Less Affluent        26\n",
      "1           N01          Less Affluent         4\n",
      "2           N01             Mid Market        21\n",
      "3           N02           unclassified        23\n",
      "4           N03          Less Affluent         2\n",
      "5           N03           unclassified        21\n",
      "6           S01              Up Market         4\n",
      "7           S01           unclassified        13\n",
      "8           S02           unclassified         7\n",
      "9           S03          Less Affluent         4\n",
      "10          S03             Mid Market        14\n",
      "11          W01          Less Affluent        28\n",
      "12          W02          Less Affluent         7\n",
      "13          W02             Mid Market         6\n"
     ]
    },
    {
     "data": {
      "image/png": "[encoded data removed]",
      "text/plain": [
       "<Figure size 1080x432 with 1 Axes>"
      ]
     },
     "metadata": {},
     "output_type": "display_data"
    }
   ],
   "source": [
    "# extracting data for visualization\n",
    "store_region_vs_quantity_data_and_Customer_Price_Sensitivity= dataset_for_exploration[[\"STORE_REGION\",\"QUANTITY\",\"CUST_PRICE_SENSITIVITY\"]]\n",
    "store_region_vs_quantity_data_and_Customer_Price_Sensitivity = store_region_vs_quantity_data_and_Customer_Price_Sensitivity.groupby([\"STORE_REGION\",\"CUST_PRICE_SENSITIVITY\"]).sum().reset_index()\n",
    "print(store_region_vs_quantity_data_and_Customer_Price_Sensitivity)\n",
    "\n",
    "#plotting the bar graph\n",
    "sns.set(style =\"whitegrid\") \n",
    "fig, ax = plt.subplots(figsize=(15,6))\n",
    "ax = sns.barplot(x= \"STORE_REGION\", y= \"QUANTITY\",hue= \"CUST_PRICE_SENSITIVITY\", data = store_region_vs_quantity_data_and_Customer_Price_Sensitivity)\n",
    "ax.set_title(\"Distribution of Quantity Bought In Each Store Region \\n and Customer Price Sensitivity Bracket\",fontsize = 20)\n",
    "plt.show()"
   ]
  },
  {
   "cell_type": "markdown",
   "metadata": {},
   "source": [
    "### Insights:\n",
    "        Unclassified: N02, N03,S03,W02\n",
    "        Less Affluent: W01, W02, E02, N01, N03,S03\n",
    "        Mid Market: N01, S03, W02\n",
    "        Up Market: S01"
   ]
  },
  {
   "cell_type": "markdown",
   "metadata": {},
   "source": [
    "#### a (6). Store Region vs Quantity vs Basket Dominant Mission"
   ]
  },
  {
   "cell_type": "code",
   "execution_count": 565,
   "metadata": {},
   "outputs": [
    {
     "data": {
      "text/html": [
       "<div>\n",
       "<style scoped>\n",
       "    .dataframe tbody tr th:only-of-type {\n",
       "        vertical-align: middle;\n",
       "    }\n",
       "\n",
       "    .dataframe tbody tr th {\n",
       "        vertical-align: top;\n",
       "    }\n",
       "\n",
       "    .dataframe thead th {\n",
       "        text-align: right;\n",
       "    }\n",
       "</style>\n",
       "<table border=\"1\" class=\"dataframe\">\n",
       "  <thead>\n",
       "    <tr style=\"text-align: right;\">\n",
       "      <th></th>\n",
       "      <th>BASKET_DOMINANT_MISSION</th>\n",
       "      <th>COUNT</th>\n",
       "    </tr>\n",
       "  </thead>\n",
       "  <tbody>\n",
       "    <tr>\n",
       "      <td>0</td>\n",
       "      <td>Fresh</td>\n",
       "      <td>64</td>\n",
       "    </tr>\n",
       "    <tr>\n",
       "      <td>1</td>\n",
       "      <td>Mixed</td>\n",
       "      <td>37</td>\n",
       "    </tr>\n",
       "    <tr>\n",
       "      <td>2</td>\n",
       "      <td>Nonfood</td>\n",
       "      <td>9</td>\n",
       "    </tr>\n",
       "    <tr>\n",
       "      <td>3</td>\n",
       "      <td>Grocery</td>\n",
       "      <td>9</td>\n",
       "    </tr>\n",
       "  </tbody>\n",
       "</table>\n",
       "</div>"
      ],
      "text/plain": [
       "  BASKET_DOMINANT_MISSION  COUNT\n",
       "0                   Fresh     64\n",
       "1                   Mixed     37\n",
       "2                 Nonfood      9\n",
       "3                 Grocery      9"
      ]
     },
     "execution_count": 565,
     "metadata": {},
     "output_type": "execute_result"
    }
   ],
   "source": [
    "#exploring basket dominant mission\n",
    "basket_dominant_mission_data = dataset_for_exploration[\"BASKET_DOMINANT_MISSION\"].value_counts().rename_axis(\"BASKET_DOMINANT_MISSION\").reset_index(name=\"COUNT\")\n",
    "basket_dominant_mission_data"
   ]
  },
  {
   "cell_type": "code",
   "execution_count": 566,
   "metadata": {},
   "outputs": [
    {
     "data": {
      "image/png": "[encoded data removed]",
      "text/plain": [
       "<Figure size 360x432 with 1 Axes>"
      ]
     },
     "metadata": {},
     "output_type": "display_data"
    }
   ],
   "source": [
    "# Visualizing the distribution of basket dominant mission\n",
    "\n",
    "sns.set(style =\"whitegrid\") \n",
    "fig, ax = plt.subplots(figsize=(5,6))\n",
    "ax = sns.barplot(x= \"BASKET_DOMINANT_MISSION\", y= \"COUNT\", data = basket_dominant_mission_data )\n",
    "ax.set_title(\"Distribution of basket dominant mission\",fontsize = 20)\n",
    "plt.show()"
   ]
  },
  {
   "cell_type": "markdown",
   "metadata": {},
   "source": [
    "### Insights:\n",
    "        Fresh food was bought mostly\n",
    "        Non food was bought least"
   ]
  },
  {
   "cell_type": "code",
   "execution_count": 567,
   "metadata": {},
   "outputs": [
    {
     "name": "stdout",
     "output_type": "stream",
     "text": [
      "   STORE_REGION BASKET_DOMINANT_MISSION  QUANTITY\n",
      "0           E02                   Fresh        26\n",
      "1           N01                 Grocery         4\n",
      "2           N01                   Mixed        21\n",
      "3           N02                   Mixed        23\n",
      "4           N03                   Fresh        23\n",
      "5           S01                   Fresh        14\n",
      "6           S01                 Nonfood         3\n",
      "7           S02                   Fresh         7\n",
      "8           S03                   Fresh         1\n",
      "9           S03                 Grocery         3\n",
      "10          S03                 Nonfood        14\n",
      "11          W01                   Fresh        24\n",
      "12          W01                   Mixed         4\n",
      "13          W02                   Fresh         7\n",
      "14          W02                 Grocery         6\n"
     ]
    },
    {
     "data": {
      "image/png": "[encoded data removed]",
      "text/plain": [
       "<Figure size 1080x432 with 1 Axes>"
      ]
     },
     "metadata": {},
     "output_type": "display_data"
    }
   ],
   "source": [
    "# extracting data for visualization\n",
    "store_region_vs_quantity_data_and_basket_dominant_mission= dataset_for_exploration[[\"STORE_REGION\",\"QUANTITY\",\"BASKET_DOMINANT_MISSION\"]]\n",
    "store_region_vs_quantity_data_and_basket_dominant_mission = store_region_vs_quantity_data_and_basket_dominant_mission.groupby([\"STORE_REGION\",\"BASKET_DOMINANT_MISSION\"]).sum().reset_index()\n",
    "print(store_region_vs_quantity_data_and_basket_dominant_mission)\n",
    "\n",
    "#plotting the bar graph\n",
    "sns.set(style =\"whitegrid\") \n",
    "fig, ax = plt.subplots(figsize=(15,6))\n",
    "ax = sns.barplot(x= \"STORE_REGION\", y= \"QUANTITY\",hue= \"BASKET_DOMINANT_MISSION\", data = store_region_vs_quantity_data_and_basket_dominant_mission)\n",
    "ax.set_title(\"Distribution of Quantity Bought In Each Store Region \\n and Basket Dominant Mission\",fontsize = 20)\n",
    "plt.show()"
   ]
  },
  {
   "cell_type": "markdown",
   "metadata": {},
   "source": [
    "### Insights:\n",
    "    E02: Fresh food\n",
    "    N01: Mixed, Groceries\n",
    "    N02: Mixed\n",
    "    N03: Fresh\n",
    "    S01: Fresh, NonFood\n",
    "    S02: Fresh\n",
    "    S03: Groceries, Fresh, NonFood\n",
    "    W01: Fresh, Mixed\n",
    "    W02: Grocery, Fresh"
   ]
  },
  {
   "cell_type": "markdown",
   "metadata": {},
   "source": [
    "### b). Visualizing The Store Region With Respect To The Spend Purchased And Other Variations"
   ]
  },
  {
   "cell_type": "markdown",
   "metadata": {},
   "source": [
    "#### b (1). Store Region vs Spend"
   ]
  },
  {
   "cell_type": "code",
   "execution_count": 568,
   "metadata": {},
   "outputs": [
    {
     "data": {
      "text/html": [
       "<div>\n",
       "<style scoped>\n",
       "    .dataframe tbody tr th:only-of-type {\n",
       "        vertical-align: middle;\n",
       "    }\n",
       "\n",
       "    .dataframe tbody tr th {\n",
       "        vertical-align: top;\n",
       "    }\n",
       "\n",
       "    .dataframe thead th {\n",
       "        text-align: right;\n",
       "    }\n",
       "</style>\n",
       "<table border=\"1\" class=\"dataframe\">\n",
       "  <thead>\n",
       "    <tr style=\"text-align: right;\">\n",
       "      <th></th>\n",
       "      <th>SPEND</th>\n",
       "      <th>COUNT</th>\n",
       "    </tr>\n",
       "  </thead>\n",
       "  <tbody>\n",
       "    <tr>\n",
       "      <td>0</td>\n",
       "      <td>101</td>\n",
       "      <td>4</td>\n",
       "    </tr>\n",
       "    <tr>\n",
       "      <td>1</td>\n",
       "      <td>154</td>\n",
       "      <td>3</td>\n",
       "    </tr>\n",
       "    <tr>\n",
       "      <td>2</td>\n",
       "      <td>92</td>\n",
       "      <td>3</td>\n",
       "    </tr>\n",
       "  </tbody>\n",
       "</table>\n",
       "</div>"
      ],
      "text/plain": [
       "   SPEND  COUNT\n",
       "0    101      4\n",
       "1    154      3\n",
       "2     92      3"
      ]
     },
     "execution_count": 568,
     "metadata": {},
     "output_type": "execute_result"
    }
   ],
   "source": [
    "#exploring spend\n",
    "spend_data = dataset_for_exploration[\"SPEND\"].value_counts().rename_axis(\"SPEND\").reset_index(name=\"COUNT\")\n",
    "spend_data.head(3)"
   ]
  },
  {
   "cell_type": "code",
   "execution_count": 569,
   "metadata": {},
   "outputs": [
    {
     "data": {
      "text/plain": [
       "Text(0, 0.5, 'Spend Cumulative frequency')"
      ]
     },
     "execution_count": 569,
     "metadata": {},
     "output_type": "execute_result"
    },
    {
     "data": {
      "image/png": "[encoded data removed]",
      "text/plain": [
       "<Figure size 1080x360 with 1 Axes>"
      ]
     },
     "metadata": {},
     "output_type": "display_data"
    }
   ],
   "source": [
    "#visualizing distribution of spend\n",
    "sns.set(style=\"white\")\n",
    "ax,fig = plt.subplots(figsize = (15,5))\n",
    "ax = sns.distplot(dataset_for_exploration[\"SPEND\"])\n",
    "ax.set_title(\"The Distribution of Spend\", fontsize = 20)\n",
    "ax.set_xlabel(\"Spend\", fontsize = 20)\n",
    "ax.set_ylabel(\"Spend Cumulative frequency\",  fontsize = 20)"
   ]
  },
  {
   "cell_type": "markdown",
   "metadata": {},
   "source": [
    "### Insights:\n",
    "    We seek to understand given different variables in which store is the customer likely to spend. \n",
    "    Spend exhibits a postive skew amd a leptokurtic kurtosis"
   ]
  },
  {
   "cell_type": "code",
   "execution_count": 570,
   "metadata": {},
   "outputs": [
    {
     "name": "stdout",
     "output_type": "stream",
     "text": [
      "\n",
      "Kurtosis for spend distribution : 20.5398015308991\n",
      "\n",
      "Skewness for spend distribution : 4.031386884361723\n"
     ]
    }
   ],
   "source": [
    "#Looking for the value of skew and kurtosis\n",
    "\n",
    "#Importing packages to calculate skewness and kurtosis\n",
    "from scipy.stats import kurtosis\n",
    "from scipy.stats import skew\n",
    "\n",
    "#Calculating the value of skew and kurtosis\n",
    "print( '\\nKurtosis for spend distribution :', dataset[\"SPEND\"].kurtosis())\n",
    "print( '\\nSkewness for spend distribution :', dataset[\"SPEND\"].skew(axis=0))"
   ]
  },
  {
   "cell_type": "code",
   "execution_count": 571,
   "metadata": {},
   "outputs": [
    {
     "name": "stdout",
     "output_type": "stream",
     "text": [
      "  STORE_REGION  SPEND\n",
      "0          E02   2180\n",
      "1          N01   4629\n",
      "2          N02   6127\n",
      "3          N03   1679\n",
      "4          S01   1644\n",
      "5          S02    626\n",
      "6          S03   2932\n",
      "7          W01   2085\n",
      "8          W02   2267\n"
     ]
    },
    {
     "data": {
      "image/png": "[encoded data removed]",
      "text/plain": [
       "<Figure size 1080x432 with 1 Axes>"
      ]
     },
     "metadata": {},
     "output_type": "display_data"
    }
   ],
   "source": [
    "# extracting data for visualization\n",
    "store_region_vs_spend_data= dataset_for_exploration[[\"STORE_REGION\",\"SPEND\"]]\n",
    "store_region_vs_spend_data = store_region_vs_spend_data.groupby([\"STORE_REGION\"]).sum().reset_index()\n",
    "print(store_region_vs_spend_data)\n",
    "\n",
    "#plotting the bar graph\n",
    "sns.set(style =\"whitegrid\") \n",
    "fig, ax = plt.subplots(figsize=(15,6))\n",
    "ax = sns.barplot(x= \"STORE_REGION\", y= \"SPEND\", data = store_region_vs_spend_data)\n",
    "ax.set_title(\"Distribution of Spend In Each Store Region\",fontsize = 20)\n",
    "plt.show()"
   ]
  },
  {
   "cell_type": "markdown",
   "metadata": {},
   "source": [
    "### Insights:\n",
    "      N02 has the highest spend and S02 has the least spend"
   ]
  },
  {
   "cell_type": "markdown",
   "metadata": {},
   "source": [
    "#### b (2). Store Region vs Spend vs week day"
   ]
  },
  {
   "cell_type": "code",
   "execution_count": 572,
   "metadata": {},
   "outputs": [
    {
     "name": "stdout",
     "output_type": "stream",
     "text": [
      "   STORE_REGION SHOP_WEEKDAY  SPEND\n",
      "0           E02     Thursday   1274\n",
      "1           E02    Wednesday    906\n",
      "2           N01       Friday   1588\n",
      "3           N01     Thursday   3041\n",
      "4           N02       Monday   6127\n",
      "5           N03     Thursday    189\n",
      "6           N03    Wednesday   1490\n",
      "7           S01     Thursday     92\n",
      "8           S01      Tuesday    231\n",
      "9           S01    Wednesday   1321\n",
      "10          S02    Wednesday    626\n",
      "11          S03       Monday    729\n",
      "12          S03    Wednesday   2203\n",
      "13          W01       Friday   1807\n",
      "14          W01      Tuesday    278\n",
      "15          W02       Friday   1637\n",
      "16          W02      Tuesday    630\n"
     ]
    },
    {
     "data": {
      "image/png": "[encoded data removed]",
      "text/plain": [
       "<Figure size 1080x432 with 1 Axes>"
      ]
     },
     "metadata": {},
     "output_type": "display_data"
    }
   ],
   "source": [
    "# extracting data for visualization\n",
    "store_region_vs_spend_data_and_week_day = dataset_for_exploration[[\"STORE_REGION\",\"SPEND\",\"SHOP_WEEKDAY\"]]\n",
    "store_region_vs_spend_data_and_week_day = store_region_vs_spend_data_and_week_day.groupby([\"STORE_REGION\",\"SHOP_WEEKDAY\"]).sum().reset_index()\n",
    "print(store_region_vs_spend_data_and_week_day)\n",
    "\n",
    "#plotting the bar graph\n",
    "sns.set(style =\"whitegrid\") \n",
    "fig, ax = plt.subplots(figsize=(15,6))\n",
    "ax = sns.barplot(x= \"STORE_REGION\", y= \"SPEND\",hue= \"SHOP_WEEKDAY\", data = store_region_vs_spend_data_and_week_day)\n",
    "ax.set_title(\"Distribution of Spend In Each Store Region and day of the week\",fontsize = 20)\n",
    "plt.show()"
   ]
  },
  {
   "cell_type": "markdown",
   "metadata": {},
   "source": [
    "### Insights:\n",
    "      N02 had the highest spend and it was on Monday.\n",
    "      The least spend was in region S01 on Thursday"
   ]
  },
  {
   "cell_type": "markdown",
   "metadata": {},
   "source": [
    "#### b (3). Store Region vs spend vs basket size"
   ]
  },
  {
   "cell_type": "code",
   "execution_count": 573,
   "metadata": {},
   "outputs": [
    {
     "name": "stdout",
     "output_type": "stream",
     "text": [
      "   STORE_REGION BASKET_SIZE  SPEND\n",
      "0           E02       Large   1274\n",
      "1           E02      Medium    906\n",
      "2           N01       Large   3041\n",
      "3           N01      Medium   1588\n",
      "4           N02       Large   6127\n",
      "5           N03       Large   1490\n",
      "6           N03       Small    189\n",
      "7           S01       Large   1321\n",
      "8           S01      Medium    231\n",
      "9           S01       Small     92\n",
      "10          S02      Medium    626\n",
      "11          S03       Large   2186\n",
      "12          S03      Medium    729\n",
      "13          S03       Small     17\n",
      "14          W01       Large   1807\n",
      "15          W01      Medium    278\n",
      "16          W02      Medium    916\n",
      "17          W02       Small   1351\n"
     ]
    },
    {
     "data": {
      "image/png": "[encoded data removed]",
      "text/plain": [
       "<Figure size 1080x432 with 1 Axes>"
      ]
     },
     "metadata": {},
     "output_type": "display_data"
    }
   ],
   "source": [
    "# extracting data for visualization\n",
    "store_region_vs_spend_data_and_basket_size= dataset_for_exploration[[\"STORE_REGION\",\"SPEND\",\"BASKET_SIZE\"]]\n",
    "store_region_vs_spend_data_and_basket_size = store_region_vs_spend_data_and_basket_size.groupby([\"STORE_REGION\",\"BASKET_SIZE\"]).sum().reset_index()\n",
    "print(store_region_vs_spend_data_and_basket_size)\n",
    "\n",
    "#plotting the bar graph\n",
    "sns.set(style =\"whitegrid\") \n",
    "fig, ax = plt.subplots(figsize=(15,6))\n",
    "ax = sns.barplot(x= \"STORE_REGION\", y= \"SPEND\",hue= \"BASKET_SIZE\", data = store_region_vs_spend_data_and_basket_size)\n",
    "ax.set_title(\"Distribution of Spend In Each Store Region \\n and size of basket used to shop\",fontsize = 20)\n",
    "plt.show()"
   ]
  },
  {
   "cell_type": "markdown",
   "metadata": {},
   "source": [
    "### Insights:\n",
    "    The highest spend was with a large basket  in region N02\n",
    "    The least spend was with a small basket in region S01"
   ]
  },
  {
   "cell_type": "markdown",
   "metadata": {},
   "source": [
    "#### b (4). Store Region vs Spend vs shop hour"
   ]
  },
  {
   "cell_type": "code",
   "execution_count": 574,
   "metadata": {},
   "outputs": [
    {
     "name": "stdout",
     "output_type": "stream",
     "text": [
      "   STORE_REGION  SHOP_HOUR  SPEND\n",
      "0           E02         19    906\n",
      "1           E02         20   1274\n",
      "2           N01          8   3041\n",
      "3           N01         19   1588\n",
      "4           N02          9   6127\n",
      "5           N03         15   1679\n",
      "6           S01         10    231\n",
      "7           S01         13   1321\n",
      "8           S01         16     92\n",
      "9           S02         20    626\n",
      "10          S03         10    729\n",
      "11          S03         12   2186\n",
      "12          S03         13     17\n",
      "13          W01         15   2085\n",
      "14          W02          8   1351\n",
      "15          W02         13    630\n",
      "16          W02         16    286\n"
     ]
    },
    {
     "data": {
      "image/png": "[encoded data removed]",
      "text/plain": [
       "<Figure size 1080x432 with 1 Axes>"
      ]
     },
     "metadata": {},
     "output_type": "display_data"
    }
   ],
   "source": [
    "# extracting data for visualization\n",
    "store_region_vs_spend_data_and_shop_hour= dataset_for_exploration[[\"STORE_REGION\",\"SPEND\",\"SHOP_HOUR\"]]\n",
    "store_region_vs_spend_data_and_shop_hour = store_region_vs_spend_data_and_shop_hour.groupby([\"STORE_REGION\",\"SHOP_HOUR\"]).sum().reset_index()\n",
    "print(store_region_vs_spend_data_and_shop_hour)\n",
    "\n",
    "#plotting the bar graph\n",
    "sns.set(style =\"whitegrid\") \n",
    "fig, ax = plt.subplots(figsize=(15,6))\n",
    "ax = sns.barplot(x= \"STORE_REGION\", y= \"SPEND\",hue= \"SHOP_HOUR\", data = store_region_vs_spend_data_and_shop_hour)\n",
    "ax.set_title(\"Distribution of Spend In Each Store Region \\n and The Hour It Was Shopped\",fontsize = 20)\n",
    "plt.show()"
   ]
  },
  {
   "cell_type": "markdown",
   "metadata": {},
   "source": [
    "### Insights:\n",
    "       The highest spend was spend at 8 am in region N02\n",
    "       The least spennd was spend at 4 pm in region S01\n",
    "      "
   ]
  },
  {
   "cell_type": "markdown",
   "metadata": {},
   "source": [
    "#### b (5). Store Region vs Spend vs customer price sensitivity"
   ]
  },
  {
   "cell_type": "code",
   "execution_count": 575,
   "metadata": {},
   "outputs": [
    {
     "name": "stdout",
     "output_type": "stream",
     "text": [
      "   STORE_REGION CUST_PRICE_SENSITIVITY  SPEND\n",
      "0           E02          Less Affluent   2180\n",
      "1           N01          Less Affluent   1588\n",
      "2           N01             Mid Market   3041\n",
      "3           N02           unclassified   6127\n",
      "4           N03          Less Affluent    189\n",
      "5           N03           unclassified   1490\n",
      "6           S01              Up Market    323\n",
      "7           S01           unclassified   1321\n",
      "8           S02           unclassified    626\n",
      "9           S03          Less Affluent    746\n",
      "10          S03             Mid Market   2186\n",
      "11          W01          Less Affluent   2085\n",
      "12          W02          Less Affluent   1637\n",
      "13          W02             Mid Market    630\n"
     ]
    },
    {
     "data": {
      "image/png": "[encoded data removed]",
      "text/plain": [
       "<Figure size 1080x432 with 1 Axes>"
      ]
     },
     "metadata": {},
     "output_type": "display_data"
    }
   ],
   "source": [
    "# extracting data for visualization\n",
    "store_region_vs_spend_data_and_Customer_Price_Sensitivity= dataset_for_exploration[[\"STORE_REGION\",\"SPEND\",\"CUST_PRICE_SENSITIVITY\"]]\n",
    "store_region_vs_spend_data_and_Customer_Price_Sensitivity = store_region_vs_spend_data_and_Customer_Price_Sensitivity.groupby([\"STORE_REGION\",\"CUST_PRICE_SENSITIVITY\"]).sum().reset_index()\n",
    "print(store_region_vs_spend_data_and_Customer_Price_Sensitivity)\n",
    "\n",
    "#plotting the bar graph\n",
    "sns.set(style =\"whitegrid\") \n",
    "fig, ax = plt.subplots(figsize=(15,6))\n",
    "ax = sns.barplot(x= \"STORE_REGION\", y= \"SPEND\",hue= \"CUST_PRICE_SENSITIVITY\", data = store_region_vs_spend_data_and_Customer_Price_Sensitivity)\n",
    "ax.set_title(\"Distribution of Spend In Each Store Region \\n and Customer Price Sensitivity Bracket\",fontsize = 20)\n",
    "plt.show()"
   ]
  },
  {
   "cell_type": "markdown",
   "metadata": {},
   "source": [
    "### Insights:\n",
    "     Most spend was from customers with unclasified customer price sensitivity and the least from up market     "
   ]
  },
  {
   "cell_type": "markdown",
   "metadata": {},
   "source": [
    "#### b (6). Store Region vs Spend vs Basket Dominant Mission"
   ]
  },
  {
   "cell_type": "code",
   "execution_count": 576,
   "metadata": {},
   "outputs": [
    {
     "name": "stdout",
     "output_type": "stream",
     "text": [
      "   STORE_REGION BASKET_DOMINANT_MISSION  SPEND\n",
      "0           E02                   Fresh   2180\n",
      "1           N01                 Grocery   1588\n",
      "2           N01                   Mixed   3041\n",
      "3           N02                   Mixed   6127\n",
      "4           N03                   Fresh   1679\n",
      "5           S01                   Fresh   1413\n",
      "6           S01                 Nonfood    231\n",
      "7           S02                   Fresh    626\n",
      "8           S03                   Fresh     17\n",
      "9           S03                 Grocery    729\n",
      "10          S03                 Nonfood   2186\n",
      "11          W01                   Fresh   1807\n",
      "12          W01                   Mixed    278\n",
      "13          W02                   Fresh   1637\n",
      "14          W02                 Grocery    630\n"
     ]
    },
    {
     "data": {
      "image/png": "[encoded data removed]",
      "text/plain": [
       "<Figure size 1080x432 with 1 Axes>"
      ]
     },
     "metadata": {},
     "output_type": "display_data"
    }
   ],
   "source": [
    "# extracting data for visualization\n",
    "store_region_vs_spend_data_and_basket_dominant_mission= dataset_for_exploration[[\"STORE_REGION\",\"SPEND\",\"BASKET_DOMINANT_MISSION\"]]\n",
    "store_region_vs_spend_data_and_basket_dominant_mission = store_region_vs_spend_data_and_basket_dominant_mission.groupby([\"STORE_REGION\",\"BASKET_DOMINANT_MISSION\"]).sum().reset_index()\n",
    "print(store_region_vs_spend_data_and_basket_dominant_mission)\n",
    "\n",
    "#plotting the bar graph\n",
    "sns.set(style =\"whitegrid\") \n",
    "fig, ax = plt.subplots(figsize=(15,6))\n",
    "ax = sns.barplot(x= \"STORE_REGION\", y= \"SPEND\",hue= \"BASKET_DOMINANT_MISSION\", data = store_region_vs_spend_data_and_basket_dominant_mission)\n",
    "ax.set_title(\"Distribution of Spend In Each Store Region \\n and Basket Dominant Mission\",fontsize = 20)\n",
    "plt.show()"
   ]
  },
  {
   "cell_type": "markdown",
   "metadata": {},
   "source": [
    "### Insights:\n",
    "    The highest spend was on Mixed basket dominant mission\n",
    "    The lowest spend was on Non Food"
   ]
  },
  {
   "cell_type": "markdown",
   "metadata": {},
   "source": [
    "## Exploring Deeper On DateTime"
   ]
  },
  {
   "cell_type": "code",
   "execution_count": 577,
   "metadata": {},
   "outputs": [
    {
     "data": {
      "text/html": [
       "<div>\n",
       "<style scoped>\n",
       "    .dataframe tbody tr th:only-of-type {\n",
       "        vertical-align: middle;\n",
       "    }\n",
       "\n",
       "    .dataframe tbody tr th {\n",
       "        vertical-align: top;\n",
       "    }\n",
       "\n",
       "    .dataframe thead th {\n",
       "        text-align: right;\n",
       "    }\n",
       "</style>\n",
       "<table border=\"1\" class=\"dataframe\">\n",
       "  <thead>\n",
       "    <tr style=\"text-align: right;\">\n",
       "      <th></th>\n",
       "      <th>SHOP_WEEK</th>\n",
       "      <th>SHOP_DATE</th>\n",
       "      <th>SHOP_WEEKDAY</th>\n",
       "      <th>SHOP_HOUR</th>\n",
       "      <th>QUANTITY</th>\n",
       "      <th>SPEND</th>\n",
       "      <th>PROD_CODE</th>\n",
       "      <th>PROD_CODE_10</th>\n",
       "      <th>PROD_CODE_20</th>\n",
       "      <th>PROD_CODE_30</th>\n",
       "      <th>PROD_CODE_40</th>\n",
       "      <th>CUST_CODE</th>\n",
       "      <th>CUST_PRICE_SENSITIVITY</th>\n",
       "      <th>CUST_LIFESTAGE</th>\n",
       "      <th>BASKET_ID</th>\n",
       "      <th>BASKET_SIZE</th>\n",
       "      <th>BASKET_PRICE_SENSITIVITY</th>\n",
       "      <th>BASKET_TYPE</th>\n",
       "      <th>BASKET_DOMINANT_MISSION</th>\n",
       "      <th>STORE_CODE</th>\n",
       "      <th>STORE_FORMAT</th>\n",
       "      <th>STORE_REGION</th>\n",
       "    </tr>\n",
       "  </thead>\n",
       "  <tbody>\n",
       "    <tr>\n",
       "      <td>0</td>\n",
       "      <td>200607</td>\n",
       "      <td>20060413</td>\n",
       "      <td>5</td>\n",
       "      <td>20</td>\n",
       "      <td>1</td>\n",
       "      <td>103</td>\n",
       "      <td>PRD0900097</td>\n",
       "      <td>CL00001</td>\n",
       "      <td>DEP00001</td>\n",
       "      <td>G00001</td>\n",
       "      <td>D00001</td>\n",
       "      <td>CUST0000634693</td>\n",
       "      <td>LA</td>\n",
       "      <td>YF</td>\n",
       "      <td>994100100532898</td>\n",
       "      <td>L</td>\n",
       "      <td>LA</td>\n",
       "      <td>Top Up</td>\n",
       "      <td>Fresh</td>\n",
       "      <td>STORE00001</td>\n",
       "      <td>LS</td>\n",
       "      <td>E02</td>\n",
       "    </tr>\n",
       "    <tr>\n",
       "      <td>1</td>\n",
       "      <td>200607</td>\n",
       "      <td>20060412</td>\n",
       "      <td>4</td>\n",
       "      <td>19</td>\n",
       "      <td>1</td>\n",
       "      <td>28</td>\n",
       "      <td>PRD0900353</td>\n",
       "      <td>CL00070</td>\n",
       "      <td>DEP00020</td>\n",
       "      <td>G00007</td>\n",
       "      <td>D00002</td>\n",
       "      <td>CUST0000634693</td>\n",
       "      <td>LA</td>\n",
       "      <td>YF</td>\n",
       "      <td>994100100532897</td>\n",
       "      <td>M</td>\n",
       "      <td>MM</td>\n",
       "      <td>Small Shop</td>\n",
       "      <td>Fresh</td>\n",
       "      <td>STORE00001</td>\n",
       "      <td>LS</td>\n",
       "      <td>E02</td>\n",
       "    </tr>\n",
       "    <tr>\n",
       "      <td>2</td>\n",
       "      <td>200607</td>\n",
       "      <td>20060413</td>\n",
       "      <td>5</td>\n",
       "      <td>20</td>\n",
       "      <td>3</td>\n",
       "      <td>84</td>\n",
       "      <td>PRD0900550</td>\n",
       "      <td>CL00167</td>\n",
       "      <td>DEP00055</td>\n",
       "      <td>G00016</td>\n",
       "      <td>D00003</td>\n",
       "      <td>CUST0000634693</td>\n",
       "      <td>LA</td>\n",
       "      <td>YF</td>\n",
       "      <td>994100100532898</td>\n",
       "      <td>L</td>\n",
       "      <td>LA</td>\n",
       "      <td>Top Up</td>\n",
       "      <td>Fresh</td>\n",
       "      <td>STORE00001</td>\n",
       "      <td>LS</td>\n",
       "      <td>E02</td>\n",
       "    </tr>\n",
       "    <tr>\n",
       "      <td>3</td>\n",
       "      <td>200607</td>\n",
       "      <td>20060412</td>\n",
       "      <td>4</td>\n",
       "      <td>19</td>\n",
       "      <td>1</td>\n",
       "      <td>221</td>\n",
       "      <td>PRD0901647</td>\n",
       "      <td>CL00010</td>\n",
       "      <td>DEP00003</td>\n",
       "      <td>G00002</td>\n",
       "      <td>D00001</td>\n",
       "      <td>CUST0000634693</td>\n",
       "      <td>LA</td>\n",
       "      <td>YF</td>\n",
       "      <td>994100100532897</td>\n",
       "      <td>M</td>\n",
       "      <td>MM</td>\n",
       "      <td>Small Shop</td>\n",
       "      <td>Fresh</td>\n",
       "      <td>STORE00001</td>\n",
       "      <td>LS</td>\n",
       "      <td>E02</td>\n",
       "    </tr>\n",
       "    <tr>\n",
       "      <td>4</td>\n",
       "      <td>200607</td>\n",
       "      <td>20060413</td>\n",
       "      <td>5</td>\n",
       "      <td>20</td>\n",
       "      <td>1</td>\n",
       "      <td>334</td>\n",
       "      <td>PRD0902064</td>\n",
       "      <td>CL00073</td>\n",
       "      <td>DEP00021</td>\n",
       "      <td>G00007</td>\n",
       "      <td>D00002</td>\n",
       "      <td>CUST0000634693</td>\n",
       "      <td>LA</td>\n",
       "      <td>YF</td>\n",
       "      <td>994100100532898</td>\n",
       "      <td>L</td>\n",
       "      <td>LA</td>\n",
       "      <td>Top Up</td>\n",
       "      <td>Fresh</td>\n",
       "      <td>STORE00001</td>\n",
       "      <td>LS</td>\n",
       "      <td>E02</td>\n",
       "    </tr>\n",
       "  </tbody>\n",
       "</table>\n",
       "</div>"
      ],
      "text/plain": [
       "   SHOP_WEEK  SHOP_DATE  SHOP_WEEKDAY  SHOP_HOUR  QUANTITY  SPEND   PROD_CODE  \\\n",
       "0     200607   20060413             5         20         1    103  PRD0900097   \n",
       "1     200607   20060412             4         19         1     28  PRD0900353   \n",
       "2     200607   20060413             5         20         3     84  PRD0900550   \n",
       "3     200607   20060412             4         19         1    221  PRD0901647   \n",
       "4     200607   20060413             5         20         1    334  PRD0902064   \n",
       "\n",
       "  PROD_CODE_10 PROD_CODE_20 PROD_CODE_30 PROD_CODE_40       CUST_CODE  \\\n",
       "0      CL00001     DEP00001       G00001       D00001  CUST0000634693   \n",
       "1      CL00070     DEP00020       G00007       D00002  CUST0000634693   \n",
       "2      CL00167     DEP00055       G00016       D00003  CUST0000634693   \n",
       "3      CL00010     DEP00003       G00002       D00001  CUST0000634693   \n",
       "4      CL00073     DEP00021       G00007       D00002  CUST0000634693   \n",
       "\n",
       "  CUST_PRICE_SENSITIVITY CUST_LIFESTAGE        BASKET_ID BASKET_SIZE  \\\n",
       "0                     LA             YF  994100100532898           L   \n",
       "1                     LA             YF  994100100532897           M   \n",
       "2                     LA             YF  994100100532898           L   \n",
       "3                     LA             YF  994100100532897           M   \n",
       "4                     LA             YF  994100100532898           L   \n",
       "\n",
       "  BASKET_PRICE_SENSITIVITY BASKET_TYPE BASKET_DOMINANT_MISSION  STORE_CODE  \\\n",
       "0                       LA      Top Up                   Fresh  STORE00001   \n",
       "1                       MM  Small Shop                   Fresh  STORE00001   \n",
       "2                       LA      Top Up                   Fresh  STORE00001   \n",
       "3                       MM  Small Shop                   Fresh  STORE00001   \n",
       "4                       LA      Top Up                   Fresh  STORE00001   \n",
       "\n",
       "  STORE_FORMAT STORE_REGION  \n",
       "0           LS          E02  \n",
       "1           LS          E02  \n",
       "2           LS          E02  \n",
       "3           LS          E02  \n",
       "4           LS          E02  "
      ]
     },
     "execution_count": 577,
     "metadata": {},
     "output_type": "execute_result"
    }
   ],
   "source": [
    "#loading data\n",
    "Time_data = pd.read_csv(\"supermarket_till_transactions2.csv\")\n",
    "Time_data.head()"
   ]
  },
  {
   "cell_type": "code",
   "execution_count": 578,
   "metadata": {},
   "outputs": [],
   "source": [
    "# changing SHOP_DATE variable from an int to date\n",
    "Time_data['SHOP_DATE'] = pd.to_datetime(Time_data['SHOP_DATE'].astype(str), format='%Y%m%d')"
   ]
  },
  {
   "cell_type": "code",
   "execution_count": 579,
   "metadata": {},
   "outputs": [
    {
     "data": {
      "text/html": [
       "<div>\n",
       "<style scoped>\n",
       "    .dataframe tbody tr th:only-of-type {\n",
       "        vertical-align: middle;\n",
       "    }\n",
       "\n",
       "    .dataframe tbody tr th {\n",
       "        vertical-align: top;\n",
       "    }\n",
       "\n",
       "    .dataframe thead th {\n",
       "        text-align: right;\n",
       "    }\n",
       "</style>\n",
       "<table border=\"1\" class=\"dataframe\">\n",
       "  <thead>\n",
       "    <tr style=\"text-align: right;\">\n",
       "      <th></th>\n",
       "      <th>SHOP_WEEK</th>\n",
       "      <th>SHOP_DATE</th>\n",
       "      <th>SHOP_WEEKDAY</th>\n",
       "      <th>SHOP_HOUR</th>\n",
       "      <th>QUANTITY</th>\n",
       "      <th>SPEND</th>\n",
       "      <th>PROD_CODE</th>\n",
       "      <th>PROD_CODE_10</th>\n",
       "      <th>PROD_CODE_20</th>\n",
       "      <th>PROD_CODE_30</th>\n",
       "      <th>PROD_CODE_40</th>\n",
       "      <th>CUST_CODE</th>\n",
       "      <th>CUST_PRICE_SENSITIVITY</th>\n",
       "      <th>CUST_LIFESTAGE</th>\n",
       "      <th>BASKET_ID</th>\n",
       "      <th>BASKET_SIZE</th>\n",
       "      <th>BASKET_PRICE_SENSITIVITY</th>\n",
       "      <th>BASKET_TYPE</th>\n",
       "      <th>BASKET_DOMINANT_MISSION</th>\n",
       "      <th>STORE_CODE</th>\n",
       "      <th>STORE_FORMAT</th>\n",
       "      <th>STORE_REGION</th>\n",
       "    </tr>\n",
       "  </thead>\n",
       "  <tbody>\n",
       "    <tr>\n",
       "      <td>0</td>\n",
       "      <td>200607</td>\n",
       "      <td>2006-04-13</td>\n",
       "      <td>5</td>\n",
       "      <td>20</td>\n",
       "      <td>1</td>\n",
       "      <td>103</td>\n",
       "      <td>PRD0900097</td>\n",
       "      <td>CL00001</td>\n",
       "      <td>DEP00001</td>\n",
       "      <td>G00001</td>\n",
       "      <td>D00001</td>\n",
       "      <td>CUST0000634693</td>\n",
       "      <td>LA</td>\n",
       "      <td>YF</td>\n",
       "      <td>994100100532898</td>\n",
       "      <td>L</td>\n",
       "      <td>LA</td>\n",
       "      <td>Top Up</td>\n",
       "      <td>Fresh</td>\n",
       "      <td>STORE00001</td>\n",
       "      <td>LS</td>\n",
       "      <td>E02</td>\n",
       "    </tr>\n",
       "    <tr>\n",
       "      <td>1</td>\n",
       "      <td>200607</td>\n",
       "      <td>2006-04-12</td>\n",
       "      <td>4</td>\n",
       "      <td>19</td>\n",
       "      <td>1</td>\n",
       "      <td>28</td>\n",
       "      <td>PRD0900353</td>\n",
       "      <td>CL00070</td>\n",
       "      <td>DEP00020</td>\n",
       "      <td>G00007</td>\n",
       "      <td>D00002</td>\n",
       "      <td>CUST0000634693</td>\n",
       "      <td>LA</td>\n",
       "      <td>YF</td>\n",
       "      <td>994100100532897</td>\n",
       "      <td>M</td>\n",
       "      <td>MM</td>\n",
       "      <td>Small Shop</td>\n",
       "      <td>Fresh</td>\n",
       "      <td>STORE00001</td>\n",
       "      <td>LS</td>\n",
       "      <td>E02</td>\n",
       "    </tr>\n",
       "    <tr>\n",
       "      <td>2</td>\n",
       "      <td>200607</td>\n",
       "      <td>2006-04-13</td>\n",
       "      <td>5</td>\n",
       "      <td>20</td>\n",
       "      <td>3</td>\n",
       "      <td>84</td>\n",
       "      <td>PRD0900550</td>\n",
       "      <td>CL00167</td>\n",
       "      <td>DEP00055</td>\n",
       "      <td>G00016</td>\n",
       "      <td>D00003</td>\n",
       "      <td>CUST0000634693</td>\n",
       "      <td>LA</td>\n",
       "      <td>YF</td>\n",
       "      <td>994100100532898</td>\n",
       "      <td>L</td>\n",
       "      <td>LA</td>\n",
       "      <td>Top Up</td>\n",
       "      <td>Fresh</td>\n",
       "      <td>STORE00001</td>\n",
       "      <td>LS</td>\n",
       "      <td>E02</td>\n",
       "    </tr>\n",
       "    <tr>\n",
       "      <td>3</td>\n",
       "      <td>200607</td>\n",
       "      <td>2006-04-12</td>\n",
       "      <td>4</td>\n",
       "      <td>19</td>\n",
       "      <td>1</td>\n",
       "      <td>221</td>\n",
       "      <td>PRD0901647</td>\n",
       "      <td>CL00010</td>\n",
       "      <td>DEP00003</td>\n",
       "      <td>G00002</td>\n",
       "      <td>D00001</td>\n",
       "      <td>CUST0000634693</td>\n",
       "      <td>LA</td>\n",
       "      <td>YF</td>\n",
       "      <td>994100100532897</td>\n",
       "      <td>M</td>\n",
       "      <td>MM</td>\n",
       "      <td>Small Shop</td>\n",
       "      <td>Fresh</td>\n",
       "      <td>STORE00001</td>\n",
       "      <td>LS</td>\n",
       "      <td>E02</td>\n",
       "    </tr>\n",
       "    <tr>\n",
       "      <td>4</td>\n",
       "      <td>200607</td>\n",
       "      <td>2006-04-13</td>\n",
       "      <td>5</td>\n",
       "      <td>20</td>\n",
       "      <td>1</td>\n",
       "      <td>334</td>\n",
       "      <td>PRD0902064</td>\n",
       "      <td>CL00073</td>\n",
       "      <td>DEP00021</td>\n",
       "      <td>G00007</td>\n",
       "      <td>D00002</td>\n",
       "      <td>CUST0000634693</td>\n",
       "      <td>LA</td>\n",
       "      <td>YF</td>\n",
       "      <td>994100100532898</td>\n",
       "      <td>L</td>\n",
       "      <td>LA</td>\n",
       "      <td>Top Up</td>\n",
       "      <td>Fresh</td>\n",
       "      <td>STORE00001</td>\n",
       "      <td>LS</td>\n",
       "      <td>E02</td>\n",
       "    </tr>\n",
       "  </tbody>\n",
       "</table>\n",
       "</div>"
      ],
      "text/plain": [
       "   SHOP_WEEK  SHOP_DATE  SHOP_WEEKDAY  SHOP_HOUR  QUANTITY  SPEND   PROD_CODE  \\\n",
       "0     200607 2006-04-13             5         20         1    103  PRD0900097   \n",
       "1     200607 2006-04-12             4         19         1     28  PRD0900353   \n",
       "2     200607 2006-04-13             5         20         3     84  PRD0900550   \n",
       "3     200607 2006-04-12             4         19         1    221  PRD0901647   \n",
       "4     200607 2006-04-13             5         20         1    334  PRD0902064   \n",
       "\n",
       "  PROD_CODE_10 PROD_CODE_20 PROD_CODE_30 PROD_CODE_40       CUST_CODE  \\\n",
       "0      CL00001     DEP00001       G00001       D00001  CUST0000634693   \n",
       "1      CL00070     DEP00020       G00007       D00002  CUST0000634693   \n",
       "2      CL00167     DEP00055       G00016       D00003  CUST0000634693   \n",
       "3      CL00010     DEP00003       G00002       D00001  CUST0000634693   \n",
       "4      CL00073     DEP00021       G00007       D00002  CUST0000634693   \n",
       "\n",
       "  CUST_PRICE_SENSITIVITY CUST_LIFESTAGE        BASKET_ID BASKET_SIZE  \\\n",
       "0                     LA             YF  994100100532898           L   \n",
       "1                     LA             YF  994100100532897           M   \n",
       "2                     LA             YF  994100100532898           L   \n",
       "3                     LA             YF  994100100532897           M   \n",
       "4                     LA             YF  994100100532898           L   \n",
       "\n",
       "  BASKET_PRICE_SENSITIVITY BASKET_TYPE BASKET_DOMINANT_MISSION  STORE_CODE  \\\n",
       "0                       LA      Top Up                   Fresh  STORE00001   \n",
       "1                       MM  Small Shop                   Fresh  STORE00001   \n",
       "2                       LA      Top Up                   Fresh  STORE00001   \n",
       "3                       MM  Small Shop                   Fresh  STORE00001   \n",
       "4                       LA      Top Up                   Fresh  STORE00001   \n",
       "\n",
       "  STORE_FORMAT STORE_REGION  \n",
       "0           LS          E02  \n",
       "1           LS          E02  \n",
       "2           LS          E02  \n",
       "3           LS          E02  \n",
       "4           LS          E02  "
      ]
     },
     "execution_count": 579,
     "metadata": {},
     "output_type": "execute_result"
    }
   ],
   "source": [
    "Time_data.head()"
   ]
  },
  {
   "cell_type": "markdown",
   "metadata": {},
   "source": [
    "### 1. Spend"
   ]
  },
  {
   "cell_type": "code",
   "execution_count": 580,
   "metadata": {},
   "outputs": [
    {
     "data": {
      "text/html": [
       "<div>\n",
       "<style scoped>\n",
       "    .dataframe tbody tr th:only-of-type {\n",
       "        vertical-align: middle;\n",
       "    }\n",
       "\n",
       "    .dataframe tbody tr th {\n",
       "        vertical-align: top;\n",
       "    }\n",
       "\n",
       "    .dataframe thead th {\n",
       "        text-align: right;\n",
       "    }\n",
       "</style>\n",
       "<table border=\"1\" class=\"dataframe\">\n",
       "  <thead>\n",
       "    <tr style=\"text-align: right;\">\n",
       "      <th></th>\n",
       "      <th>STORE_REGION</th>\n",
       "      <th>SPEND</th>\n",
       "      <th>SHOP_DATE</th>\n",
       "    </tr>\n",
       "  </thead>\n",
       "  <tbody>\n",
       "    <tr>\n",
       "      <td>0</td>\n",
       "      <td>E02</td>\n",
       "      <td>103</td>\n",
       "      <td>2006-04-13</td>\n",
       "    </tr>\n",
       "    <tr>\n",
       "      <td>1</td>\n",
       "      <td>E02</td>\n",
       "      <td>28</td>\n",
       "      <td>2006-04-12</td>\n",
       "    </tr>\n",
       "    <tr>\n",
       "      <td>2</td>\n",
       "      <td>E02</td>\n",
       "      <td>84</td>\n",
       "      <td>2006-04-13</td>\n",
       "    </tr>\n",
       "  </tbody>\n",
       "</table>\n",
       "</div>"
      ],
      "text/plain": [
       "  STORE_REGION  SPEND  SHOP_DATE\n",
       "0          E02    103 2006-04-13\n",
       "1          E02     28 2006-04-12\n",
       "2          E02     84 2006-04-13"
      ]
     },
     "execution_count": 580,
     "metadata": {},
     "output_type": "execute_result"
    }
   ],
   "source": [
    "Time_data_spend = Time_data[[\"STORE_REGION\",\"SPEND\", \"SHOP_DATE\"]]\n",
    "Time_data_spend.head(3)"
   ]
  },
  {
   "cell_type": "code",
   "execution_count": 581,
   "metadata": {},
   "outputs": [
    {
     "data": {
      "text/html": [
       "<div>\n",
       "<style scoped>\n",
       "    .dataframe tbody tr th:only-of-type {\n",
       "        vertical-align: middle;\n",
       "    }\n",
       "\n",
       "    .dataframe tbody tr th {\n",
       "        vertical-align: top;\n",
       "    }\n",
       "\n",
       "    .dataframe thead th {\n",
       "        text-align: right;\n",
       "    }\n",
       "</style>\n",
       "<table border=\"1\" class=\"dataframe\">\n",
       "  <thead>\n",
       "    <tr style=\"text-align: right;\">\n",
       "      <th></th>\n",
       "      <th>STORE_REGION</th>\n",
       "      <th>QUANTITY</th>\n",
       "      <th>SHOP_DATE</th>\n",
       "    </tr>\n",
       "  </thead>\n",
       "  <tbody>\n",
       "    <tr>\n",
       "      <td>0</td>\n",
       "      <td>E02</td>\n",
       "      <td>1</td>\n",
       "      <td>2006-04-13</td>\n",
       "    </tr>\n",
       "    <tr>\n",
       "      <td>1</td>\n",
       "      <td>E02</td>\n",
       "      <td>1</td>\n",
       "      <td>2006-04-12</td>\n",
       "    </tr>\n",
       "    <tr>\n",
       "      <td>2</td>\n",
       "      <td>E02</td>\n",
       "      <td>3</td>\n",
       "      <td>2006-04-13</td>\n",
       "    </tr>\n",
       "  </tbody>\n",
       "</table>\n",
       "</div>"
      ],
      "text/plain": [
       "  STORE_REGION  QUANTITY  SHOP_DATE\n",
       "0          E02         1 2006-04-13\n",
       "1          E02         1 2006-04-12\n",
       "2          E02         3 2006-04-13"
      ]
     },
     "execution_count": 581,
     "metadata": {},
     "output_type": "execute_result"
    }
   ],
   "source": [
    "Time_data_quantity = Time_data[[\"STORE_REGION\",\"QUANTITY\", \"SHOP_DATE\"]]\n",
    "Time_data_quantity.head(3)"
   ]
  },
  {
   "cell_type": "markdown",
   "metadata": {},
   "source": [
    "### Region N01"
   ]
  },
  {
   "cell_type": "code",
   "execution_count": 582,
   "metadata": {},
   "outputs": [
    {
     "name": "stdout",
     "output_type": "stream",
     "text": [
      "   SHOP_DATE  SPEND\n",
      "0 2006-04-13   3041\n",
      "1 2006-04-14   1588\n",
      "\n",
      "\n",
      "   SHOP_DATE  QUANTITY\n",
      "0 2006-04-13        21\n",
      "1 2006-04-14         4\n"
     ]
    }
   ],
   "source": [
    "#extracting spend data for region N01\n",
    "Time_data_spend_N01 =Time_data_spend[Time_data_spend[\"STORE_REGION\"] == \"N01\"]\n",
    "Time_data_spend_N01_date = Time_data_spend_N01.groupby([\"SHOP_DATE\"]).sum().reset_index()\n",
    "print(Time_data_spend_N01_date )\n",
    "\n",
    "print(\"\\n\")\n",
    "\n",
    "#extracting quantity data for region N01\n",
    "Time_data_quantity_N01 =Time_data_quantity[Time_data_spend[\"STORE_REGION\"] == \"N01\"]\n",
    "Time_data_quantity_N01_date = Time_data_quantity_N01.groupby([\"SHOP_DATE\"]).sum().reset_index()\n",
    "print(Time_data_quantity_N01_date )"
   ]
  },
  {
   "cell_type": "markdown",
   "metadata": {},
   "source": [
    "### Region N02"
   ]
  },
  {
   "cell_type": "code",
   "execution_count": 583,
   "metadata": {},
   "outputs": [
    {
     "name": "stdout",
     "output_type": "stream",
     "text": [
      "   SHOP_DATE  SPEND\n",
      "0 2006-04-10   6127\n",
      "\n",
      "\n",
      "   SHOP_DATE  QUANTITY\n",
      "0 2006-04-10        23\n"
     ]
    }
   ],
   "source": [
    "#extracting data for region N02\n",
    "Time_data_spend_N02 =Time_data_spend[Time_data_spend[\"STORE_REGION\"] == \"N02\"]\n",
    "Time_data_spend_N02_date = Time_data_spend_N02.groupby([\"SHOP_DATE\"]).sum().reset_index()\n",
    "print(Time_data_spend_N02_date )\n",
    "\n",
    "print(\"\\n\")\n",
    "\n",
    "#extracting quantity data for region N02\n",
    "Time_data_quantity_N02 =Time_data_quantity[Time_data_spend[\"STORE_REGION\"] == \"N02\"]\n",
    "Time_data_quantity_N02_date = Time_data_quantity_N02.groupby([\"SHOP_DATE\"]).sum().reset_index()\n",
    "print(Time_data_quantity_N02_date )"
   ]
  },
  {
   "cell_type": "markdown",
   "metadata": {},
   "source": [
    "### Region W02"
   ]
  },
  {
   "cell_type": "code",
   "execution_count": 584,
   "metadata": {},
   "outputs": [
    {
     "name": "stdout",
     "output_type": "stream",
     "text": [
      "   SHOP_DATE  SPEND\n",
      "0 2006-04-11    630\n",
      "1 2006-04-14   1637\n",
      "\n",
      "\n",
      "   SHOP_DATE  QUANTITY\n",
      "0 2006-04-11         6\n",
      "1 2006-04-14         7\n"
     ]
    }
   ],
   "source": [
    "#extracting data for region W02\n",
    "Time_data_spend_W02 =Time_data_spend[Time_data_spend[\"STORE_REGION\"] == \"W02\"]\n",
    "Time_data_spend_W02_date = Time_data_spend_W02.groupby([\"SHOP_DATE\"]).sum().reset_index()\n",
    "print(Time_data_spend_W02_date)\n",
    "\n",
    "print(\"\\n\")\n",
    "\n",
    "#extracting quantity data for region W02\n",
    "Time_data_quantity_W02 =Time_data_quantity[Time_data_spend[\"STORE_REGION\"] == \"W02\"]\n",
    "Time_data_quantity_W02_date = Time_data_quantity_W02.groupby([\"SHOP_DATE\"]).sum().reset_index()\n",
    "print(Time_data_quantity_W02_date )"
   ]
  },
  {
   "cell_type": "markdown",
   "metadata": {},
   "source": [
    "### Region E02"
   ]
  },
  {
   "cell_type": "code",
   "execution_count": 585,
   "metadata": {},
   "outputs": [
    {
     "name": "stdout",
     "output_type": "stream",
     "text": [
      "   SHOP_DATE  SPEND\n",
      "0 2006-04-11    630\n",
      "1 2006-04-14   1637\n",
      "\n",
      "\n",
      "   SHOP_DATE  QUANTITY\n",
      "0 2006-04-12         8\n",
      "1 2006-04-13        18\n"
     ]
    }
   ],
   "source": [
    "#extracting data for region E02\n",
    "Time_data_spend_E02 =Time_data_spend[Time_data_spend[\"STORE_REGION\"] == \"E02\"]\n",
    "Time_data_spend_E02_date = Time_data_spend_W02.groupby([\"SHOP_DATE\"]).sum().reset_index()\n",
    "print(Time_data_spend_E02_date) \n",
    "\n",
    "print(\"\\n\")\n",
    "\n",
    "#extracting quantity data for region E02\n",
    "Time_data_quantity_E02 =Time_data_quantity[Time_data_spend[\"STORE_REGION\"] == \"E02\"]\n",
    "Time_data_quantity_E02_date = Time_data_quantity_E02.groupby([\"SHOP_DATE\"]).sum().reset_index()\n",
    "print(Time_data_quantity_E02_date )"
   ]
  },
  {
   "cell_type": "markdown",
   "metadata": {},
   "source": [
    "### Region W01"
   ]
  },
  {
   "cell_type": "code",
   "execution_count": 586,
   "metadata": {},
   "outputs": [
    {
     "name": "stdout",
     "output_type": "stream",
     "text": [
      "   SHOP_DATE  SPEND\n",
      "0 2006-04-11    630\n",
      "1 2006-04-14   1637\n",
      "\n",
      "\n",
      "   SHOP_DATE  QUANTITY\n",
      "0 2006-04-11         4\n",
      "1 2006-04-14        24\n"
     ]
    }
   ],
   "source": [
    "#extracting data for region W01\n",
    "Time_data_spend_W01 =Time_data_spend[Time_data_spend[\"STORE_REGION\"] == \"W01\"]\n",
    "Time_data_spend_W01_date = Time_data_spend_W02.groupby([\"SHOP_DATE\"]).sum().reset_index()\n",
    "print(Time_data_spend_W01_date) \n",
    "\n",
    "print(\"\\n\")\n",
    "\n",
    "#extracting quantity data for region W01\n",
    "Time_data_quantity_W01 =Time_data_quantity[Time_data_spend[\"STORE_REGION\"] == \"W01\"]\n",
    "Time_data_quantity_W01_date = Time_data_quantity_W01.groupby([\"SHOP_DATE\"]).sum().reset_index()\n",
    "print(Time_data_quantity_W01_date )"
   ]
  },
  {
   "cell_type": "markdown",
   "metadata": {},
   "source": [
    "### Region S02"
   ]
  },
  {
   "cell_type": "code",
   "execution_count": 587,
   "metadata": {},
   "outputs": [
    {
     "name": "stdout",
     "output_type": "stream",
     "text": [
      "   SHOP_DATE  SPEND\n",
      "0 2006-04-12    626\n",
      "\n",
      "\n",
      "   SHOP_DATE  QUANTITY\n",
      "0 2006-04-12         7\n"
     ]
    }
   ],
   "source": [
    "#extracting data for region S02\n",
    "Time_data_spend_S02 =Time_data_spend[Time_data_spend[\"STORE_REGION\"] == \"S02\"]\n",
    "Time_data_spend_S02_date = Time_data_spend_S02.groupby([\"SHOP_DATE\"]).sum().reset_index()\n",
    "print(Time_data_spend_S02_date )\n",
    "\n",
    "print(\"\\n\")\n",
    "\n",
    "#extracting quantity data for region S02\n",
    "Time_data_quantity_S02 =Time_data_quantity[Time_data_spend[\"STORE_REGION\"] == \"S02\"]\n",
    "Time_data_quantity_S02_date = Time_data_quantity_S02.groupby([\"SHOP_DATE\"]).sum().reset_index()\n",
    "print(Time_data_quantity_S02_date )"
   ]
  },
  {
   "cell_type": "markdown",
   "metadata": {},
   "source": [
    "### Region S01"
   ]
  },
  {
   "cell_type": "code",
   "execution_count": 588,
   "metadata": {},
   "outputs": [
    {
     "name": "stdout",
     "output_type": "stream",
     "text": [
      "   SHOP_DATE  SPEND\n",
      "0 2006-04-11    231\n",
      "1 2006-04-12   1321\n",
      "2 2006-04-13     92\n",
      "\n",
      "\n",
      "   SHOP_DATE  QUANTITY\n",
      "0 2006-04-11         3\n",
      "1 2006-04-12        13\n",
      "2 2006-04-13         1\n"
     ]
    }
   ],
   "source": [
    "#extracting data for region S01\n",
    "\n",
    "Time_data_spend_S01 =Time_data_spend[Time_data_spend[\"STORE_REGION\"] == \"S01\"]\n",
    "Time_data_spend_S01_date = Time_data_spend_S01.groupby([\"SHOP_DATE\"]).sum().reset_index()\n",
    "print(Time_data_spend_S01_date )\n",
    "\n",
    "print(\"\\n\")\n",
    "\n",
    "#extracting quantity data for region S01\n",
    "Time_data_quantity_S01 =Time_data_quantity[Time_data_spend[\"STORE_REGION\"] == \"S01\"]\n",
    "Time_data_quantity_S01_date = Time_data_quantity_S01.groupby([\"SHOP_DATE\"]).sum().reset_index()\n",
    "print(Time_data_quantity_S01_date )"
   ]
  },
  {
   "cell_type": "markdown",
   "metadata": {},
   "source": [
    "### Region N03"
   ]
  },
  {
   "cell_type": "code",
   "execution_count": 589,
   "metadata": {},
   "outputs": [
    {
     "name": "stdout",
     "output_type": "stream",
     "text": [
      "   SHOP_DATE  SPEND\n",
      "0 2006-04-12   1490\n",
      "1 2006-04-13    189\n",
      "\n",
      "\n",
      "   SHOP_DATE  QUANTITY\n",
      "0 2006-04-12        21\n",
      "1 2006-04-13         2\n"
     ]
    }
   ],
   "source": [
    "#extracting data for region N03\n",
    "Time_data_spend_N03 =Time_data_spend[Time_data_spend[\"STORE_REGION\"] == \"N03\"]\n",
    "Time_data_spend_N03_date = Time_data_spend_N03.groupby([\"SHOP_DATE\"]).sum().reset_index()\n",
    "print(Time_data_spend_N03_date) \n",
    "\n",
    "print(\"\\n\")\n",
    "\n",
    "#extracting quantity data for region N03\n",
    "Time_data_quantity_N03 =Time_data_quantity[Time_data_spend[\"STORE_REGION\"] == \"N03\"]\n",
    "Time_data_quantity_N03_date = Time_data_quantity_N03.groupby([\"SHOP_DATE\"]).sum().reset_index()\n",
    "print(Time_data_quantity_N03_date )"
   ]
  },
  {
   "cell_type": "markdown",
   "metadata": {},
   "source": [
    "### Region S03"
   ]
  },
  {
   "cell_type": "code",
   "execution_count": 590,
   "metadata": {},
   "outputs": [
    {
     "name": "stdout",
     "output_type": "stream",
     "text": [
      "   SHOP_DATE  SPEND\n",
      "0 2006-04-10    729\n",
      "1 2006-04-12   2203\n",
      "\n",
      "\n",
      "   SHOP_DATE  QUANTITY\n",
      "0 2006-04-10         3\n",
      "1 2006-04-12        15\n"
     ]
    }
   ],
   "source": [
    "#extracting data for region S03\n",
    "Time_data_spend_S03 =Time_data_spend[Time_data_spend[\"STORE_REGION\"] == \"S03\"]\n",
    "Time_data_spend_S03_date = Time_data_spend_S03.groupby([\"SHOP_DATE\"]).sum().reset_index()\n",
    "print(Time_data_spend_S03_date )\n",
    "\n",
    "print(\"\\n\")\n",
    "\n",
    "#extracting quantity data for region S03\n",
    "Time_data_quantity_S03 =Time_data_quantity[Time_data_spend[\"STORE_REGION\"] == \"S03\"]\n",
    "Time_data_quantity_S03_date = Time_data_quantity_S03.groupby([\"SHOP_DATE\"]).sum().reset_index()\n",
    "print(Time_data_quantity_S03_date )"
   ]
  },
  {
   "cell_type": "markdown",
   "metadata": {},
   "source": [
    "# PREDICTION MODEL"
   ]
  },
  {
   "cell_type": "code",
   "execution_count": 591,
   "metadata": {},
   "outputs": [
    {
     "data": {
      "text/html": [
       "<div>\n",
       "<style scoped>\n",
       "    .dataframe tbody tr th:only-of-type {\n",
       "        vertical-align: middle;\n",
       "    }\n",
       "\n",
       "    .dataframe tbody tr th {\n",
       "        vertical-align: top;\n",
       "    }\n",
       "\n",
       "    .dataframe thead th {\n",
       "        text-align: right;\n",
       "    }\n",
       "</style>\n",
       "<table border=\"1\" class=\"dataframe\">\n",
       "  <thead>\n",
       "    <tr style=\"text-align: right;\">\n",
       "      <th></th>\n",
       "      <th>QUANTITY</th>\n",
       "      <th>SPEND</th>\n",
       "      <th>SHOP_WEEKDAY</th>\n",
       "      <th>SHOP_HOUR</th>\n",
       "      <th>PROD_CODE_10</th>\n",
       "      <th>CUST_PRICE_SENSITIVITY</th>\n",
       "      <th>CUST_LIFESTAGE</th>\n",
       "      <th>BASKET_SIZE</th>\n",
       "      <th>BASKET_DOMINANT_MISSION</th>\n",
       "      <th>BASKET_TYPE</th>\n",
       "      <th>STORE_FORMAT</th>\n",
       "      <th>STORE_REGION</th>\n",
       "    </tr>\n",
       "  </thead>\n",
       "  <tbody>\n",
       "    <tr>\n",
       "      <td>0</td>\n",
       "      <td>1</td>\n",
       "      <td>103</td>\n",
       "      <td>5</td>\n",
       "      <td>20</td>\n",
       "      <td>CL00001</td>\n",
       "      <td>LA</td>\n",
       "      <td>YF</td>\n",
       "      <td>L</td>\n",
       "      <td>Fresh</td>\n",
       "      <td>Top Up</td>\n",
       "      <td>LS</td>\n",
       "      <td>E02</td>\n",
       "    </tr>\n",
       "    <tr>\n",
       "      <td>1</td>\n",
       "      <td>1</td>\n",
       "      <td>28</td>\n",
       "      <td>4</td>\n",
       "      <td>19</td>\n",
       "      <td>CL00070</td>\n",
       "      <td>LA</td>\n",
       "      <td>YF</td>\n",
       "      <td>M</td>\n",
       "      <td>Fresh</td>\n",
       "      <td>Small Shop</td>\n",
       "      <td>LS</td>\n",
       "      <td>E02</td>\n",
       "    </tr>\n",
       "    <tr>\n",
       "      <td>2</td>\n",
       "      <td>3</td>\n",
       "      <td>84</td>\n",
       "      <td>5</td>\n",
       "      <td>20</td>\n",
       "      <td>CL00167</td>\n",
       "      <td>LA</td>\n",
       "      <td>YF</td>\n",
       "      <td>L</td>\n",
       "      <td>Fresh</td>\n",
       "      <td>Top Up</td>\n",
       "      <td>LS</td>\n",
       "      <td>E02</td>\n",
       "    </tr>\n",
       "    <tr>\n",
       "      <td>3</td>\n",
       "      <td>1</td>\n",
       "      <td>221</td>\n",
       "      <td>4</td>\n",
       "      <td>19</td>\n",
       "      <td>CL00010</td>\n",
       "      <td>LA</td>\n",
       "      <td>YF</td>\n",
       "      <td>M</td>\n",
       "      <td>Fresh</td>\n",
       "      <td>Small Shop</td>\n",
       "      <td>LS</td>\n",
       "      <td>E02</td>\n",
       "    </tr>\n",
       "    <tr>\n",
       "      <td>4</td>\n",
       "      <td>1</td>\n",
       "      <td>334</td>\n",
       "      <td>5</td>\n",
       "      <td>20</td>\n",
       "      <td>CL00073</td>\n",
       "      <td>LA</td>\n",
       "      <td>YF</td>\n",
       "      <td>L</td>\n",
       "      <td>Fresh</td>\n",
       "      <td>Top Up</td>\n",
       "      <td>LS</td>\n",
       "      <td>E02</td>\n",
       "    </tr>\n",
       "  </tbody>\n",
       "</table>\n",
       "</div>"
      ],
      "text/plain": [
       "   QUANTITY  SPEND  SHOP_WEEKDAY  SHOP_HOUR PROD_CODE_10  \\\n",
       "0         1    103             5         20      CL00001   \n",
       "1         1     28             4         19      CL00070   \n",
       "2         3     84             5         20      CL00167   \n",
       "3         1    221             4         19      CL00010   \n",
       "4         1    334             5         20      CL00073   \n",
       "\n",
       "  CUST_PRICE_SENSITIVITY CUST_LIFESTAGE BASKET_SIZE BASKET_DOMINANT_MISSION  \\\n",
       "0                     LA             YF           L                   Fresh   \n",
       "1                     LA             YF           M                   Fresh   \n",
       "2                     LA             YF           L                   Fresh   \n",
       "3                     LA             YF           M                   Fresh   \n",
       "4                     LA             YF           L                   Fresh   \n",
       "\n",
       "  BASKET_TYPE STORE_FORMAT STORE_REGION  \n",
       "0      Top Up           LS          E02  \n",
       "1  Small Shop           LS          E02  \n",
       "2      Top Up           LS          E02  \n",
       "3  Small Shop           LS          E02  \n",
       "4      Top Up           LS          E02  "
      ]
     },
     "execution_count": 591,
     "metadata": {},
     "output_type": "execute_result"
    }
   ],
   "source": [
    "#Extracting data for modelling\n",
    "dataset_for_model = Time_data[[\"QUANTITY\", \"SPEND\", \"SHOP_WEEKDAY\" ,\"SHOP_HOUR\",  \"PROD_CODE_10\", \"CUST_PRICE_SENSITIVITY\", \"CUST_LIFESTAGE\",\"BASKET_SIZE\",\"BASKET_DOMINANT_MISSION\",\"BASKET_TYPE\" ,\"STORE_FORMAT\", \"STORE_REGION\"]]\n",
    "\n",
    "#viewing the data\n",
    "dataset_for_model.head()"
   ]
  },
  {
   "cell_type": "code",
   "execution_count": 592,
   "metadata": {},
   "outputs": [
    {
     "data": {
      "text/plain": [
       "array(['Thursday', 'Wednesday', 'Friday', 'Tuesday', 'Monday'],\n",
       "      dtype=object)"
      ]
     },
     "execution_count": 592,
     "metadata": {},
     "output_type": "execute_result"
    }
   ],
   "source": [
    "#replace data point in SHOP_WEEKDAY\n",
    "day_dictionary= {2:\"Monday\", 3:\"Tuesday\", 4:\"Wednesday\", 5:\"Thursday\", 6:\"Friday\", 7:\"Saturday\", 1:\"Sunday\"}\n",
    "\n",
    "# Replace the values\n",
    "dataset_for_model[\"SHOP_WEEKDAY\"].replace(day_dictionary, inplace=True)\n",
    "\n",
    "# Display the data\n",
    "dataset_for_model[\"SHOP_WEEKDAY\"].unique()"
   ]
  },
  {
   "cell_type": "code",
   "execution_count": 593,
   "metadata": {},
   "outputs": [
    {
     "data": {
      "text/plain": [
       "QUANTITY                    0\n",
       "SPEND                       0\n",
       "SHOP_WEEKDAY                0\n",
       "SHOP_HOUR                   0\n",
       "PROD_CODE_10                0\n",
       "CUST_PRICE_SENSITIVITY     46\n",
       "CUST_LIFESTAGE             46\n",
       "BASKET_SIZE                 0\n",
       "BASKET_DOMINANT_MISSION     0\n",
       "BASKET_TYPE                 0\n",
       "STORE_FORMAT                0\n",
       "STORE_REGION                0\n",
       "dtype: int64"
      ]
     },
     "execution_count": 593,
     "metadata": {},
     "output_type": "execute_result"
    }
   ],
   "source": [
    "#looking for missing values\n",
    "dataset_for_model.isnull().sum()"
   ]
  },
  {
   "cell_type": "code",
   "execution_count": 594,
   "metadata": {},
   "outputs": [],
   "source": [
    "# replacing nan with XX in CUST_LIFESTAGE\n",
    "dataset_for_model[\"CUST_PRICE_SENSITIVITY\"].fillna(\"XX\",inplace=True)"
   ]
  },
  {
   "cell_type": "code",
   "execution_count": 595,
   "metadata": {},
   "outputs": [],
   "source": [
    "# replacing nan with XX in CUST_LIFESTAGE\n",
    "dataset_for_model[\"CUST_LIFESTAGE\"].fillna(\"XX\",inplace=True)"
   ]
  },
  {
   "cell_type": "code",
   "execution_count": 596,
   "metadata": {},
   "outputs": [
    {
     "data": {
      "text/plain": [
       "QUANTITY                   0\n",
       "SPEND                      0\n",
       "SHOP_WEEKDAY               0\n",
       "SHOP_HOUR                  0\n",
       "PROD_CODE_10               0\n",
       "CUST_PRICE_SENSITIVITY     0\n",
       "CUST_LIFESTAGE             0\n",
       "BASKET_SIZE                0\n",
       "BASKET_DOMINANT_MISSION    0\n",
       "BASKET_TYPE                0\n",
       "STORE_FORMAT               0\n",
       "STORE_REGION               0\n",
       "dtype: int64"
      ]
     },
     "execution_count": 596,
     "metadata": {},
     "output_type": "execute_result"
    }
   ],
   "source": [
    "#looking for missing values\n",
    "dataset_for_model.isnull().sum()"
   ]
  },
  {
   "cell_type": "code",
   "execution_count": 597,
   "metadata": {},
   "outputs": [
    {
     "data": {
      "text/html": [
       "<div>\n",
       "<style scoped>\n",
       "    .dataframe tbody tr th:only-of-type {\n",
       "        vertical-align: middle;\n",
       "    }\n",
       "\n",
       "    .dataframe tbody tr th {\n",
       "        vertical-align: top;\n",
       "    }\n",
       "\n",
       "    .dataframe thead th {\n",
       "        text-align: right;\n",
       "    }\n",
       "</style>\n",
       "<table border=\"1\" class=\"dataframe\">\n",
       "  <thead>\n",
       "    <tr style=\"text-align: right;\">\n",
       "      <th></th>\n",
       "      <th>QUANTITY</th>\n",
       "      <th>SPEND</th>\n",
       "      <th>SHOP_WEEKDAY</th>\n",
       "      <th>SHOP_HOUR</th>\n",
       "      <th>PROD_CODE_10</th>\n",
       "      <th>CUST_PRICE_SENSITIVITY</th>\n",
       "      <th>CUST_LIFESTAGE</th>\n",
       "      <th>BASKET_SIZE</th>\n",
       "      <th>BASKET_DOMINANT_MISSION</th>\n",
       "      <th>BASKET_TYPE</th>\n",
       "      <th>STORE_FORMAT</th>\n",
       "      <th>STORE_REGION</th>\n",
       "    </tr>\n",
       "  </thead>\n",
       "  <tbody>\n",
       "    <tr>\n",
       "      <td>0</td>\n",
       "      <td>1</td>\n",
       "      <td>103</td>\n",
       "      <td>Thursday</td>\n",
       "      <td>20</td>\n",
       "      <td>CL00001</td>\n",
       "      <td>LA</td>\n",
       "      <td>YF</td>\n",
       "      <td>L</td>\n",
       "      <td>Fresh</td>\n",
       "      <td>Top Up</td>\n",
       "      <td>LS</td>\n",
       "      <td>E02</td>\n",
       "    </tr>\n",
       "    <tr>\n",
       "      <td>1</td>\n",
       "      <td>1</td>\n",
       "      <td>28</td>\n",
       "      <td>Wednesday</td>\n",
       "      <td>19</td>\n",
       "      <td>CL00070</td>\n",
       "      <td>LA</td>\n",
       "      <td>YF</td>\n",
       "      <td>M</td>\n",
       "      <td>Fresh</td>\n",
       "      <td>Small Shop</td>\n",
       "      <td>LS</td>\n",
       "      <td>E02</td>\n",
       "    </tr>\n",
       "    <tr>\n",
       "      <td>2</td>\n",
       "      <td>3</td>\n",
       "      <td>84</td>\n",
       "      <td>Thursday</td>\n",
       "      <td>20</td>\n",
       "      <td>CL00167</td>\n",
       "      <td>LA</td>\n",
       "      <td>YF</td>\n",
       "      <td>L</td>\n",
       "      <td>Fresh</td>\n",
       "      <td>Top Up</td>\n",
       "      <td>LS</td>\n",
       "      <td>E02</td>\n",
       "    </tr>\n",
       "    <tr>\n",
       "      <td>3</td>\n",
       "      <td>1</td>\n",
       "      <td>221</td>\n",
       "      <td>Wednesday</td>\n",
       "      <td>19</td>\n",
       "      <td>CL00010</td>\n",
       "      <td>LA</td>\n",
       "      <td>YF</td>\n",
       "      <td>M</td>\n",
       "      <td>Fresh</td>\n",
       "      <td>Small Shop</td>\n",
       "      <td>LS</td>\n",
       "      <td>E02</td>\n",
       "    </tr>\n",
       "    <tr>\n",
       "      <td>4</td>\n",
       "      <td>1</td>\n",
       "      <td>334</td>\n",
       "      <td>Thursday</td>\n",
       "      <td>20</td>\n",
       "      <td>CL00073</td>\n",
       "      <td>LA</td>\n",
       "      <td>YF</td>\n",
       "      <td>L</td>\n",
       "      <td>Fresh</td>\n",
       "      <td>Top Up</td>\n",
       "      <td>LS</td>\n",
       "      <td>E02</td>\n",
       "    </tr>\n",
       "  </tbody>\n",
       "</table>\n",
       "</div>"
      ],
      "text/plain": [
       "   QUANTITY  SPEND SHOP_WEEKDAY  SHOP_HOUR PROD_CODE_10  \\\n",
       "0         1    103     Thursday         20      CL00001   \n",
       "1         1     28    Wednesday         19      CL00070   \n",
       "2         3     84     Thursday         20      CL00167   \n",
       "3         1    221    Wednesday         19      CL00010   \n",
       "4         1    334     Thursday         20      CL00073   \n",
       "\n",
       "  CUST_PRICE_SENSITIVITY CUST_LIFESTAGE BASKET_SIZE BASKET_DOMINANT_MISSION  \\\n",
       "0                     LA             YF           L                   Fresh   \n",
       "1                     LA             YF           M                   Fresh   \n",
       "2                     LA             YF           L                   Fresh   \n",
       "3                     LA             YF           M                   Fresh   \n",
       "4                     LA             YF           L                   Fresh   \n",
       "\n",
       "  BASKET_TYPE STORE_FORMAT STORE_REGION  \n",
       "0      Top Up           LS          E02  \n",
       "1  Small Shop           LS          E02  \n",
       "2      Top Up           LS          E02  \n",
       "3  Small Shop           LS          E02  \n",
       "4      Top Up           LS          E02  "
      ]
     },
     "execution_count": 597,
     "metadata": {},
     "output_type": "execute_result"
    }
   ],
   "source": [
    "dataset_for_model.head()"
   ]
  },
  {
   "cell_type": "markdown",
   "metadata": {},
   "source": [
    "### Specifying The Independent Variables and Dependend Variable"
   ]
  },
  {
   "cell_type": "code",
   "execution_count": 598,
   "metadata": {},
   "outputs": [],
   "source": [
    "#Independent Variables\n",
    "X = dataset_for_model[[\"QUANTITY\",\"SPEND\", \"SHOP_WEEKDAY\",\"SHOP_HOUR\",\"PROD_CODE_10\",\"CUST_PRICE_SENSITIVITY\",\"CUST_LIFESTAGE\",\"BASKET_SIZE\",\"BASKET_DOMINANT_MISSION\",\"BASKET_TYPE\",\"STORE_FORMAT\"]]\n",
    "#Dependend Variable\n",
    "Y = dataset_for_model[\"STORE_REGION\"]"
   ]
  },
  {
   "cell_type": "markdown",
   "metadata": {},
   "source": [
    "### PreProcessing Data"
   ]
  },
  {
   "cell_type": "markdown",
   "metadata": {},
   "source": [
    "#### Encoding Categorical Variables"
   ]
  },
  {
   "cell_type": "markdown",
   "metadata": {},
   "source": [
    "##### Performing frequency encoding"
   ]
  },
  {
   "cell_type": "code",
   "execution_count": 599,
   "metadata": {},
   "outputs": [],
   "source": [
    "# Encoding store region using Frequency Encoding\n",
    "#store_region_fe = Y.groupby('STORE_REGION').size()/len(Y)\n",
    "#Y.loc[:,'STORE_REGION_ENC'] = Y['STORE_REGION'].map(store_region_fe)"
   ]
  },
  {
   "cell_type": "code",
   "execution_count": 600,
   "metadata": {},
   "outputs": [],
   "source": [
    "# Encoding shop week using Frequency Encoding\n",
    "shop_week_fe = X.groupby('SHOP_WEEKDAY').size()/len(X)\n",
    "X.loc[:,'SHOP_WEEKDAY_ENC'] = X['SHOP_WEEKDAY'].map(shop_week_fe)"
   ]
  },
  {
   "cell_type": "code",
   "execution_count": 601,
   "metadata": {},
   "outputs": [],
   "source": [
    "# Encoding product code 10 using Frequency Encoding\n",
    "prod_code_10_fe = X.groupby('PROD_CODE_10').size()/len(X)\n",
    "X.loc[:,'PROD_CODE_10_ENC'] = X['PROD_CODE_10'].map(prod_code_10_fe)"
   ]
  },
  {
   "cell_type": "code",
   "execution_count": 602,
   "metadata": {},
   "outputs": [],
   "source": [
    "# Encoding customer price sensitivity using Frequency Encoding\n",
    "cust_price_sensitivity_fe = X.groupby('CUST_PRICE_SENSITIVITY').size()/len(X)\n",
    "X.loc[:,'CUST_PRICE_SENSITIVITY_ENC'] = X['CUST_PRICE_SENSITIVITY'].map(cust_price_sensitivity_fe)"
   ]
  },
  {
   "cell_type": "code",
   "execution_count": 603,
   "metadata": {},
   "outputs": [],
   "source": [
    "# Encoding customer price sensitivity using Frequency Encoding\n",
    "cust_price_sensitivity_fe = X.groupby('CUST_PRICE_SENSITIVITY').size()/len(X)\n",
    "X.loc[:,'CUST_PRICE_SENSITIVITY_ENC'] = X['CUST_PRICE_SENSITIVITY'].map(cust_price_sensitivity_fe)"
   ]
  },
  {
   "cell_type": "code",
   "execution_count": 604,
   "metadata": {},
   "outputs": [],
   "source": [
    "# Encoding customer price sensitivity using Frequency Encoding\n",
    "cust_lifestage_fe = X.groupby('CUST_LIFESTAGE').size()/len(X)\n",
    "X.loc[:,'CUST_LIFESTAGE_ENC'] = X['CUST_LIFESTAGE'].map(cust_lifestage_fe)"
   ]
  },
  {
   "cell_type": "code",
   "execution_count": 605,
   "metadata": {},
   "outputs": [],
   "source": [
    "# Encoding basket dominant mission using Frequency Encoding\n",
    "basket_dominant_mission_fe = X.groupby('BASKET_DOMINANT_MISSION').size()/len(X)\n",
    "X.loc[:,'BASKET_DOMINANT_MISSION_ENC'] = X['BASKET_DOMINANT_MISSION'].map(basket_dominant_mission_fe)"
   ]
  },
  {
   "cell_type": "code",
   "execution_count": 606,
   "metadata": {},
   "outputs": [],
   "source": [
    "# Encoding basket size using Frequency Encoding\n",
    "basket_size_fe = X.groupby('BASKET_SIZE').size()/len(X)\n",
    "X.loc[:,'BASKET_SIZE_ENC'] = X['BASKET_SIZE'].map(basket_size_fe)"
   ]
  },
  {
   "cell_type": "code",
   "execution_count": 607,
   "metadata": {},
   "outputs": [],
   "source": [
    "# Encoding store format using Frequency Encoding\n",
    "store_format_fe = X.groupby('STORE_FORMAT').size()/len(X)\n",
    "X.loc[:,'STORE_FORMAT_ENC'] = X['STORE_FORMAT'].map(store_format_fe)"
   ]
  },
  {
   "cell_type": "code",
   "execution_count": 608,
   "metadata": {},
   "outputs": [],
   "source": [
    "# Encoding the basket type using Frequency Encoding\n",
    "basket_type_fe = X.groupby('BASKET_TYPE').size()/len(X)\n",
    "X.loc[:,'BASKET_TYPE_ENC'] = X['BASKET_TYPE'].map(basket_type_fe)"
   ]
  },
  {
   "cell_type": "code",
   "execution_count": 609,
   "metadata": {
    "scrolled": false
   },
   "outputs": [
    {
     "data": {
      "text/plain": [
       "Index(['QUANTITY', 'SPEND', 'SHOP_WEEKDAY', 'SHOP_HOUR', 'PROD_CODE_10',\n",
       "       'CUST_PRICE_SENSITIVITY', 'CUST_LIFESTAGE', 'BASKET_SIZE',\n",
       "       'BASKET_DOMINANT_MISSION', 'BASKET_TYPE', 'STORE_FORMAT',\n",
       "       'SHOP_WEEKDAY_ENC', 'PROD_CODE_10_ENC', 'CUST_PRICE_SENSITIVITY_ENC',\n",
       "       'CUST_LIFESTAGE_ENC', 'BASKET_DOMINANT_MISSION_ENC', 'BASKET_SIZE_ENC',\n",
       "       'STORE_FORMAT_ENC', 'BASKET_TYPE_ENC'],\n",
       "      dtype='object')"
      ]
     },
     "execution_count": 609,
     "metadata": {},
     "output_type": "execute_result"
    }
   ],
   "source": [
    "X.columns"
   ]
  },
  {
   "cell_type": "code",
   "execution_count": 610,
   "metadata": {},
   "outputs": [],
   "source": [
    "# Drop the decoded Columns\n",
    "X.drop(columns=[\"SHOP_WEEKDAY\"],inplace=True)\n",
    "X.drop(columns=[\"PROD_CODE_10\"],inplace=True)\n",
    "X.drop(columns=[\"SHOP_HOUR\"],inplace=True)\n",
    "X.drop(columns=[\"CUST_PRICE_SENSITIVITY\"],inplace=True)\n",
    "X.drop(columns=[\"CUST_LIFESTAGE\"],inplace=True)\n",
    "X.drop(columns=[\"BASKET_SIZE\"],inplace=True)\n",
    "X.drop(columns=[\"BASKET_TYPE\"],inplace=True)\n",
    "X.drop(columns=[\"BASKET_DOMINANT_MISSION\"],inplace=True)\n",
    "X.drop(columns=[\"STORE_FORMAT\"],inplace=True)"
   ]
  },
  {
   "cell_type": "markdown",
   "metadata": {},
   "source": [
    "### Spliting The Dataset - Preparing For Modelling"
   ]
  },
  {
   "cell_type": "code",
   "execution_count": 611,
   "metadata": {},
   "outputs": [],
   "source": [
    "# Split dataset into training set and test set\n",
    "# train dataset is 70%\n",
    "trainx, testx, trainy, testy = train_test_split(X, Y, test_size=0.3, random_state=0)"
   ]
  },
  {
   "cell_type": "markdown",
   "metadata": {},
   "source": [
    "## Random Forest classifier"
   ]
  },
  {
   "cell_type": "code",
   "execution_count": 612,
   "metadata": {},
   "outputs": [],
   "source": [
    "#Creating a Gaussian Classifier\n",
    "classifier = RandomForestClassifier(n_estimators=100, random_state=0)"
   ]
  },
  {
   "cell_type": "code",
   "execution_count": 613,
   "metadata": {},
   "outputs": [
    {
     "data": {
      "text/plain": [
       "RandomForestClassifier(bootstrap=True, class_weight=None, criterion='gini',\n",
       "                       max_depth=None, max_features='auto', max_leaf_nodes=None,\n",
       "                       min_impurity_decrease=0.0, min_impurity_split=None,\n",
       "                       min_samples_leaf=1, min_samples_split=2,\n",
       "                       min_weight_fraction_leaf=0.0, n_estimators=100,\n",
       "                       n_jobs=None, oob_score=False, random_state=0, verbose=0,\n",
       "                       warm_start=False)"
      ]
     },
     "execution_count": 613,
     "metadata": {},
     "output_type": "execute_result"
    }
   ],
   "source": [
    "#Training the model\n",
    "classifier.fit(trainx,trainy)"
   ]
  },
  {
   "cell_type": "code",
   "execution_count": 614,
   "metadata": {},
   "outputs": [],
   "source": [
    "#Predicting\n",
    "y_pred=classifier.predict(testx)"
   ]
  },
  {
   "cell_type": "code",
   "execution_count": 615,
   "metadata": {
    "scrolled": true
   },
   "outputs": [
    {
     "name": "stdout",
     "output_type": "stream",
     "text": [
      "Accuracy: 0.9722222222222222\n"
     ]
    }
   ],
   "source": [
    "# Model Accuracy, how often is the classifier correct?\n",
    "print(\"Accuracy:\",metrics.accuracy_score(testy, y_pred))"
   ]
  },
  {
   "cell_type": "code",
   "execution_count": 616,
   "metadata": {},
   "outputs": [
    {
     "name": "stdout",
     "output_type": "stream",
     "text": [
      "              precision    recall  f1-score   support\n",
      "\n",
      "         E02       1.00      1.00      1.00         5\n",
      "         N01       1.00      1.00      1.00         5\n",
      "         N02       1.00      1.00      1.00         7\n",
      "         N03       1.00      1.00      1.00         7\n",
      "         S01       1.00      0.50      0.67         2\n",
      "         S02       1.00      1.00      1.00         1\n",
      "         S03       1.00      1.00      1.00         1\n",
      "         W01       1.00      1.00      1.00         5\n",
      "         W02       0.75      1.00      0.86         3\n",
      "\n",
      "    accuracy                           0.97        36\n",
      "   macro avg       0.97      0.94      0.95        36\n",
      "weighted avg       0.98      0.97      0.97        36\n",
      "\n"
     ]
    }
   ],
   "source": [
    "print(metrics.classification_report(testy, y_pred))"
   ]
  },
  {
   "cell_type": "code",
   "execution_count": 617,
   "metadata": {},
   "outputs": [
    {
     "data": {
      "text/html": [
       "<div>\n",
       "<style scoped>\n",
       "    .dataframe tbody tr th:only-of-type {\n",
       "        vertical-align: middle;\n",
       "    }\n",
       "\n",
       "    .dataframe tbody tr th {\n",
       "        vertical-align: top;\n",
       "    }\n",
       "\n",
       "    .dataframe thead th {\n",
       "        text-align: right;\n",
       "    }\n",
       "</style>\n",
       "<table border=\"1\" class=\"dataframe\">\n",
       "  <thead>\n",
       "    <tr style=\"text-align: right;\">\n",
       "      <th></th>\n",
       "      <th>0</th>\n",
       "      <th>1</th>\n",
       "      <th>2</th>\n",
       "      <th>3</th>\n",
       "      <th>4</th>\n",
       "      <th>5</th>\n",
       "      <th>6</th>\n",
       "      <th>7</th>\n",
       "      <th>8</th>\n",
       "    </tr>\n",
       "  </thead>\n",
       "  <tbody>\n",
       "    <tr>\n",
       "      <td>0</td>\n",
       "      <td>5</td>\n",
       "      <td>0</td>\n",
       "      <td>0</td>\n",
       "      <td>0</td>\n",
       "      <td>0</td>\n",
       "      <td>0</td>\n",
       "      <td>0</td>\n",
       "      <td>0</td>\n",
       "      <td>0</td>\n",
       "    </tr>\n",
       "    <tr>\n",
       "      <td>1</td>\n",
       "      <td>0</td>\n",
       "      <td>5</td>\n",
       "      <td>0</td>\n",
       "      <td>0</td>\n",
       "      <td>0</td>\n",
       "      <td>0</td>\n",
       "      <td>0</td>\n",
       "      <td>0</td>\n",
       "      <td>0</td>\n",
       "    </tr>\n",
       "    <tr>\n",
       "      <td>2</td>\n",
       "      <td>0</td>\n",
       "      <td>0</td>\n",
       "      <td>7</td>\n",
       "      <td>0</td>\n",
       "      <td>0</td>\n",
       "      <td>0</td>\n",
       "      <td>0</td>\n",
       "      <td>0</td>\n",
       "      <td>0</td>\n",
       "    </tr>\n",
       "    <tr>\n",
       "      <td>3</td>\n",
       "      <td>0</td>\n",
       "      <td>0</td>\n",
       "      <td>0</td>\n",
       "      <td>7</td>\n",
       "      <td>0</td>\n",
       "      <td>0</td>\n",
       "      <td>0</td>\n",
       "      <td>0</td>\n",
       "      <td>0</td>\n",
       "    </tr>\n",
       "    <tr>\n",
       "      <td>4</td>\n",
       "      <td>0</td>\n",
       "      <td>0</td>\n",
       "      <td>0</td>\n",
       "      <td>0</td>\n",
       "      <td>1</td>\n",
       "      <td>0</td>\n",
       "      <td>0</td>\n",
       "      <td>0</td>\n",
       "      <td>1</td>\n",
       "    </tr>\n",
       "    <tr>\n",
       "      <td>5</td>\n",
       "      <td>0</td>\n",
       "      <td>0</td>\n",
       "      <td>0</td>\n",
       "      <td>0</td>\n",
       "      <td>0</td>\n",
       "      <td>1</td>\n",
       "      <td>0</td>\n",
       "      <td>0</td>\n",
       "      <td>0</td>\n",
       "    </tr>\n",
       "    <tr>\n",
       "      <td>6</td>\n",
       "      <td>0</td>\n",
       "      <td>0</td>\n",
       "      <td>0</td>\n",
       "      <td>0</td>\n",
       "      <td>0</td>\n",
       "      <td>0</td>\n",
       "      <td>1</td>\n",
       "      <td>0</td>\n",
       "      <td>0</td>\n",
       "    </tr>\n",
       "    <tr>\n",
       "      <td>7</td>\n",
       "      <td>0</td>\n",
       "      <td>0</td>\n",
       "      <td>0</td>\n",
       "      <td>0</td>\n",
       "      <td>0</td>\n",
       "      <td>0</td>\n",
       "      <td>0</td>\n",
       "      <td>5</td>\n",
       "      <td>0</td>\n",
       "    </tr>\n",
       "    <tr>\n",
       "      <td>8</td>\n",
       "      <td>0</td>\n",
       "      <td>0</td>\n",
       "      <td>0</td>\n",
       "      <td>0</td>\n",
       "      <td>0</td>\n",
       "      <td>0</td>\n",
       "      <td>0</td>\n",
       "      <td>0</td>\n",
       "      <td>3</td>\n",
       "    </tr>\n",
       "  </tbody>\n",
       "</table>\n",
       "</div>"
      ],
      "text/plain": [
       "   0  1  2  3  4  5  6  7  8\n",
       "0  5  0  0  0  0  0  0  0  0\n",
       "1  0  5  0  0  0  0  0  0  0\n",
       "2  0  0  7  0  0  0  0  0  0\n",
       "3  0  0  0  7  0  0  0  0  0\n",
       "4  0  0  0  0  1  0  0  0  1\n",
       "5  0  0  0  0  0  1  0  0  0\n",
       "6  0  0  0  0  0  0  1  0  0\n",
       "7  0  0  0  0  0  0  0  5  0\n",
       "8  0  0  0  0  0  0  0  0  3"
      ]
     },
     "execution_count": 617,
     "metadata": {},
     "output_type": "execute_result"
    }
   ],
   "source": [
    "# confusion matrix\n",
    "confusion_matrix=pd.DataFrame(metrics.confusion_matrix(testy, y_pred))\n",
    "confusion_matrix"
   ]
  },
  {
   "cell_type": "markdown",
   "metadata": {},
   "source": [
    "## Decision Trees"
   ]
  },
  {
   "cell_type": "code",
   "execution_count": 618,
   "metadata": {},
   "outputs": [],
   "source": [
    "#importing the classifier\n",
    "from sklearn import tree\n",
    "\n",
    "decision_classifier = tree.DecisionTreeClassifier()"
   ]
  },
  {
   "cell_type": "code",
   "execution_count": 619,
   "metadata": {},
   "outputs": [
    {
     "data": {
      "text/plain": [
       "DecisionTreeClassifier(class_weight=None, criterion='gini', max_depth=None,\n",
       "                       max_features=None, max_leaf_nodes=None,\n",
       "                       min_impurity_decrease=0.0, min_impurity_split=None,\n",
       "                       min_samples_leaf=1, min_samples_split=2,\n",
       "                       min_weight_fraction_leaf=0.0, presort=False,\n",
       "                       random_state=None, splitter='best')"
      ]
     },
     "execution_count": 619,
     "metadata": {},
     "output_type": "execute_result"
    }
   ],
   "source": [
    "#train\n",
    "decision_classifier.fit(trainx, trainy)"
   ]
  },
  {
   "cell_type": "code",
   "execution_count": 620,
   "metadata": {},
   "outputs": [],
   "source": [
    "#predict\n",
    "y_pred_decision_tree=decision_classifier.predict(testx)"
   ]
  },
  {
   "cell_type": "code",
   "execution_count": 621,
   "metadata": {},
   "outputs": [
    {
     "name": "stdout",
     "output_type": "stream",
     "text": [
      "Accuracy: 0.9722222222222222\n"
     ]
    }
   ],
   "source": [
    "# Model Accuracy, how often is the classifier correct?\n",
    "print(\"Accuracy:\",metrics.accuracy_score(testy, y_pred_decision_tree))"
   ]
  },
  {
   "cell_type": "code",
   "execution_count": 622,
   "metadata": {
    "scrolled": true
   },
   "outputs": [
    {
     "name": "stdout",
     "output_type": "stream",
     "text": [
      "              precision    recall  f1-score   support\n",
      "\n",
      "         E02       1.00      1.00      1.00         5\n",
      "         N01       1.00      1.00      1.00         5\n",
      "         N02       1.00      1.00      1.00         7\n",
      "         N03       1.00      1.00      1.00         7\n",
      "         S01       1.00      0.50      0.67         2\n",
      "         S02       1.00      1.00      1.00         1\n",
      "         S03       0.50      1.00      0.67         1\n",
      "         W01       1.00      1.00      1.00         5\n",
      "         W02       1.00      1.00      1.00         3\n",
      "\n",
      "    accuracy                           0.97        36\n",
      "   macro avg       0.94      0.94      0.93        36\n",
      "weighted avg       0.99      0.97      0.97        36\n",
      "\n"
     ]
    }
   ],
   "source": [
    "print(metrics.classification_report(testy, y_pred_decision_tree))"
   ]
  },
  {
   "cell_type": "code",
   "execution_count": 623,
   "metadata": {},
   "outputs": [
    {
     "data": {
      "text/html": [
       "<div>\n",
       "<style scoped>\n",
       "    .dataframe tbody tr th:only-of-type {\n",
       "        vertical-align: middle;\n",
       "    }\n",
       "\n",
       "    .dataframe tbody tr th {\n",
       "        vertical-align: top;\n",
       "    }\n",
       "\n",
       "    .dataframe thead th {\n",
       "        text-align: right;\n",
       "    }\n",
       "</style>\n",
       "<table border=\"1\" class=\"dataframe\">\n",
       "  <thead>\n",
       "    <tr style=\"text-align: right;\">\n",
       "      <th></th>\n",
       "      <th>0</th>\n",
       "      <th>1</th>\n",
       "      <th>2</th>\n",
       "      <th>3</th>\n",
       "      <th>4</th>\n",
       "      <th>5</th>\n",
       "      <th>6</th>\n",
       "      <th>7</th>\n",
       "      <th>8</th>\n",
       "    </tr>\n",
       "  </thead>\n",
       "  <tbody>\n",
       "    <tr>\n",
       "      <td>0</td>\n",
       "      <td>5</td>\n",
       "      <td>0</td>\n",
       "      <td>0</td>\n",
       "      <td>0</td>\n",
       "      <td>0</td>\n",
       "      <td>0</td>\n",
       "      <td>0</td>\n",
       "      <td>0</td>\n",
       "      <td>0</td>\n",
       "    </tr>\n",
       "    <tr>\n",
       "      <td>1</td>\n",
       "      <td>0</td>\n",
       "      <td>5</td>\n",
       "      <td>0</td>\n",
       "      <td>0</td>\n",
       "      <td>0</td>\n",
       "      <td>0</td>\n",
       "      <td>0</td>\n",
       "      <td>0</td>\n",
       "      <td>0</td>\n",
       "    </tr>\n",
       "    <tr>\n",
       "      <td>2</td>\n",
       "      <td>0</td>\n",
       "      <td>0</td>\n",
       "      <td>7</td>\n",
       "      <td>0</td>\n",
       "      <td>0</td>\n",
       "      <td>0</td>\n",
       "      <td>0</td>\n",
       "      <td>0</td>\n",
       "      <td>0</td>\n",
       "    </tr>\n",
       "    <tr>\n",
       "      <td>3</td>\n",
       "      <td>0</td>\n",
       "      <td>0</td>\n",
       "      <td>0</td>\n",
       "      <td>7</td>\n",
       "      <td>0</td>\n",
       "      <td>0</td>\n",
       "      <td>0</td>\n",
       "      <td>0</td>\n",
       "      <td>0</td>\n",
       "    </tr>\n",
       "    <tr>\n",
       "      <td>4</td>\n",
       "      <td>0</td>\n",
       "      <td>0</td>\n",
       "      <td>0</td>\n",
       "      <td>0</td>\n",
       "      <td>1</td>\n",
       "      <td>0</td>\n",
       "      <td>1</td>\n",
       "      <td>0</td>\n",
       "      <td>0</td>\n",
       "    </tr>\n",
       "    <tr>\n",
       "      <td>5</td>\n",
       "      <td>0</td>\n",
       "      <td>0</td>\n",
       "      <td>0</td>\n",
       "      <td>0</td>\n",
       "      <td>0</td>\n",
       "      <td>1</td>\n",
       "      <td>0</td>\n",
       "      <td>0</td>\n",
       "      <td>0</td>\n",
       "    </tr>\n",
       "    <tr>\n",
       "      <td>6</td>\n",
       "      <td>0</td>\n",
       "      <td>0</td>\n",
       "      <td>0</td>\n",
       "      <td>0</td>\n",
       "      <td>0</td>\n",
       "      <td>0</td>\n",
       "      <td>1</td>\n",
       "      <td>0</td>\n",
       "      <td>0</td>\n",
       "    </tr>\n",
       "    <tr>\n",
       "      <td>7</td>\n",
       "      <td>0</td>\n",
       "      <td>0</td>\n",
       "      <td>0</td>\n",
       "      <td>0</td>\n",
       "      <td>0</td>\n",
       "      <td>0</td>\n",
       "      <td>0</td>\n",
       "      <td>5</td>\n",
       "      <td>0</td>\n",
       "    </tr>\n",
       "    <tr>\n",
       "      <td>8</td>\n",
       "      <td>0</td>\n",
       "      <td>0</td>\n",
       "      <td>0</td>\n",
       "      <td>0</td>\n",
       "      <td>0</td>\n",
       "      <td>0</td>\n",
       "      <td>0</td>\n",
       "      <td>0</td>\n",
       "      <td>3</td>\n",
       "    </tr>\n",
       "  </tbody>\n",
       "</table>\n",
       "</div>"
      ],
      "text/plain": [
       "   0  1  2  3  4  5  6  7  8\n",
       "0  5  0  0  0  0  0  0  0  0\n",
       "1  0  5  0  0  0  0  0  0  0\n",
       "2  0  0  7  0  0  0  0  0  0\n",
       "3  0  0  0  7  0  0  0  0  0\n",
       "4  0  0  0  0  1  0  1  0  0\n",
       "5  0  0  0  0  0  1  0  0  0\n",
       "6  0  0  0  0  0  0  1  0  0\n",
       "7  0  0  0  0  0  0  0  5  0\n",
       "8  0  0  0  0  0  0  0  0  3"
      ]
     },
     "execution_count": 623,
     "metadata": {},
     "output_type": "execute_result"
    }
   ],
   "source": [
    "# confusion matrix\n",
    "confusion_matrix_decision_tree=pd.DataFrame(metrics.confusion_matrix(testy, y_pred_decision_tree))\n",
    "confusion_matrix_decision_tree"
   ]
  },
  {
   "cell_type": "markdown",
   "metadata": {},
   "source": [
    "## Support Vector Machine"
   ]
  },
  {
   "cell_type": "code",
   "execution_count": null,
   "metadata": {},
   "outputs": [],
   "source": []
  }
 ],
 "metadata": {
  "kernelspec": {
   "display_name": "Python 3",
   "language": "python",
   "name": "python3"
  },
  "language_info": {
   "codemirror_mode": {
    "name": "ipython",
    "version": 3
   },
   "file_extension": ".py",
   "mimetype": "text/x-python",
   "name": "python",
   "nbconvert_exporter": "python",
   "pygments_lexer": "ipython3",
   "version": "3.7.4"
  }
 },
 "nbformat": 4,
 "nbformat_minor": 2
}
