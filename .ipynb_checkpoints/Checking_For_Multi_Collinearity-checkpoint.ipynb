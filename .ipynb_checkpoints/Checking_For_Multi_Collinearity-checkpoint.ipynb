{
 "cells": [
  {
   "cell_type": "markdown",
   "metadata": {},
   "source": [
    "# SUPERMARKET DATA PROJECT PREDICTIVE MODEL NOTEBOOK"
   ]
  },
  {
   "cell_type": "markdown",
   "metadata": {},
   "source": [
    "# PROJECT DESCRIPTION\n"
   ]
  },
  {
   "cell_type": "markdown",
   "metadata": {},
   "source": [
    "#### The aim of this project is to predicting how much a customer is likely to spend.\n",
    "\n",
    "This is an Intermediate cohort personal mini-project for the A4Ayub data labs http://a4ayub.me/site/"
   ]
  },
  {
   "cell_type": "markdown",
   "metadata": {},
   "source": [
    "### Aim Of The Project\n",
    "To predict at which store region a customer is likely to shop"
   ]
  },
  {
   "cell_type": "markdown",
   "metadata": {},
   "source": [
    "### Problem Statement\n",
    "This Project includes:\n",
    "1. Descriptive Statistics\n",
    "2. Inferential Statistics\n",
    "3. Visualisation\n",
    "4. Modelling\n",
    "5. Prediction\n",
    "6. Intepretation of Results"
   ]
  },
  {
   "cell_type": "markdown",
   "metadata": {},
   "source": [
    "### About The Data\n",
    "<font color=\"red\">**This data is proprietory and can only be shared by Ayub, A4Ayub Data Science Labs.!  (http://www.a4ayub.me/)**</font>"
   ]
  },
  {
   "cell_type": "markdown",
   "metadata": {},
   "source": [
    "### Data Description\n",
    "Each row in the dataset corresponds to one unique product in a basket (e.g. if there are three occurences of the\n",
    "same product in that basket, it will have one row for the product in that basket, with quantity equal to three)\n",
    "\n",
    "The file has the below structure:"
   ]
  },
  {
   "cell_type": "markdown",
   "metadata": {},
   "source": [
    "### Data Structure\n",
    "\n",
    "Each row in the dataset corresponds to one unique product in a basket (e.g. if there are three occurences of the same product in that basket, it will have one row for the product in that basket, with quantity equal to three)\n",
    "\n",
    "The file has the below structure:\n",
    "\n",
    "| Column Name | Description | Type | Sample Values |\n",
    "| --- | --- | --- | --- |\n",
    "| shop_week | Identifies the week of the basket | Char | Format is YYYYWW where the first 4 characters identify the fiscal year and the other two characters identify the specific week within the year (e.g. 200735). Being the fiscal year, the first week doesn’t start in January.  (See time.csv file for start/end dates of each week) |\n",
    "| shop_date | Date when shopping has been made. Date is specified in the yyyymmdd format | Char | 20060413, 20060412 |\n",
    "| shop_weekday | Identifies the day of the week | Num | 1=Sunday, 2=Monday, …, 7=Saturday |\n",
    "| shop_hour | Hour slot of the shopping | Num | 0=00:00-00:59, 1=01:00-01:59, …23=23:00-23:59 |\n",
    "| Quantity | Number of items of the same product bought in this basket | Num | Integer number |\n",
    "| spend | Spend associated to the items bought | Num | Number with two decimal digits |\n",
    "| prod_code | Product Code | Char | PRD0900001, PRD0900003 |\n",
    "| prod_code_10 | Product Hierarchy Level 10 Code | Char | CL00072, CL00144 |\n",
    "| prod_code_20 | Product Hierarchy Level 20 Code | Char | DEP00021, DEP00051 |\n",
    "| prod_code_30 | Product Hierarchy Level 30 Code | Char | G00007, G00015 |\n",
    "| prod_code_40 | Product Hierarchy Level 40 Code | Char | D00002, D00003 |\n",
    "| cust_code | Customer Code | Char | CUST0000001624, CUST0000001912 |\n",
    "| cust_price_sensitivity | Customer’s Price Sensitivity | Char | LA=Less Affluent, MM=Mid Market, UM=Up Market, XX=unclassified |\n",
    "| cust_lifestage | Customer’s Lifestage | Char | YA=Young Adults, OA=Older Adults, YF=Young Families, OF=Older Families, PE=Pensioners, OT=Other, XX=unclassified |\n",
    "| basket_id | Basket ID. All items in a basket share the same basket_id value. | Num | 994100100000020, 994100100000344 |\n",
    "| basket_size | Basket size | Char | L=Large, M=Medium, S=Small |\n",
    "| basket_price_sensitivity | Basket price sensitivity  | Char | LA=Less Affluent, MM=Mid Market, UM=Up Market, XX=unclassified |\n",
    "| basket_type | Basket type | Char | Small Shop, Top Up, Full Shop, XX |\n",
    "| basket_dominant_mission | Shopping dominant mission | Char | Fresh, Grocery, Mixed, Non Food, XX |\n",
    "| store_code | Store Code | Char | STORE00001, STORE00002 |\n",
    "| store_format | Format of the Store | Char | LS, MS, SS, XLS |\n",
    "| store_region | Region the store belongs to | Char | E02, W01, E01, N03 |\n"
   ]
  },
  {
   "cell_type": "code",
   "execution_count": 136,
   "metadata": {},
   "outputs": [],
   "source": [
    "# Import the numpy and pandas package\n",
    "import numpy as np\n",
    "import pandas as pd\n",
    "\n",
    "# Data Visualisation\n",
    "import matplotlib.pyplot as plt \n",
    "from matplotlib import gridspec\n",
    "import seaborn as sns\n",
    "\n",
    "# Import the warnings\n",
    "import warnings\n",
    "\n",
    "# Import statsmodels\n",
    "from patsy import dmatrices\n",
    "import statsmodels.formula.api as smf\n",
    "import statsmodels.api as sm # to calculate OLS\n",
    "\n",
    "# Import RMSE\n",
    "from statsmodels.tools.eval_measures import rmse\n",
    "from statsmodels.stats.outliers_influence import variance_inflation_factor\n",
    "\n",
    "# Imort Linear Regression from scikit-learn\n",
    "from sklearn.linear_model import LinearRegression\n",
    "\n",
    "# Import the metrics\n",
    "from sklearn import metrics\n",
    "\n",
    "# Using Skicit-learn to split data into training and testing sets\n",
    "from sklearn.model_selection import train_test_split\n",
    "\n",
    "# configuration settings\n",
    "%matplotlib inline \n",
    "sns.set(color_codes=True)\n",
    "warnings.filterwarnings('ignore') ## Surpress the warnings\n",
    "pd.options.display.max_columns = None # Display all columns\n",
    "\n",
    "# For Stats\n",
    "import scipy.stats as stats\n",
    "import pandas_profiling as pp"
   ]
  },
  {
   "cell_type": "markdown",
   "metadata": {},
   "source": [
    "### Importing Dataset"
   ]
  },
  {
   "cell_type": "code",
   "execution_count": 137,
   "metadata": {},
   "outputs": [],
   "source": [
    "dataset = pd.read_csv(\"supermarket_till_transactions2.csv\")"
   ]
  },
  {
   "cell_type": "markdown",
   "metadata": {},
   "source": [
    "## General Analysis"
   ]
  },
  {
   "cell_type": "code",
   "execution_count": 138,
   "metadata": {},
   "outputs": [
    {
     "data": {
      "application/vnd.jupyter.widget-view+json": {
       "model_id": "312b19352da64fa681fc40bf5fa345e2",
       "version_major": 2,
       "version_minor": 0
      },
      "text/plain": [
       "Tab(children=(HTML(value='<div id=\"overview-content\" class=\"row variable spacing\">\\n    <div class=\"row\">\\n   …"
      ]
     },
     "metadata": {},
     "output_type": "display_data"
    },
    {
     "data": {
      "text/html": [
       "Report generated with <a href=\"https://github.com/pandas-profiling/pandas-profiling\">pandas-profiling</a>."
      ],
      "text/plain": [
       "<IPython.core.display.HTML object>"
      ]
     },
     "metadata": {},
     "output_type": "display_data"
    },
    {
     "data": {
      "text/plain": []
     },
     "execution_count": 138,
     "metadata": {},
     "output_type": "execute_result"
    }
   ],
   "source": [
    "#getting the statistics and summary of the whole dataset\n",
    "pp.ProfileReport(dataset)"
   ]
  },
  {
   "cell_type": "code",
   "execution_count": 139,
   "metadata": {},
   "outputs": [
    {
     "data": {
      "text/plain": [
       "Index(['SHOP_WEEK', 'SHOP_DATE', 'SHOP_WEEKDAY', 'SHOP_HOUR', 'QUANTITY',\n",
       "       'SPEND', 'PROD_CODE', 'PROD_CODE_10', 'PROD_CODE_20', 'PROD_CODE_30',\n",
       "       'PROD_CODE_40', 'CUST_CODE', 'CUST_PRICE_SENSITIVITY', 'CUST_LIFESTAGE',\n",
       "       'BASKET_ID', 'BASKET_SIZE', 'BASKET_PRICE_SENSITIVITY', 'BASKET_TYPE',\n",
       "       'BASKET_DOMINANT_MISSION', 'STORE_CODE', 'STORE_FORMAT',\n",
       "       'STORE_REGION'],\n",
       "      dtype='object')"
      ]
     },
     "execution_count": 139,
     "metadata": {},
     "output_type": "execute_result"
    }
   ],
   "source": [
    "# variables in the dataset\n",
    "dataset.columns"
   ]
  },
  {
   "cell_type": "code",
   "execution_count": 140,
   "metadata": {},
   "outputs": [
    {
     "data": {
      "text/plain": [
       "SHOP_WEEK                    0\n",
       "SHOP_DATE                    0\n",
       "SHOP_WEEKDAY                 0\n",
       "SHOP_HOUR                    0\n",
       "QUANTITY                     0\n",
       "SPEND                        0\n",
       "PROD_CODE                    0\n",
       "PROD_CODE_10                 0\n",
       "PROD_CODE_20                 0\n",
       "PROD_CODE_30                 0\n",
       "PROD_CODE_40                 0\n",
       "CUST_CODE                   46\n",
       "CUST_PRICE_SENSITIVITY      46\n",
       "CUST_LIFESTAGE              46\n",
       "BASKET_ID                    0\n",
       "BASKET_SIZE                  0\n",
       "BASKET_PRICE_SENSITIVITY     0\n",
       "BASKET_TYPE                  0\n",
       "BASKET_DOMINANT_MISSION      0\n",
       "STORE_CODE                   0\n",
       "STORE_FORMAT                 0\n",
       "STORE_REGION                 0\n",
       "dtype: int64"
      ]
     },
     "execution_count": 140,
     "metadata": {},
     "output_type": "execute_result"
    }
   ],
   "source": [
    "#checking for mising values\n",
    "dataset.isnull().sum()"
   ]
  },
  {
   "cell_type": "code",
   "execution_count": 141,
   "metadata": {},
   "outputs": [
    {
     "data": {
      "text/plain": [
       "SHOP_WEEK                    int64\n",
       "SHOP_DATE                    int64\n",
       "SHOP_WEEKDAY                 int64\n",
       "SHOP_HOUR                    int64\n",
       "QUANTITY                     int64\n",
       "SPEND                        int64\n",
       "PROD_CODE                   object\n",
       "PROD_CODE_10                object\n",
       "PROD_CODE_20                object\n",
       "PROD_CODE_30                object\n",
       "PROD_CODE_40                object\n",
       "CUST_CODE                   object\n",
       "CUST_PRICE_SENSITIVITY      object\n",
       "CUST_LIFESTAGE              object\n",
       "BASKET_ID                    int64\n",
       "BASKET_SIZE                 object\n",
       "BASKET_PRICE_SENSITIVITY    object\n",
       "BASKET_TYPE                 object\n",
       "BASKET_DOMINANT_MISSION     object\n",
       "STORE_CODE                  object\n",
       "STORE_FORMAT                object\n",
       "STORE_REGION                object\n",
       "dtype: object"
      ]
     },
     "execution_count": 141,
     "metadata": {},
     "output_type": "execute_result"
    }
   ],
   "source": [
    "#Exploring the datatypes\n",
    "dataset.dtypes"
   ]
  },
  {
   "cell_type": "code",
   "execution_count": 142,
   "metadata": {},
   "outputs": [
    {
     "data": {
      "text/plain": [
       "(119, 22)"
      ]
     },
     "execution_count": 142,
     "metadata": {},
     "output_type": "execute_result"
    }
   ],
   "source": [
    "#Total number of rows and columns\n",
    "#We have 119 rows and 24 columns\n",
    "\n",
    "dataset.shape"
   ]
  },
  {
   "cell_type": "code",
   "execution_count": 143,
   "metadata": {},
   "outputs": [
    {
     "name": "stdout",
     "output_type": "stream",
     "text": [
      "Duplicate rows:  Empty DataFrame\n",
      "Columns: [SHOP_WEEK, SHOP_DATE, SHOP_WEEKDAY, SHOP_HOUR, QUANTITY, SPEND, PROD_CODE, PROD_CODE_10, PROD_CODE_20, PROD_CODE_30, PROD_CODE_40, CUST_CODE, CUST_PRICE_SENSITIVITY, CUST_LIFESTAGE, BASKET_ID, BASKET_SIZE, BASKET_PRICE_SENSITIVITY, BASKET_TYPE, BASKET_DOMINANT_MISSION, STORE_CODE, STORE_FORMAT, STORE_REGION]\n",
      "Index: []\n"
     ]
    }
   ],
   "source": [
    "# Rows containing duplicate data\n",
    "\n",
    "duplicate_rows = dataset[dataset.duplicated()]\n",
    "print(\"Duplicate rows: \",duplicate_rows)"
   ]
  },
  {
   "cell_type": "code",
   "execution_count": 144,
   "metadata": {},
   "outputs": [],
   "source": [
    "#code to delete dupicates if we have any\n",
    "#datset=dataset.drop_duplicates()"
   ]
  },
  {
   "cell_type": "code",
   "execution_count": 145,
   "metadata": {},
   "outputs": [
    {
     "data": {
      "text/plain": [
       "SHOP_WEEK                   119\n",
       "SHOP_DATE                   119\n",
       "SHOP_WEEKDAY                119\n",
       "SHOP_HOUR                   119\n",
       "QUANTITY                    119\n",
       "SPEND                       119\n",
       "PROD_CODE                   119\n",
       "PROD_CODE_10                119\n",
       "PROD_CODE_20                119\n",
       "PROD_CODE_30                119\n",
       "PROD_CODE_40                119\n",
       "CUST_CODE                    73\n",
       "CUST_PRICE_SENSITIVITY       73\n",
       "CUST_LIFESTAGE               73\n",
       "BASKET_ID                   119\n",
       "BASKET_SIZE                 119\n",
       "BASKET_PRICE_SENSITIVITY    119\n",
       "BASKET_TYPE                 119\n",
       "BASKET_DOMINANT_MISSION     119\n",
       "STORE_CODE                  119\n",
       "STORE_FORMAT                119\n",
       "STORE_REGION                119\n",
       "dtype: int64"
      ]
     },
     "execution_count": 145,
     "metadata": {},
     "output_type": "execute_result"
    }
   ],
   "source": [
    "#The count of each column\n",
    "# CUST_CODE, CUST_PRICE_SENSITIVITY and CUST_LIFESTAGE have missing values\n",
    "\n",
    "dataset.count()"
   ]
  },
  {
   "cell_type": "markdown",
   "metadata": {},
   "source": [
    "### Replacing The Missing Values in the Dataset"
   ]
  },
  {
   "cell_type": "code",
   "execution_count": 146,
   "metadata": {},
   "outputs": [
    {
     "data": {
      "text/plain": [
       "array(['YF', 'OT', nan, 'OA', 'OF', 'YA'], dtype=object)"
      ]
     },
     "execution_count": 146,
     "metadata": {},
     "output_type": "execute_result"
    }
   ],
   "source": [
    "#exploring data with missing values\n",
    "#CUST_LIFESTAGE\n",
    "#From the dataset description there is a category called XX which mean unclassified so we replave the nan with XX \n",
    "CUST_LIFESTAGE_DATA = dataset[\"CUST_LIFESTAGE\"].unique()\n",
    "CUST_LIFESTAGE_DATA"
   ]
  },
  {
   "cell_type": "code",
   "execution_count": 147,
   "metadata": {},
   "outputs": [
    {
     "data": {
      "text/plain": [
       "array(['LA', 'MM', nan, 'UM'], dtype=object)"
      ]
     },
     "execution_count": 147,
     "metadata": {},
     "output_type": "execute_result"
    }
   ],
   "source": [
    "#exploring data with missing values\n",
    "#CUST_PRICE_SENSITIVITY\n",
    "#From the dataset description there is a category called XX which mean unclassified so we replave the nan with XX \n",
    "CUST_PRICE_SENSITIVITY_DATA = dataset[\"CUST_PRICE_SENSITIVITY\"].unique()\n",
    "CUST_PRICE_SENSITIVITY_DATA"
   ]
  },
  {
   "cell_type": "code",
   "execution_count": 148,
   "metadata": {},
   "outputs": [],
   "source": [
    "# replacing nan with XX in CUST_LIFESTAGE\n",
    "dataset[\"CUST_PRICE_SENSITIVITY\"].fillna(\"XX\",inplace=True)"
   ]
  },
  {
   "cell_type": "code",
   "execution_count": 149,
   "metadata": {},
   "outputs": [],
   "source": [
    "# replacing nan with XX in CUST_LIFESTAGE\n",
    "dataset[\"CUST_LIFESTAGE\"].fillna(\"XX\",inplace=True)"
   ]
  },
  {
   "cell_type": "code",
   "execution_count": 150,
   "metadata": {},
   "outputs": [
    {
     "data": {
      "text/plain": [
       "SHOP_WEEK                    0\n",
       "SHOP_DATE                    0\n",
       "SHOP_WEEKDAY                 0\n",
       "SHOP_HOUR                    0\n",
       "QUANTITY                     0\n",
       "SPEND                        0\n",
       "PROD_CODE                    0\n",
       "PROD_CODE_10                 0\n",
       "PROD_CODE_20                 0\n",
       "PROD_CODE_30                 0\n",
       "PROD_CODE_40                 0\n",
       "CUST_CODE                   46\n",
       "CUST_PRICE_SENSITIVITY       0\n",
       "CUST_LIFESTAGE               0\n",
       "BASKET_ID                    0\n",
       "BASKET_SIZE                  0\n",
       "BASKET_PRICE_SENSITIVITY     0\n",
       "BASKET_TYPE                  0\n",
       "BASKET_DOMINANT_MISSION      0\n",
       "STORE_CODE                   0\n",
       "STORE_FORMAT                 0\n",
       "STORE_REGION                 0\n",
       "dtype: int64"
      ]
     },
     "execution_count": 150,
     "metadata": {},
     "output_type": "execute_result"
    }
   ],
   "source": [
    "#checking for mising values\n",
    "dataset.isnull().sum()"
   ]
  },
  {
   "cell_type": "markdown",
   "metadata": {},
   "source": [
    "# Predicting SPEND Using Multiple Linear Regression - Scikit Learn"
   ]
  },
  {
   "cell_type": "markdown",
   "metadata": {},
   "source": [
    "## Using all variables except Customer code"
   ]
  },
  {
   "cell_type": "code",
   "execution_count": 151,
   "metadata": {},
   "outputs": [],
   "source": [
    "#defining our indepented variavles and depented variable\n",
    "X= dataset[[\"SHOP_WEEK\", \"SHOP_DATE\", \"SHOP_WEEKDAY\", \"SHOP_HOUR\", \"QUANTITY\", \"PROD_CODE\", \"PROD_CODE_10\",\n",
    "            \"PROD_CODE_20\", \"PROD_CODE_30\", \"PROD_CODE_40\", \"CUST_PRICE_SENSITIVITY\", \"CUST_LIFESTAGE\", \n",
    "            \"BASKET_ID\", \"BASKET_SIZE\", \"BASKET_PRICE_SENSITIVITY\", \"BASKET_TYPE\", \"BASKET_DOMINANT_MISSION\", \n",
    "            \"STORE_CODE\", \"STORE_FORMAT\", \"STORE_REGION\"]]\n",
    "Y= dataset[\"SPEND\"]"
   ]
  },
  {
   "cell_type": "code",
   "execution_count": 152,
   "metadata": {},
   "outputs": [
    {
     "data": {
      "text/plain": [
       "SHOP_WEEK                   0\n",
       "SHOP_DATE                   0\n",
       "SHOP_WEEKDAY                0\n",
       "SHOP_HOUR                   0\n",
       "QUANTITY                    0\n",
       "PROD_CODE                   0\n",
       "PROD_CODE_10                0\n",
       "PROD_CODE_20                0\n",
       "PROD_CODE_30                0\n",
       "PROD_CODE_40                0\n",
       "CUST_PRICE_SENSITIVITY      0\n",
       "CUST_LIFESTAGE              0\n",
       "BASKET_ID                   0\n",
       "BASKET_SIZE                 0\n",
       "BASKET_PRICE_SENSITIVITY    0\n",
       "BASKET_TYPE                 0\n",
       "BASKET_DOMINANT_MISSION     0\n",
       "STORE_CODE                  0\n",
       "STORE_FORMAT                0\n",
       "STORE_REGION                0\n",
       "dtype: int64"
      ]
     },
     "execution_count": 152,
     "metadata": {},
     "output_type": "execute_result"
    }
   ],
   "source": [
    "# checking for null values\n",
    "X.isnull().sum()"
   ]
  },
  {
   "cell_type": "code",
   "execution_count": 153,
   "metadata": {},
   "outputs": [
    {
     "data": {
      "text/plain": [
       "0"
      ]
     },
     "execution_count": 153,
     "metadata": {},
     "output_type": "execute_result"
    }
   ],
   "source": [
    "# checking for null values\n",
    "Y.isnull().sum()"
   ]
  },
  {
   "cell_type": "markdown",
   "metadata": {},
   "source": [
    "## Using Frequency Enconding"
   ]
  },
  {
   "cell_type": "code",
   "execution_count": 154,
   "metadata": {},
   "outputs": [],
   "source": [
    "# Encoding shop week using Frequency Encoding\n",
    "shop_week_fe = X.groupby('SHOP_WEEKDAY').size()/len(X)\n",
    "X.loc[:,'SHOP_WEEKDAY_ENC'] = X['SHOP_WEEKDAY'].map(shop_week_fe)"
   ]
  },
  {
   "cell_type": "code",
   "execution_count": 155,
   "metadata": {},
   "outputs": [],
   "source": [
    "# Encoding the prod code using Frequency Encoding\n",
    "prod_code_fe = X.groupby('PROD_CODE').size()/len(X)\n",
    "X.loc[:,'PROD_CODE_ENC'] = X['PROD_CODE'].map(prod_code_fe)"
   ]
  },
  {
   "cell_type": "code",
   "execution_count": 156,
   "metadata": {},
   "outputs": [],
   "source": [
    "# Encoding product code 10 using Frequency Encoding\n",
    "prod_code_10_fe = X.groupby('PROD_CODE_10').size()/len(X)\n",
    "X.loc[:,'PROD_CODE_10_ENC'] = X['PROD_CODE_10'].map(prod_code_10_fe)"
   ]
  },
  {
   "cell_type": "code",
   "execution_count": 157,
   "metadata": {},
   "outputs": [],
   "source": [
    "# Encoding the prod code 20 using Frequency Encoding\n",
    "prod_code_20_fe = X.groupby('PROD_CODE_20').size()/len(X)\n",
    "X.loc[:,'PROD_CODE_20_ENC'] = X['PROD_CODE_20'].map(prod_code_20_fe)"
   ]
  },
  {
   "cell_type": "code",
   "execution_count": 158,
   "metadata": {},
   "outputs": [],
   "source": [
    "# Encoding the prod code 30 using Frequency Encoding\n",
    "prod_code_30_fe = X.groupby('PROD_CODE_30').size()/len(X)\n",
    "X.loc[:,'PROD_CODE_30_ENC'] = X['PROD_CODE_30'].map(prod_code_30_fe)"
   ]
  },
  {
   "cell_type": "code",
   "execution_count": 159,
   "metadata": {},
   "outputs": [],
   "source": [
    "# Encoding the prod code 40 using Frequency Encoding\n",
    "prod_code_40_fe = X.groupby('PROD_CODE_40').size()/len(X)\n",
    "X.loc[:,'PROD_CODE_40_ENC'] = X['PROD_CODE_40'].map(prod_code_40_fe)"
   ]
  },
  {
   "cell_type": "code",
   "execution_count": 160,
   "metadata": {},
   "outputs": [],
   "source": [
    "# Encoding customer price sensitivity using Frequency Encoding\n",
    "cust_price_sensitivity_fe = X.groupby('CUST_PRICE_SENSITIVITY').size()/len(X)\n",
    "X.loc[:,'CUST_PRICE_SENSITIVITY_ENC'] = X['CUST_PRICE_SENSITIVITY'].map(cust_price_sensitivity_fe)"
   ]
  },
  {
   "cell_type": "code",
   "execution_count": 161,
   "metadata": {},
   "outputs": [],
   "source": [
    "# Encoding customer price sensitivity using Frequency Encoding\n",
    "cust_price_sensitivity_fe = X.groupby('CUST_PRICE_SENSITIVITY').size()/len(X)\n",
    "X.loc[:,'CUST_PRICE_SENSITIVITY_ENC'] = X['CUST_PRICE_SENSITIVITY'].map(cust_price_sensitivity_fe)"
   ]
  },
  {
   "cell_type": "code",
   "execution_count": 162,
   "metadata": {},
   "outputs": [],
   "source": [
    "# Encoding basket price sensitivity using Frequency Encoding\n",
    "basket_price_sensitivity_fe = X.groupby('BASKET_PRICE_SENSITIVITY').size()/len(X)\n",
    "X.loc[:,'BASKET_PRICE_SENSITIVITY_ENC'] = X['BASKET_PRICE_SENSITIVITY'].map(basket_price_sensitivity_fe)"
   ]
  },
  {
   "cell_type": "code",
   "execution_count": 163,
   "metadata": {},
   "outputs": [],
   "source": [
    "# Encoding customer price sensitivity using Frequency Encoding\n",
    "cust_lifestage_fe = X.groupby('CUST_LIFESTAGE').size()/len(X)\n",
    "X.loc[:,'CUST_LIFESTAGE_ENC'] = X['CUST_LIFESTAGE'].map(cust_lifestage_fe)"
   ]
  },
  {
   "cell_type": "code",
   "execution_count": 164,
   "metadata": {},
   "outputs": [],
   "source": [
    "# Encoding basket dominant mission using Frequency Encoding\n",
    "basket_dominant_mission_fe = X.groupby('BASKET_DOMINANT_MISSION').size()/len(X)\n",
    "X.loc[:,'BASKET_DOMINANT_MISSION_ENC'] = X['BASKET_DOMINANT_MISSION'].map(basket_dominant_mission_fe)"
   ]
  },
  {
   "cell_type": "code",
   "execution_count": 165,
   "metadata": {},
   "outputs": [],
   "source": [
    "# Encoding basket size using Frequency Encoding\n",
    "basket_size_fe = X.groupby('BASKET_SIZE').size()/len(X)\n",
    "X.loc[:,'BASKET_SIZE_ENC'] = X['BASKET_SIZE'].map(basket_size_fe)"
   ]
  },
  {
   "cell_type": "code",
   "execution_count": 166,
   "metadata": {},
   "outputs": [],
   "source": [
    "# Encoding store region using Frequency Encoding\n",
    "store_format_fe = X.groupby('STORE_REGION').size()/len(X)\n",
    "X.loc[:,'STORE_REGION_ENC'] = X['STORE_REGION'].map(store_format_fe)"
   ]
  },
  {
   "cell_type": "code",
   "execution_count": 167,
   "metadata": {},
   "outputs": [],
   "source": [
    "# Encoding store format using Frequency Encoding\n",
    "store_format_fe = X.groupby('STORE_FORMAT').size()/len(X)\n",
    "X.loc[:,'STORE_FORMAT_ENC'] = X['STORE_FORMAT'].map(store_format_fe)"
   ]
  },
  {
   "cell_type": "code",
   "execution_count": 168,
   "metadata": {},
   "outputs": [],
   "source": [
    "# Encoding the store code using Frequency Encoding\n",
    "store_code_fe = X.groupby('STORE_CODE').size()/len(X)\n",
    "X.loc[:,'STORE_CODE_ENC'] = X['STORE_CODE'].map(store_code_fe)"
   ]
  },
  {
   "cell_type": "code",
   "execution_count": 169,
   "metadata": {},
   "outputs": [],
   "source": [
    "# Encoding the basket type using Frequency Encoding\n",
    "basket_type_fe = X.groupby('BASKET_TYPE').size()/len(X)\n",
    "X.loc[:,'BASKET_TYPE_ENC'] = X['BASKET_TYPE'].map(basket_type_fe)"
   ]
  },
  {
   "cell_type": "code",
   "execution_count": 170,
   "metadata": {
    "scrolled": true
   },
   "outputs": [
    {
     "data": {
      "text/plain": [
       "Index(['SHOP_WEEK', 'SHOP_DATE', 'SHOP_WEEKDAY', 'SHOP_HOUR', 'QUANTITY',\n",
       "       'PROD_CODE', 'PROD_CODE_10', 'PROD_CODE_20', 'PROD_CODE_30',\n",
       "       'PROD_CODE_40', 'CUST_PRICE_SENSITIVITY', 'CUST_LIFESTAGE', 'BASKET_ID',\n",
       "       'BASKET_SIZE', 'BASKET_PRICE_SENSITIVITY', 'BASKET_TYPE',\n",
       "       'BASKET_DOMINANT_MISSION', 'STORE_CODE', 'STORE_FORMAT', 'STORE_REGION',\n",
       "       'SHOP_WEEKDAY_ENC', 'PROD_CODE_ENC', 'PROD_CODE_10_ENC',\n",
       "       'PROD_CODE_20_ENC', 'PROD_CODE_30_ENC', 'PROD_CODE_40_ENC',\n",
       "       'CUST_PRICE_SENSITIVITY_ENC', 'BASKET_PRICE_SENSITIVITY_ENC',\n",
       "       'CUST_LIFESTAGE_ENC', 'BASKET_DOMINANT_MISSION_ENC', 'BASKET_SIZE_ENC',\n",
       "       'STORE_REGION_ENC', 'STORE_FORMAT_ENC', 'STORE_CODE_ENC',\n",
       "       'BASKET_TYPE_ENC'],\n",
       "      dtype='object')"
      ]
     },
     "execution_count": 170,
     "metadata": {},
     "output_type": "execute_result"
    }
   ],
   "source": [
    "X.columns"
   ]
  },
  {
   "cell_type": "code",
   "execution_count": 171,
   "metadata": {},
   "outputs": [
    {
     "data": {
      "text/plain": [
       "0      103\n",
       "1       28\n",
       "2       84\n",
       "3      221\n",
       "4      334\n",
       "      ... \n",
       "114    729\n",
       "115    485\n",
       "116    450\n",
       "117    154\n",
       "118    499\n",
       "Name: SPEND, Length: 119, dtype: int64"
      ]
     },
     "execution_count": 171,
     "metadata": {},
     "output_type": "execute_result"
    }
   ],
   "source": [
    "Y"
   ]
  },
  {
   "cell_type": "code",
   "execution_count": 172,
   "metadata": {},
   "outputs": [],
   "source": [
    "# Drop the decoded Columns\n",
    "X.drop(columns=[\"PROD_CODE\"],inplace=True)\n",
    "X.drop(columns=[\"PROD_CODE_10\"],inplace=True)\n",
    "X.drop(columns=[\"PROD_CODE_20\"],inplace=True)\n",
    "X.drop(columns=[\"PROD_CODE_30\"],inplace=True)\n",
    "X.drop(columns=[\"PROD_CODE_40\"],inplace=True)\n",
    "X.drop(columns=[\"SHOP_HOUR\"],inplace=True)\n",
    "X.drop(columns=[\"CUST_PRICE_SENSITIVITY\"],inplace=True)\n",
    "X.drop(columns=[\"BASKET_PRICE_SENSITIVITY\"],inplace=True)    \n",
    "X.drop(columns=[\"CUST_LIFESTAGE\"],inplace=True)\n",
    "X.drop(columns=[\"BASKET_SIZE\"],inplace=True)\n",
    "X.drop(columns=[\"BASKET_TYPE\"],inplace=True)\n",
    "X.drop(columns=[\"BASKET_DOMINANT_MISSION\"],inplace=True)\n",
    "X.drop(columns=[\"STORE_FORMAT\"],inplace=True)\n",
    "X.drop(columns=[\"STORE_CODE\"],inplace=True)\n",
    "X.drop(columns=[\"STORE_REGION\"],inplace=True)\n",
    "\n"
   ]
  },
  {
   "cell_type": "code",
   "execution_count": 173,
   "metadata": {},
   "outputs": [
    {
     "data": {
      "text/plain": [
       "Index(['SHOP_WEEK', 'SHOP_DATE', 'SHOP_WEEKDAY', 'QUANTITY', 'BASKET_ID',\n",
       "       'SHOP_WEEKDAY_ENC', 'PROD_CODE_ENC', 'PROD_CODE_10_ENC',\n",
       "       'PROD_CODE_20_ENC', 'PROD_CODE_30_ENC', 'PROD_CODE_40_ENC',\n",
       "       'CUST_PRICE_SENSITIVITY_ENC', 'BASKET_PRICE_SENSITIVITY_ENC',\n",
       "       'CUST_LIFESTAGE_ENC', 'BASKET_DOMINANT_MISSION_ENC', 'BASKET_SIZE_ENC',\n",
       "       'STORE_REGION_ENC', 'STORE_FORMAT_ENC', 'STORE_CODE_ENC',\n",
       "       'BASKET_TYPE_ENC'],\n",
       "      dtype='object')"
      ]
     },
     "execution_count": 173,
     "metadata": {},
     "output_type": "execute_result"
    }
   ],
   "source": [
    "X.columns"
   ]
  },
  {
   "cell_type": "markdown",
   "metadata": {},
   "source": [
    "## Checking For Multicollinearity"
   ]
  },
  {
   "cell_type": "code",
   "execution_count": 174,
   "metadata": {},
   "outputs": [
    {
     "data": {
      "text/html": [
       "<table class=\"simpletable\">\n",
       "<caption>OLS Regression Results</caption>\n",
       "<tr>\n",
       "  <th>Dep. Variable:</th>          <td>SPEND</td>      <th>  R-squared:         </th> <td>   0.085</td>\n",
       "</tr>\n",
       "<tr>\n",
       "  <th>Model:</th>                   <td>OLS</td>       <th>  Adj. R-squared:    </th> <td>   0.085</td>\n",
       "</tr>\n",
       "<tr>\n",
       "  <th>Method:</th>             <td>Least Squares</td>  <th>  F-statistic:       </th> <td>     inf</td>\n",
       "</tr>\n",
       "<tr>\n",
       "  <th>Date:</th>             <td>Sat, 07 Mar 2020</td> <th>  Prob (F-statistic):</th>  <td>   nan</td> \n",
       "</tr>\n",
       "<tr>\n",
       "  <th>Time:</th>                 <td>19:50:15</td>     <th>  Log-Likelihood:    </th> <td> -819.54</td>\n",
       "</tr>\n",
       "<tr>\n",
       "  <th>No. Observations:</th>      <td>   119</td>      <th>  AIC:               </th> <td>   1641.</td>\n",
       "</tr>\n",
       "<tr>\n",
       "  <th>Df Residuals:</th>          <td>   118</td>      <th>  BIC:               </th> <td>   1644.</td>\n",
       "</tr>\n",
       "<tr>\n",
       "  <th>Df Model:</th>              <td>     0</td>      <th>                     </th>     <td> </td>   \n",
       "</tr>\n",
       "<tr>\n",
       "  <th>Covariance Type:</th>      <td>nonrobust</td>    <th>                     </th>     <td> </td>   \n",
       "</tr>\n",
       "</table>\n",
       "<table class=\"simpletable\">\n",
       "<tr>\n",
       "                <td></td>                  <th>coef</th>     <th>std err</th>      <th>t</th>      <th>P>|t|</th>  <th>[0.025</th>    <th>0.975]</th>  \n",
       "</tr>\n",
       "<tr>\n",
       "  <th>SHOP_WEEK</th>                    <td>    0.0001</td> <td>    0.000</td> <td>    1.062</td> <td> 0.290</td> <td>   -0.000</td> <td>    0.000</td>\n",
       "</tr>\n",
       "<tr>\n",
       "  <th>SHOP_DATE</th>                    <td>  -15.9023</td> <td>    8.647</td> <td>   -1.839</td> <td> 0.068</td> <td>  -33.025</td> <td>    1.220</td>\n",
       "</tr>\n",
       "<tr>\n",
       "  <th>SHOP_WEEKDAY</th>                 <td>  -15.9151</td> <td>    8.658</td> <td>   -1.838</td> <td> 0.069</td> <td>  -33.061</td> <td>    1.230</td>\n",
       "</tr>\n",
       "<tr>\n",
       "  <th>QUANTITY</th>                     <td>   50.1987</td> <td>   17.841</td> <td>    2.814</td> <td> 0.006</td> <td>   14.869</td> <td>   85.528</td>\n",
       "</tr>\n",
       "<tr>\n",
       "  <th>BASKET_ID</th>                    <td> 3.209e-07</td> <td> 1.74e-07</td> <td>    1.839</td> <td> 0.068</td> <td>-2.46e-08</td> <td> 6.66e-07</td>\n",
       "</tr>\n",
       "<tr>\n",
       "  <th>SHOP_WEEKDAY_ENC</th>             <td>   -0.0503</td> <td>    0.124</td> <td>   -0.406</td> <td> 0.685</td> <td>   -0.295</td> <td>    0.195</td>\n",
       "</tr>\n",
       "<tr>\n",
       "  <th>PROD_CODE_ENC</th>                <td>   -0.0078</td> <td>    0.004</td> <td>   -2.188</td> <td> 0.031</td> <td>   -0.015</td> <td>   -0.001</td>\n",
       "</tr>\n",
       "<tr>\n",
       "  <th>PROD_CODE_10_ENC</th>             <td>    0.0274</td> <td>    0.015</td> <td>    1.843</td> <td> 0.068</td> <td>   -0.002</td> <td>    0.057</td>\n",
       "</tr>\n",
       "<tr>\n",
       "  <th>PROD_CODE_20_ENC</th>             <td>   -0.0598</td> <td>    0.031</td> <td>   -1.947</td> <td> 0.054</td> <td>   -0.121</td> <td>    0.001</td>\n",
       "</tr>\n",
       "<tr>\n",
       "  <th>PROD_CODE_30_ENC</th>             <td>    0.1127</td> <td>    0.082</td> <td>    1.375</td> <td> 0.172</td> <td>   -0.050</td> <td>    0.275</td>\n",
       "</tr>\n",
       "<tr>\n",
       "  <th>PROD_CODE_40_ENC</th>             <td>   -0.1345</td> <td>    0.060</td> <td>   -2.229</td> <td> 0.028</td> <td>   -0.254</td> <td>   -0.015</td>\n",
       "</tr>\n",
       "<tr>\n",
       "  <th>CUST_PRICE_SENSITIVITY_ENC</th>   <td>    0.2560</td> <td>    0.081</td> <td>    3.149</td> <td> 0.002</td> <td>    0.095</td> <td>    0.417</td>\n",
       "</tr>\n",
       "<tr>\n",
       "  <th>BASKET_PRICE_SENSITIVITY_ENC</th> <td>    0.2368</td> <td>    0.091</td> <td>    2.590</td> <td> 0.011</td> <td>    0.056</td> <td>    0.418</td>\n",
       "</tr>\n",
       "<tr>\n",
       "  <th>CUST_LIFESTAGE_ENC</th>           <td>   -0.0307</td> <td>    0.330</td> <td>   -0.093</td> <td> 0.926</td> <td>   -0.684</td> <td>    0.623</td>\n",
       "</tr>\n",
       "<tr>\n",
       "  <th>BASKET_DOMINANT_MISSION_ENC</th>  <td>   -0.6543</td> <td>    0.396</td> <td>   -1.652</td> <td> 0.101</td> <td>   -1.439</td> <td>    0.130</td>\n",
       "</tr>\n",
       "<tr>\n",
       "  <th>BASKET_SIZE_ENC</th>              <td>    1.3990</td> <td>    0.466</td> <td>    3.003</td> <td> 0.003</td> <td>    0.477</td> <td>    2.321</td>\n",
       "</tr>\n",
       "<tr>\n",
       "  <th>STORE_REGION_ENC</th>             <td>   -0.2654</td> <td>    0.080</td> <td>   -3.298</td> <td> 0.001</td> <td>   -0.425</td> <td>   -0.106</td>\n",
       "</tr>\n",
       "<tr>\n",
       "  <th>STORE_FORMAT_ENC</th>             <td>    0.6932</td> <td>    0.218</td> <td>    3.181</td> <td> 0.002</td> <td>    0.262</td> <td>    1.125</td>\n",
       "</tr>\n",
       "<tr>\n",
       "  <th>STORE_CODE_ENC</th>               <td>    0.0652</td> <td>    0.020</td> <td>    3.265</td> <td> 0.001</td> <td>    0.026</td> <td>    0.105</td>\n",
       "</tr>\n",
       "<tr>\n",
       "  <th>BASKET_TYPE_ENC</th>              <td>    0.4647</td> <td>    0.286</td> <td>    1.623</td> <td> 0.107</td> <td>   -0.102</td> <td>    1.032</td>\n",
       "</tr>\n",
       "</table>\n",
       "<table class=\"simpletable\">\n",
       "<tr>\n",
       "  <th>Omnibus:</th>       <td>122.914</td> <th>  Durbin-Watson:     </th> <td>   2.062</td>\n",
       "</tr>\n",
       "<tr>\n",
       "  <th>Prob(Omnibus):</th> <td> 0.000</td>  <th>  Jarque-Bera (JB):  </th> <td>1677.817</td>\n",
       "</tr>\n",
       "<tr>\n",
       "  <th>Skew:</th>          <td> 3.675</td>  <th>  Prob(JB):          </th> <td>    0.00</td>\n",
       "</tr>\n",
       "<tr>\n",
       "  <th>Kurtosis:</th>      <td>19.863</td>  <th>  Cond. No.          </th> <td>1.56e+26</td>\n",
       "</tr>\n",
       "</table><br/><br/>Warnings:<br/>[1] Standard Errors assume that the covariance matrix of the errors is correctly specified.<br/>[2] The smallest eigenvalue is 4.84e-21. This might indicate that there are<br/>strong multicollinearity problems or that the design matrix is singular."
      ],
      "text/plain": [
       "<class 'statsmodels.iolib.summary.Summary'>\n",
       "\"\"\"\n",
       "                            OLS Regression Results                            \n",
       "==============================================================================\n",
       "Dep. Variable:                  SPEND   R-squared:                       0.085\n",
       "Model:                            OLS   Adj. R-squared:                  0.085\n",
       "Method:                 Least Squares   F-statistic:                       inf\n",
       "Date:                Sat, 07 Mar 2020   Prob (F-statistic):                nan\n",
       "Time:                        19:50:15   Log-Likelihood:                -819.54\n",
       "No. Observations:                 119   AIC:                             1641.\n",
       "Df Residuals:                     118   BIC:                             1644.\n",
       "Df Model:                           0                                         \n",
       "Covariance Type:            nonrobust                                         \n",
       "================================================================================================\n",
       "                                   coef    std err          t      P>|t|      [0.025      0.975]\n",
       "------------------------------------------------------------------------------------------------\n",
       "SHOP_WEEK                        0.0001      0.000      1.062      0.290      -0.000       0.000\n",
       "SHOP_DATE                      -15.9023      8.647     -1.839      0.068     -33.025       1.220\n",
       "SHOP_WEEKDAY                   -15.9151      8.658     -1.838      0.069     -33.061       1.230\n",
       "QUANTITY                        50.1987     17.841      2.814      0.006      14.869      85.528\n",
       "BASKET_ID                     3.209e-07   1.74e-07      1.839      0.068   -2.46e-08    6.66e-07\n",
       "SHOP_WEEKDAY_ENC                -0.0503      0.124     -0.406      0.685      -0.295       0.195\n",
       "PROD_CODE_ENC                   -0.0078      0.004     -2.188      0.031      -0.015      -0.001\n",
       "PROD_CODE_10_ENC                 0.0274      0.015      1.843      0.068      -0.002       0.057\n",
       "PROD_CODE_20_ENC                -0.0598      0.031     -1.947      0.054      -0.121       0.001\n",
       "PROD_CODE_30_ENC                 0.1127      0.082      1.375      0.172      -0.050       0.275\n",
       "PROD_CODE_40_ENC                -0.1345      0.060     -2.229      0.028      -0.254      -0.015\n",
       "CUST_PRICE_SENSITIVITY_ENC       0.2560      0.081      3.149      0.002       0.095       0.417\n",
       "BASKET_PRICE_SENSITIVITY_ENC     0.2368      0.091      2.590      0.011       0.056       0.418\n",
       "CUST_LIFESTAGE_ENC              -0.0307      0.330     -0.093      0.926      -0.684       0.623\n",
       "BASKET_DOMINANT_MISSION_ENC     -0.6543      0.396     -1.652      0.101      -1.439       0.130\n",
       "BASKET_SIZE_ENC                  1.3990      0.466      3.003      0.003       0.477       2.321\n",
       "STORE_REGION_ENC                -0.2654      0.080     -3.298      0.001      -0.425      -0.106\n",
       "STORE_FORMAT_ENC                 0.6932      0.218      3.181      0.002       0.262       1.125\n",
       "STORE_CODE_ENC                   0.0652      0.020      3.265      0.001       0.026       0.105\n",
       "BASKET_TYPE_ENC                  0.4647      0.286      1.623      0.107      -0.102       1.032\n",
       "==============================================================================\n",
       "Omnibus:                      122.914   Durbin-Watson:                   2.062\n",
       "Prob(Omnibus):                  0.000   Jarque-Bera (JB):             1677.817\n",
       "Skew:                           3.675   Prob(JB):                         0.00\n",
       "Kurtosis:                      19.863   Cond. No.                     1.56e+26\n",
       "==============================================================================\n",
       "\n",
       "Warnings:\n",
       "[1] Standard Errors assume that the covariance matrix of the errors is correctly specified.\n",
       "[2] The smallest eigenvalue is 4.84e-21. This might indicate that there are\n",
       "strong multicollinearity problems or that the design matrix is singular.\n",
       "\"\"\""
      ]
     },
     "execution_count": 174,
     "metadata": {},
     "output_type": "execute_result"
    }
   ],
   "source": [
    "mc = sm.OLS(Y,X)\n",
    "result = mc.fit()\n",
    "result.summary()"
   ]
  },
  {
   "cell_type": "code",
   "execution_count": 175,
   "metadata": {},
   "outputs": [
    {
     "data": {
      "text/html": [
       "<div>\n",
       "<style scoped>\n",
       "    .dataframe tbody tr th:only-of-type {\n",
       "        vertical-align: middle;\n",
       "    }\n",
       "\n",
       "    .dataframe tbody tr th {\n",
       "        vertical-align: top;\n",
       "    }\n",
       "\n",
       "    .dataframe thead th {\n",
       "        text-align: right;\n",
       "    }\n",
       "</style>\n",
       "<table border=\"1\" class=\"dataframe\">\n",
       "  <thead>\n",
       "    <tr style=\"text-align: right;\">\n",
       "      <th></th>\n",
       "      <th>SHOP_WEEK</th>\n",
       "      <th>SHOP_DATE</th>\n",
       "      <th>SHOP_WEEKDAY</th>\n",
       "      <th>QUANTITY</th>\n",
       "      <th>BASKET_ID</th>\n",
       "      <th>SHOP_WEEKDAY_ENC</th>\n",
       "      <th>PROD_CODE_ENC</th>\n",
       "      <th>PROD_CODE_10_ENC</th>\n",
       "      <th>PROD_CODE_20_ENC</th>\n",
       "      <th>PROD_CODE_30_ENC</th>\n",
       "      <th>PROD_CODE_40_ENC</th>\n",
       "      <th>CUST_PRICE_SENSITIVITY_ENC</th>\n",
       "      <th>BASKET_PRICE_SENSITIVITY_ENC</th>\n",
       "      <th>CUST_LIFESTAGE_ENC</th>\n",
       "      <th>BASKET_DOMINANT_MISSION_ENC</th>\n",
       "      <th>BASKET_SIZE_ENC</th>\n",
       "      <th>STORE_REGION_ENC</th>\n",
       "      <th>STORE_FORMAT_ENC</th>\n",
       "      <th>STORE_CODE_ENC</th>\n",
       "      <th>BASKET_TYPE_ENC</th>\n",
       "    </tr>\n",
       "  </thead>\n",
       "  <tbody>\n",
       "    <tr>\n",
       "      <td>0</td>\n",
       "      <td>200607</td>\n",
       "      <td>20060413</td>\n",
       "      <td>5</td>\n",
       "      <td>1</td>\n",
       "      <td>994100100532898</td>\n",
       "      <td>0.235294</td>\n",
       "      <td>0.008403</td>\n",
       "      <td>0.008403</td>\n",
       "      <td>0.008403</td>\n",
       "      <td>0.016807</td>\n",
       "      <td>0.075630</td>\n",
       "      <td>0.352941</td>\n",
       "      <td>0.336134</td>\n",
       "      <td>0.117647</td>\n",
       "      <td>0.537815</td>\n",
       "      <td>0.697479</td>\n",
       "      <td>0.10084</td>\n",
       "      <td>0.621849</td>\n",
       "      <td>0.10084</td>\n",
       "      <td>0.453782</td>\n",
       "    </tr>\n",
       "    <tr>\n",
       "      <td>1</td>\n",
       "      <td>200607</td>\n",
       "      <td>20060412</td>\n",
       "      <td>4</td>\n",
       "      <td>1</td>\n",
       "      <td>994100100532897</td>\n",
       "      <td>0.344538</td>\n",
       "      <td>0.008403</td>\n",
       "      <td>0.050420</td>\n",
       "      <td>0.067227</td>\n",
       "      <td>0.252101</td>\n",
       "      <td>0.487395</td>\n",
       "      <td>0.352941</td>\n",
       "      <td>0.302521</td>\n",
       "      <td>0.117647</td>\n",
       "      <td>0.537815</td>\n",
       "      <td>0.252101</td>\n",
       "      <td>0.10084</td>\n",
       "      <td>0.621849</td>\n",
       "      <td>0.10084</td>\n",
       "      <td>0.268908</td>\n",
       "    </tr>\n",
       "    <tr>\n",
       "      <td>2</td>\n",
       "      <td>200607</td>\n",
       "      <td>20060413</td>\n",
       "      <td>5</td>\n",
       "      <td>3</td>\n",
       "      <td>994100100532898</td>\n",
       "      <td>0.235294</td>\n",
       "      <td>0.008403</td>\n",
       "      <td>0.016807</td>\n",
       "      <td>0.016807</td>\n",
       "      <td>0.092437</td>\n",
       "      <td>0.226891</td>\n",
       "      <td>0.352941</td>\n",
       "      <td>0.336134</td>\n",
       "      <td>0.117647</td>\n",
       "      <td>0.537815</td>\n",
       "      <td>0.697479</td>\n",
       "      <td>0.10084</td>\n",
       "      <td>0.621849</td>\n",
       "      <td>0.10084</td>\n",
       "      <td>0.453782</td>\n",
       "    </tr>\n",
       "    <tr>\n",
       "      <td>3</td>\n",
       "      <td>200607</td>\n",
       "      <td>20060412</td>\n",
       "      <td>4</td>\n",
       "      <td>1</td>\n",
       "      <td>994100100532897</td>\n",
       "      <td>0.344538</td>\n",
       "      <td>0.008403</td>\n",
       "      <td>0.016807</td>\n",
       "      <td>0.025210</td>\n",
       "      <td>0.025210</td>\n",
       "      <td>0.075630</td>\n",
       "      <td>0.352941</td>\n",
       "      <td>0.302521</td>\n",
       "      <td>0.117647</td>\n",
       "      <td>0.537815</td>\n",
       "      <td>0.252101</td>\n",
       "      <td>0.10084</td>\n",
       "      <td>0.621849</td>\n",
       "      <td>0.10084</td>\n",
       "      <td>0.268908</td>\n",
       "    </tr>\n",
       "    <tr>\n",
       "      <td>4</td>\n",
       "      <td>200607</td>\n",
       "      <td>20060413</td>\n",
       "      <td>5</td>\n",
       "      <td>1</td>\n",
       "      <td>994100100532898</td>\n",
       "      <td>0.235294</td>\n",
       "      <td>0.008403</td>\n",
       "      <td>0.025210</td>\n",
       "      <td>0.033613</td>\n",
       "      <td>0.252101</td>\n",
       "      <td>0.487395</td>\n",
       "      <td>0.352941</td>\n",
       "      <td>0.336134</td>\n",
       "      <td>0.117647</td>\n",
       "      <td>0.537815</td>\n",
       "      <td>0.697479</td>\n",
       "      <td>0.10084</td>\n",
       "      <td>0.621849</td>\n",
       "      <td>0.10084</td>\n",
       "      <td>0.453782</td>\n",
       "    </tr>\n",
       "  </tbody>\n",
       "</table>\n",
       "</div>"
      ],
      "text/plain": [
       "   SHOP_WEEK  SHOP_DATE  SHOP_WEEKDAY  QUANTITY        BASKET_ID  \\\n",
       "0     200607   20060413             5         1  994100100532898   \n",
       "1     200607   20060412             4         1  994100100532897   \n",
       "2     200607   20060413             5         3  994100100532898   \n",
       "3     200607   20060412             4         1  994100100532897   \n",
       "4     200607   20060413             5         1  994100100532898   \n",
       "\n",
       "   SHOP_WEEKDAY_ENC  PROD_CODE_ENC  PROD_CODE_10_ENC  PROD_CODE_20_ENC  \\\n",
       "0          0.235294       0.008403          0.008403          0.008403   \n",
       "1          0.344538       0.008403          0.050420          0.067227   \n",
       "2          0.235294       0.008403          0.016807          0.016807   \n",
       "3          0.344538       0.008403          0.016807          0.025210   \n",
       "4          0.235294       0.008403          0.025210          0.033613   \n",
       "\n",
       "   PROD_CODE_30_ENC  PROD_CODE_40_ENC  CUST_PRICE_SENSITIVITY_ENC  \\\n",
       "0          0.016807          0.075630                    0.352941   \n",
       "1          0.252101          0.487395                    0.352941   \n",
       "2          0.092437          0.226891                    0.352941   \n",
       "3          0.025210          0.075630                    0.352941   \n",
       "4          0.252101          0.487395                    0.352941   \n",
       "\n",
       "   BASKET_PRICE_SENSITIVITY_ENC  CUST_LIFESTAGE_ENC  \\\n",
       "0                      0.336134            0.117647   \n",
       "1                      0.302521            0.117647   \n",
       "2                      0.336134            0.117647   \n",
       "3                      0.302521            0.117647   \n",
       "4                      0.336134            0.117647   \n",
       "\n",
       "   BASKET_DOMINANT_MISSION_ENC  BASKET_SIZE_ENC  STORE_REGION_ENC  \\\n",
       "0                     0.537815         0.697479           0.10084   \n",
       "1                     0.537815         0.252101           0.10084   \n",
       "2                     0.537815         0.697479           0.10084   \n",
       "3                     0.537815         0.252101           0.10084   \n",
       "4                     0.537815         0.697479           0.10084   \n",
       "\n",
       "   STORE_FORMAT_ENC  STORE_CODE_ENC  BASKET_TYPE_ENC  \n",
       "0          0.621849         0.10084         0.453782  \n",
       "1          0.621849         0.10084         0.268908  \n",
       "2          0.621849         0.10084         0.453782  \n",
       "3          0.621849         0.10084         0.268908  \n",
       "4          0.621849         0.10084         0.453782  "
      ]
     },
     "execution_count": 175,
     "metadata": {},
     "output_type": "execute_result"
    }
   ],
   "source": [
    "X.head()"
   ]
  },
  {
   "cell_type": "code",
   "execution_count": 176,
   "metadata": {},
   "outputs": [],
   "source": [
    "y = pd.DataFrame(Y)"
   ]
  },
  {
   "cell_type": "code",
   "execution_count": 177,
   "metadata": {},
   "outputs": [
    {
     "data": {
      "text/html": [
       "<div>\n",
       "<style scoped>\n",
       "    .dataframe tbody tr th:only-of-type {\n",
       "        vertical-align: middle;\n",
       "    }\n",
       "\n",
       "    .dataframe tbody tr th {\n",
       "        vertical-align: top;\n",
       "    }\n",
       "\n",
       "    .dataframe thead th {\n",
       "        text-align: right;\n",
       "    }\n",
       "</style>\n",
       "<table border=\"1\" class=\"dataframe\">\n",
       "  <thead>\n",
       "    <tr style=\"text-align: right;\">\n",
       "      <th></th>\n",
       "      <th>SHOP_WEEK</th>\n",
       "      <th>SHOP_DATE</th>\n",
       "      <th>SHOP_WEEKDAY</th>\n",
       "      <th>QUANTITY</th>\n",
       "      <th>BASKET_ID</th>\n",
       "      <th>SHOP_WEEKDAY_ENC</th>\n",
       "      <th>PROD_CODE_ENC</th>\n",
       "      <th>PROD_CODE_10_ENC</th>\n",
       "      <th>PROD_CODE_20_ENC</th>\n",
       "      <th>PROD_CODE_30_ENC</th>\n",
       "      <th>PROD_CODE_40_ENC</th>\n",
       "      <th>CUST_PRICE_SENSITIVITY_ENC</th>\n",
       "      <th>BASKET_PRICE_SENSITIVITY_ENC</th>\n",
       "      <th>CUST_LIFESTAGE_ENC</th>\n",
       "      <th>BASKET_DOMINANT_MISSION_ENC</th>\n",
       "      <th>BASKET_SIZE_ENC</th>\n",
       "      <th>STORE_REGION_ENC</th>\n",
       "      <th>STORE_FORMAT_ENC</th>\n",
       "      <th>STORE_CODE_ENC</th>\n",
       "      <th>BASKET_TYPE_ENC</th>\n",
       "      <th>SPEND</th>\n",
       "    </tr>\n",
       "  </thead>\n",
       "  <tbody>\n",
       "    <tr>\n",
       "      <td>0</td>\n",
       "      <td>200607</td>\n",
       "      <td>20060413</td>\n",
       "      <td>5</td>\n",
       "      <td>1</td>\n",
       "      <td>994100100532898</td>\n",
       "      <td>0.235294</td>\n",
       "      <td>0.008403</td>\n",
       "      <td>0.008403</td>\n",
       "      <td>0.008403</td>\n",
       "      <td>0.016807</td>\n",
       "      <td>0.075630</td>\n",
       "      <td>0.352941</td>\n",
       "      <td>0.336134</td>\n",
       "      <td>0.117647</td>\n",
       "      <td>0.537815</td>\n",
       "      <td>0.697479</td>\n",
       "      <td>0.10084</td>\n",
       "      <td>0.621849</td>\n",
       "      <td>0.10084</td>\n",
       "      <td>0.453782</td>\n",
       "      <td>103</td>\n",
       "    </tr>\n",
       "    <tr>\n",
       "      <td>1</td>\n",
       "      <td>200607</td>\n",
       "      <td>20060412</td>\n",
       "      <td>4</td>\n",
       "      <td>1</td>\n",
       "      <td>994100100532897</td>\n",
       "      <td>0.344538</td>\n",
       "      <td>0.008403</td>\n",
       "      <td>0.050420</td>\n",
       "      <td>0.067227</td>\n",
       "      <td>0.252101</td>\n",
       "      <td>0.487395</td>\n",
       "      <td>0.352941</td>\n",
       "      <td>0.302521</td>\n",
       "      <td>0.117647</td>\n",
       "      <td>0.537815</td>\n",
       "      <td>0.252101</td>\n",
       "      <td>0.10084</td>\n",
       "      <td>0.621849</td>\n",
       "      <td>0.10084</td>\n",
       "      <td>0.268908</td>\n",
       "      <td>28</td>\n",
       "    </tr>\n",
       "  </tbody>\n",
       "</table>\n",
       "</div>"
      ],
      "text/plain": [
       "   SHOP_WEEK  SHOP_DATE  SHOP_WEEKDAY  QUANTITY        BASKET_ID  \\\n",
       "0     200607   20060413             5         1  994100100532898   \n",
       "1     200607   20060412             4         1  994100100532897   \n",
       "\n",
       "   SHOP_WEEKDAY_ENC  PROD_CODE_ENC  PROD_CODE_10_ENC  PROD_CODE_20_ENC  \\\n",
       "0          0.235294       0.008403          0.008403          0.008403   \n",
       "1          0.344538       0.008403          0.050420          0.067227   \n",
       "\n",
       "   PROD_CODE_30_ENC  PROD_CODE_40_ENC  CUST_PRICE_SENSITIVITY_ENC  \\\n",
       "0          0.016807          0.075630                    0.352941   \n",
       "1          0.252101          0.487395                    0.352941   \n",
       "\n",
       "   BASKET_PRICE_SENSITIVITY_ENC  CUST_LIFESTAGE_ENC  \\\n",
       "0                      0.336134            0.117647   \n",
       "1                      0.302521            0.117647   \n",
       "\n",
       "   BASKET_DOMINANT_MISSION_ENC  BASKET_SIZE_ENC  STORE_REGION_ENC  \\\n",
       "0                     0.537815         0.697479           0.10084   \n",
       "1                     0.537815         0.252101           0.10084   \n",
       "\n",
       "   STORE_FORMAT_ENC  STORE_CODE_ENC  BASKET_TYPE_ENC  SPEND  \n",
       "0          0.621849         0.10084         0.453782    103  \n",
       "1          0.621849         0.10084         0.268908     28  "
      ]
     },
     "execution_count": 177,
     "metadata": {},
     "output_type": "execute_result"
    }
   ],
   "source": [
    "smf_df =  pd.concat([X,y], axis=1)\n",
    "smf_df.head(2)"
   ]
  },
  {
   "cell_type": "code",
   "execution_count": 178,
   "metadata": {},
   "outputs": [],
   "source": [
    "smf_df =  pd.concat([X,y], axis=1)\n",
    "stats_model = smf.ols('SPEND ~ SHOP_WEEK + SHOP_DATE+SHOP_WEEKDAY+QUANTITY+BASKET_ID+SHOP_WEEKDAY_ENC+PROD_CODE_ENC+PROD_CODE_10_ENC+PROD_CODE_20_ENC+PROD_CODE_30_ENC+PROD_CODE_40_ENC+CUST_PRICE_SENSITIVITY_ENC+BASKET_PRICE_SENSITIVITY_ENC+CUST_LIFESTAGE_ENC+BASKET_DOMINANT_MISSION_ENC+BASKET_SIZE_ENC+STORE_REGION_ENC+STORE_FORMAT_ENC+STORE_CODE_ENC+BASKET_TYPE_ENC', data=smf_df)\n",
    "stats_model = stats_model.fit()"
   ]
  },
  {
   "cell_type": "code",
   "execution_count": 179,
   "metadata": {},
   "outputs": [
    {
     "data": {
      "text/plain": [
       "Intercept                       6.364693e-10\n",
       "SHOP_WEEK                       1.276799e-04\n",
       "SHOP_DATE                      -1.590231e+01\n",
       "SHOP_WEEKDAY                   -1.591508e+01\n",
       "QUANTITY                        5.019867e+01\n",
       "BASKET_ID                       3.209004e-07\n",
       "SHOP_WEEKDAY_ENC               -5.027107e-02\n",
       "PROD_CODE_ENC                  -7.837180e-03\n",
       "PROD_CODE_10_ENC                2.738528e-02\n",
       "PROD_CODE_20_ENC               -5.979995e-02\n",
       "PROD_CODE_30_ENC                1.127422e-01\n",
       "PROD_CODE_40_ENC               -1.344778e-01\n",
       "CUST_PRICE_SENSITIVITY_ENC      2.559772e-01\n",
       "BASKET_PRICE_SENSITIVITY_ENC    2.368067e-01\n",
       "CUST_LIFESTAGE_ENC             -3.072028e-02\n",
       "BASKET_DOMINANT_MISSION_ENC    -6.543426e-01\n",
       "BASKET_SIZE_ENC                 1.398985e+00\n",
       "STORE_REGION_ENC               -2.654206e-01\n",
       "STORE_FORMAT_ENC                6.932158e-01\n",
       "STORE_CODE_ENC                  6.517821e-02\n",
       "BASKET_TYPE_ENC                 4.647442e-01\n",
       "dtype: float64"
      ]
     },
     "execution_count": 179,
     "metadata": {},
     "output_type": "execute_result"
    }
   ],
   "source": [
    "stats_model.params"
   ]
  },
  {
   "cell_type": "code",
   "execution_count": 180,
   "metadata": {},
   "outputs": [
    {
     "data": {
      "text/html": [
       "<div>\n",
       "<style scoped>\n",
       "    .dataframe tbody tr th:only-of-type {\n",
       "        vertical-align: middle;\n",
       "    }\n",
       "\n",
       "    .dataframe tbody tr th {\n",
       "        vertical-align: top;\n",
       "    }\n",
       "\n",
       "    .dataframe thead th {\n",
       "        text-align: right;\n",
       "    }\n",
       "</style>\n",
       "<table border=\"1\" class=\"dataframe\">\n",
       "  <thead>\n",
       "    <tr style=\"text-align: right;\">\n",
       "      <th></th>\n",
       "      <th>index</th>\n",
       "      <th>Params</th>\n",
       "    </tr>\n",
       "  </thead>\n",
       "  <tbody>\n",
       "    <tr>\n",
       "      <td>0</td>\n",
       "      <td>SHOP_WEEK</td>\n",
       "      <td>1.276799e-04</td>\n",
       "    </tr>\n",
       "    <tr>\n",
       "      <td>1</td>\n",
       "      <td>SHOP_DATE</td>\n",
       "      <td>-1.590231e+01</td>\n",
       "    </tr>\n",
       "    <tr>\n",
       "      <td>2</td>\n",
       "      <td>SHOP_WEEKDAY</td>\n",
       "      <td>-1.591508e+01</td>\n",
       "    </tr>\n",
       "    <tr>\n",
       "      <td>3</td>\n",
       "      <td>QUANTITY</td>\n",
       "      <td>5.019867e+01</td>\n",
       "    </tr>\n",
       "    <tr>\n",
       "      <td>4</td>\n",
       "      <td>BASKET_ID</td>\n",
       "      <td>3.209004e-07</td>\n",
       "    </tr>\n",
       "    <tr>\n",
       "      <td>5</td>\n",
       "      <td>SHOP_WEEKDAY_ENC</td>\n",
       "      <td>-5.027107e-02</td>\n",
       "    </tr>\n",
       "    <tr>\n",
       "      <td>6</td>\n",
       "      <td>PROD_CODE_ENC</td>\n",
       "      <td>-7.837180e-03</td>\n",
       "    </tr>\n",
       "    <tr>\n",
       "      <td>7</td>\n",
       "      <td>PROD_CODE_10_ENC</td>\n",
       "      <td>2.738528e-02</td>\n",
       "    </tr>\n",
       "    <tr>\n",
       "      <td>8</td>\n",
       "      <td>PROD_CODE_20_ENC</td>\n",
       "      <td>-5.979995e-02</td>\n",
       "    </tr>\n",
       "    <tr>\n",
       "      <td>9</td>\n",
       "      <td>PROD_CODE_30_ENC</td>\n",
       "      <td>1.127422e-01</td>\n",
       "    </tr>\n",
       "    <tr>\n",
       "      <td>10</td>\n",
       "      <td>PROD_CODE_40_ENC</td>\n",
       "      <td>-1.344778e-01</td>\n",
       "    </tr>\n",
       "    <tr>\n",
       "      <td>11</td>\n",
       "      <td>CUST_PRICE_SENSITIVITY_ENC</td>\n",
       "      <td>2.559772e-01</td>\n",
       "    </tr>\n",
       "    <tr>\n",
       "      <td>12</td>\n",
       "      <td>BASKET_PRICE_SENSITIVITY_ENC</td>\n",
       "      <td>2.368067e-01</td>\n",
       "    </tr>\n",
       "    <tr>\n",
       "      <td>13</td>\n",
       "      <td>CUST_LIFESTAGE_ENC</td>\n",
       "      <td>-3.072028e-02</td>\n",
       "    </tr>\n",
       "    <tr>\n",
       "      <td>14</td>\n",
       "      <td>BASKET_DOMINANT_MISSION_ENC</td>\n",
       "      <td>-6.543426e-01</td>\n",
       "    </tr>\n",
       "    <tr>\n",
       "      <td>15</td>\n",
       "      <td>BASKET_SIZE_ENC</td>\n",
       "      <td>1.398985e+00</td>\n",
       "    </tr>\n",
       "    <tr>\n",
       "      <td>16</td>\n",
       "      <td>STORE_REGION_ENC</td>\n",
       "      <td>-2.654206e-01</td>\n",
       "    </tr>\n",
       "    <tr>\n",
       "      <td>17</td>\n",
       "      <td>STORE_FORMAT_ENC</td>\n",
       "      <td>6.932158e-01</td>\n",
       "    </tr>\n",
       "    <tr>\n",
       "      <td>18</td>\n",
       "      <td>STORE_CODE_ENC</td>\n",
       "      <td>6.517821e-02</td>\n",
       "    </tr>\n",
       "    <tr>\n",
       "      <td>19</td>\n",
       "      <td>BASKET_TYPE_ENC</td>\n",
       "      <td>4.647442e-01</td>\n",
       "    </tr>\n",
       "  </tbody>\n",
       "</table>\n",
       "</div>"
      ],
      "text/plain": [
       "                           index        Params\n",
       "0                      SHOP_WEEK  1.276799e-04\n",
       "1                      SHOP_DATE -1.590231e+01\n",
       "2                   SHOP_WEEKDAY -1.591508e+01\n",
       "3                       QUANTITY  5.019867e+01\n",
       "4                      BASKET_ID  3.209004e-07\n",
       "5               SHOP_WEEKDAY_ENC -5.027107e-02\n",
       "6                  PROD_CODE_ENC -7.837180e-03\n",
       "7               PROD_CODE_10_ENC  2.738528e-02\n",
       "8               PROD_CODE_20_ENC -5.979995e-02\n",
       "9               PROD_CODE_30_ENC  1.127422e-01\n",
       "10              PROD_CODE_40_ENC -1.344778e-01\n",
       "11    CUST_PRICE_SENSITIVITY_ENC  2.559772e-01\n",
       "12  BASKET_PRICE_SENSITIVITY_ENC  2.368067e-01\n",
       "13            CUST_LIFESTAGE_ENC -3.072028e-02\n",
       "14   BASKET_DOMINANT_MISSION_ENC -6.543426e-01\n",
       "15               BASKET_SIZE_ENC  1.398985e+00\n",
       "16              STORE_REGION_ENC -2.654206e-01\n",
       "17              STORE_FORMAT_ENC  6.932158e-01\n",
       "18                STORE_CODE_ENC  6.517821e-02\n",
       "19               BASKET_TYPE_ENC  4.647442e-01"
      ]
     },
     "execution_count": 180,
     "metadata": {},
     "output_type": "execute_result"
    }
   ],
   "source": [
    "stats_model_params_df = pd.DataFrame(stats_model.params, X.columns, columns=['Params'])  \n",
    "stats_model_params_df = stats_model_params_df.reset_index()\n",
    "stats_model_params_df"
   ]
  },
  {
   "cell_type": "code",
   "execution_count": 181,
   "metadata": {},
   "outputs": [
    {
     "data": {
      "text/html": [
       "<table class=\"simpletable\">\n",
       "<caption>OLS Regression Results</caption>\n",
       "<tr>\n",
       "  <th>Dep. Variable:</th>          <td>SPEND</td>      <th>  R-squared:         </th> <td>   0.085</td>\n",
       "</tr>\n",
       "<tr>\n",
       "  <th>Model:</th>                   <td>OLS</td>       <th>  Adj. R-squared:    </th> <td>   0.085</td>\n",
       "</tr>\n",
       "<tr>\n",
       "  <th>Method:</th>             <td>Least Squares</td>  <th>  F-statistic:       </th> <td>     inf</td>\n",
       "</tr>\n",
       "<tr>\n",
       "  <th>Date:</th>             <td>Sat, 07 Mar 2020</td> <th>  Prob (F-statistic):</th>  <td>   nan</td> \n",
       "</tr>\n",
       "<tr>\n",
       "  <th>Time:</th>                 <td>19:50:16</td>     <th>  Log-Likelihood:    </th> <td> -819.54</td>\n",
       "</tr>\n",
       "<tr>\n",
       "  <th>No. Observations:</th>      <td>   119</td>      <th>  AIC:               </th> <td>   1641.</td>\n",
       "</tr>\n",
       "<tr>\n",
       "  <th>Df Residuals:</th>          <td>   118</td>      <th>  BIC:               </th> <td>   1644.</td>\n",
       "</tr>\n",
       "<tr>\n",
       "  <th>Df Model:</th>              <td>     0</td>      <th>                     </th>     <td> </td>   \n",
       "</tr>\n",
       "<tr>\n",
       "  <th>Covariance Type:</th>      <td>nonrobust</td>    <th>                     </th>     <td> </td>   \n",
       "</tr>\n",
       "</table>\n",
       "<table class=\"simpletable\">\n",
       "<tr>\n",
       "                <td></td>                  <th>coef</th>     <th>std err</th>      <th>t</th>      <th>P>|t|</th>  <th>[0.025</th>    <th>0.975]</th>  \n",
       "</tr>\n",
       "<tr>\n",
       "  <th>Intercept</th>                    <td> 6.365e-10</td> <td> 5.99e-10</td> <td>    1.062</td> <td> 0.290</td> <td> -5.5e-10</td> <td> 1.82e-09</td>\n",
       "</tr>\n",
       "<tr>\n",
       "  <th>SHOP_WEEK</th>                    <td>    0.0001</td> <td>    0.000</td> <td>    1.062</td> <td> 0.290</td> <td>   -0.000</td> <td>    0.000</td>\n",
       "</tr>\n",
       "<tr>\n",
       "  <th>SHOP_DATE</th>                    <td>  -15.9023</td> <td>    8.646</td> <td>   -1.839</td> <td> 0.068</td> <td>  -33.024</td> <td>    1.219</td>\n",
       "</tr>\n",
       "<tr>\n",
       "  <th>SHOP_WEEKDAY</th>                 <td>  -15.9151</td> <td>    8.658</td> <td>   -1.838</td> <td> 0.069</td> <td>  -33.060</td> <td>    1.229</td>\n",
       "</tr>\n",
       "<tr>\n",
       "  <th>QUANTITY</th>                     <td>   50.1987</td> <td>   17.840</td> <td>    2.814</td> <td> 0.006</td> <td>   14.871</td> <td>   85.526</td>\n",
       "</tr>\n",
       "<tr>\n",
       "  <th>BASKET_ID</th>                    <td> 3.209e-07</td> <td> 1.74e-07</td> <td>    1.839</td> <td> 0.068</td> <td>-2.46e-08</td> <td> 6.66e-07</td>\n",
       "</tr>\n",
       "<tr>\n",
       "  <th>SHOP_WEEKDAY_ENC</th>             <td>   -0.0503</td> <td>    0.124</td> <td>   -0.406</td> <td> 0.685</td> <td>   -0.295</td> <td>    0.195</td>\n",
       "</tr>\n",
       "<tr>\n",
       "  <th>PROD_CODE_ENC</th>                <td>   -0.0078</td> <td>    0.004</td> <td>   -2.188</td> <td> 0.031</td> <td>   -0.015</td> <td>   -0.001</td>\n",
       "</tr>\n",
       "<tr>\n",
       "  <th>PROD_CODE_10_ENC</th>             <td>    0.0274</td> <td>    0.015</td> <td>    1.843</td> <td> 0.068</td> <td>   -0.002</td> <td>    0.057</td>\n",
       "</tr>\n",
       "<tr>\n",
       "  <th>PROD_CODE_20_ENC</th>             <td>   -0.0598</td> <td>    0.031</td> <td>   -1.948</td> <td> 0.054</td> <td>   -0.121</td> <td>    0.001</td>\n",
       "</tr>\n",
       "<tr>\n",
       "  <th>PROD_CODE_30_ENC</th>             <td>    0.1127</td> <td>    0.082</td> <td>    1.375</td> <td> 0.172</td> <td>   -0.050</td> <td>    0.275</td>\n",
       "</tr>\n",
       "<tr>\n",
       "  <th>PROD_CODE_40_ENC</th>             <td>   -0.1345</td> <td>    0.060</td> <td>   -2.230</td> <td> 0.028</td> <td>   -0.254</td> <td>   -0.015</td>\n",
       "</tr>\n",
       "<tr>\n",
       "  <th>CUST_PRICE_SENSITIVITY_ENC</th>   <td>    0.2560</td> <td>    0.081</td> <td>    3.149</td> <td> 0.002</td> <td>    0.095</td> <td>    0.417</td>\n",
       "</tr>\n",
       "<tr>\n",
       "  <th>BASKET_PRICE_SENSITIVITY_ENC</th> <td>    0.2368</td> <td>    0.091</td> <td>    2.590</td> <td> 0.011</td> <td>    0.056</td> <td>    0.418</td>\n",
       "</tr>\n",
       "<tr>\n",
       "  <th>CUST_LIFESTAGE_ENC</th>           <td>   -0.0307</td> <td>    0.330</td> <td>   -0.093</td> <td> 0.926</td> <td>   -0.684</td> <td>    0.623</td>\n",
       "</tr>\n",
       "<tr>\n",
       "  <th>BASKET_DOMINANT_MISSION_ENC</th>  <td>   -0.6543</td> <td>    0.396</td> <td>   -1.652</td> <td> 0.101</td> <td>   -1.439</td> <td>    0.130</td>\n",
       "</tr>\n",
       "<tr>\n",
       "  <th>BASKET_SIZE_ENC</th>              <td>    1.3990</td> <td>    0.466</td> <td>    3.003</td> <td> 0.003</td> <td>    0.477</td> <td>    2.321</td>\n",
       "</tr>\n",
       "<tr>\n",
       "  <th>STORE_REGION_ENC</th>             <td>   -0.2654</td> <td>    0.080</td> <td>   -3.299</td> <td> 0.001</td> <td>   -0.425</td> <td>   -0.106</td>\n",
       "</tr>\n",
       "<tr>\n",
       "  <th>STORE_FORMAT_ENC</th>             <td>    0.6932</td> <td>    0.218</td> <td>    3.181</td> <td> 0.002</td> <td>    0.262</td> <td>    1.125</td>\n",
       "</tr>\n",
       "<tr>\n",
       "  <th>STORE_CODE_ENC</th>               <td>    0.0652</td> <td>    0.020</td> <td>    3.265</td> <td> 0.001</td> <td>    0.026</td> <td>    0.105</td>\n",
       "</tr>\n",
       "<tr>\n",
       "  <th>BASKET_TYPE_ENC</th>              <td>    0.4647</td> <td>    0.286</td> <td>    1.623</td> <td> 0.107</td> <td>   -0.102</td> <td>    1.032</td>\n",
       "</tr>\n",
       "</table>\n",
       "<table class=\"simpletable\">\n",
       "<tr>\n",
       "  <th>Omnibus:</th>       <td>122.914</td> <th>  Durbin-Watson:     </th> <td>   2.063</td>\n",
       "</tr>\n",
       "<tr>\n",
       "  <th>Prob(Omnibus):</th> <td> 0.000</td>  <th>  Jarque-Bera (JB):  </th> <td>1677.817</td>\n",
       "</tr>\n",
       "<tr>\n",
       "  <th>Skew:</th>          <td> 3.675</td>  <th>  Prob(JB):          </th> <td>    0.00</td>\n",
       "</tr>\n",
       "<tr>\n",
       "  <th>Kurtosis:</th>      <td>19.863</td>  <th>  Cond. No.          </th> <td>2.54e+31</td>\n",
       "</tr>\n",
       "</table><br/><br/>Warnings:<br/>[1] Standard Errors assume that the covariance matrix of the errors is correctly specified.<br/>[2] The smallest eigenvalue is 1.82e-31. This might indicate that there are<br/>strong multicollinearity problems or that the design matrix is singular."
      ],
      "text/plain": [
       "<class 'statsmodels.iolib.summary.Summary'>\n",
       "\"\"\"\n",
       "                            OLS Regression Results                            \n",
       "==============================================================================\n",
       "Dep. Variable:                  SPEND   R-squared:                       0.085\n",
       "Model:                            OLS   Adj. R-squared:                  0.085\n",
       "Method:                 Least Squares   F-statistic:                       inf\n",
       "Date:                Sat, 07 Mar 2020   Prob (F-statistic):                nan\n",
       "Time:                        19:50:16   Log-Likelihood:                -819.54\n",
       "No. Observations:                 119   AIC:                             1641.\n",
       "Df Residuals:                     118   BIC:                             1644.\n",
       "Df Model:                           0                                         \n",
       "Covariance Type:            nonrobust                                         \n",
       "================================================================================================\n",
       "                                   coef    std err          t      P>|t|      [0.025      0.975]\n",
       "------------------------------------------------------------------------------------------------\n",
       "Intercept                     6.365e-10   5.99e-10      1.062      0.290    -5.5e-10    1.82e-09\n",
       "SHOP_WEEK                        0.0001      0.000      1.062      0.290      -0.000       0.000\n",
       "SHOP_DATE                      -15.9023      8.646     -1.839      0.068     -33.024       1.219\n",
       "SHOP_WEEKDAY                   -15.9151      8.658     -1.838      0.069     -33.060       1.229\n",
       "QUANTITY                        50.1987     17.840      2.814      0.006      14.871      85.526\n",
       "BASKET_ID                     3.209e-07   1.74e-07      1.839      0.068   -2.46e-08    6.66e-07\n",
       "SHOP_WEEKDAY_ENC                -0.0503      0.124     -0.406      0.685      -0.295       0.195\n",
       "PROD_CODE_ENC                   -0.0078      0.004     -2.188      0.031      -0.015      -0.001\n",
       "PROD_CODE_10_ENC                 0.0274      0.015      1.843      0.068      -0.002       0.057\n",
       "PROD_CODE_20_ENC                -0.0598      0.031     -1.948      0.054      -0.121       0.001\n",
       "PROD_CODE_30_ENC                 0.1127      0.082      1.375      0.172      -0.050       0.275\n",
       "PROD_CODE_40_ENC                -0.1345      0.060     -2.230      0.028      -0.254      -0.015\n",
       "CUST_PRICE_SENSITIVITY_ENC       0.2560      0.081      3.149      0.002       0.095       0.417\n",
       "BASKET_PRICE_SENSITIVITY_ENC     0.2368      0.091      2.590      0.011       0.056       0.418\n",
       "CUST_LIFESTAGE_ENC              -0.0307      0.330     -0.093      0.926      -0.684       0.623\n",
       "BASKET_DOMINANT_MISSION_ENC     -0.6543      0.396     -1.652      0.101      -1.439       0.130\n",
       "BASKET_SIZE_ENC                  1.3990      0.466      3.003      0.003       0.477       2.321\n",
       "STORE_REGION_ENC                -0.2654      0.080     -3.299      0.001      -0.425      -0.106\n",
       "STORE_FORMAT_ENC                 0.6932      0.218      3.181      0.002       0.262       1.125\n",
       "STORE_CODE_ENC                   0.0652      0.020      3.265      0.001       0.026       0.105\n",
       "BASKET_TYPE_ENC                  0.4647      0.286      1.623      0.107      -0.102       1.032\n",
       "==============================================================================\n",
       "Omnibus:                      122.914   Durbin-Watson:                   2.063\n",
       "Prob(Omnibus):                  0.000   Jarque-Bera (JB):             1677.817\n",
       "Skew:                           3.675   Prob(JB):                         0.00\n",
       "Kurtosis:                      19.863   Cond. No.                     2.54e+31\n",
       "==============================================================================\n",
       "\n",
       "Warnings:\n",
       "[1] Standard Errors assume that the covariance matrix of the errors is correctly specified.\n",
       "[2] The smallest eigenvalue is 1.82e-31. This might indicate that there are\n",
       "strong multicollinearity problems or that the design matrix is singular.\n",
       "\"\"\""
      ]
     },
     "execution_count": 181,
     "metadata": {},
     "output_type": "execute_result"
    }
   ],
   "source": [
    "# print a summary of the fitted model\n",
    "stats_model.summary()"
   ]
  },
  {
   "cell_type": "markdown",
   "metadata": {},
   "source": [
    "## Using Non Correlated variables"
   ]
  },
  {
   "cell_type": "code",
   "execution_count": 182,
   "metadata": {},
   "outputs": [
    {
     "data": {
      "text/html": [
       "<div>\n",
       "<style scoped>\n",
       "    .dataframe tbody tr th:only-of-type {\n",
       "        vertical-align: middle;\n",
       "    }\n",
       "\n",
       "    .dataframe tbody tr th {\n",
       "        vertical-align: top;\n",
       "    }\n",
       "\n",
       "    .dataframe thead th {\n",
       "        text-align: right;\n",
       "    }\n",
       "</style>\n",
       "<table border=\"1\" class=\"dataframe\">\n",
       "  <thead>\n",
       "    <tr style=\"text-align: right;\">\n",
       "      <th></th>\n",
       "      <th>QUANTITY</th>\n",
       "      <th>SPEND</th>\n",
       "      <th>SHOP_WEEKDAY</th>\n",
       "      <th>SHOP_HOUR</th>\n",
       "      <th>PROD_CODE_10</th>\n",
       "      <th>CUST_PRICE_SENSITIVITY</th>\n",
       "      <th>CUST_LIFESTAGE</th>\n",
       "      <th>BASKET_SIZE</th>\n",
       "      <th>BASKET_DOMINANT_MISSION</th>\n",
       "      <th>BASKET_TYPE</th>\n",
       "      <th>STORE_FORMAT</th>\n",
       "      <th>STORE_REGION</th>\n",
       "    </tr>\n",
       "  </thead>\n",
       "  <tbody>\n",
       "    <tr>\n",
       "      <td>0</td>\n",
       "      <td>1</td>\n",
       "      <td>103</td>\n",
       "      <td>5</td>\n",
       "      <td>20</td>\n",
       "      <td>CL00001</td>\n",
       "      <td>LA</td>\n",
       "      <td>YF</td>\n",
       "      <td>L</td>\n",
       "      <td>Fresh</td>\n",
       "      <td>Top Up</td>\n",
       "      <td>LS</td>\n",
       "      <td>E02</td>\n",
       "    </tr>\n",
       "    <tr>\n",
       "      <td>1</td>\n",
       "      <td>1</td>\n",
       "      <td>28</td>\n",
       "      <td>4</td>\n",
       "      <td>19</td>\n",
       "      <td>CL00070</td>\n",
       "      <td>LA</td>\n",
       "      <td>YF</td>\n",
       "      <td>M</td>\n",
       "      <td>Fresh</td>\n",
       "      <td>Small Shop</td>\n",
       "      <td>LS</td>\n",
       "      <td>E02</td>\n",
       "    </tr>\n",
       "    <tr>\n",
       "      <td>2</td>\n",
       "      <td>3</td>\n",
       "      <td>84</td>\n",
       "      <td>5</td>\n",
       "      <td>20</td>\n",
       "      <td>CL00167</td>\n",
       "      <td>LA</td>\n",
       "      <td>YF</td>\n",
       "      <td>L</td>\n",
       "      <td>Fresh</td>\n",
       "      <td>Top Up</td>\n",
       "      <td>LS</td>\n",
       "      <td>E02</td>\n",
       "    </tr>\n",
       "    <tr>\n",
       "      <td>3</td>\n",
       "      <td>1</td>\n",
       "      <td>221</td>\n",
       "      <td>4</td>\n",
       "      <td>19</td>\n",
       "      <td>CL00010</td>\n",
       "      <td>LA</td>\n",
       "      <td>YF</td>\n",
       "      <td>M</td>\n",
       "      <td>Fresh</td>\n",
       "      <td>Small Shop</td>\n",
       "      <td>LS</td>\n",
       "      <td>E02</td>\n",
       "    </tr>\n",
       "    <tr>\n",
       "      <td>4</td>\n",
       "      <td>1</td>\n",
       "      <td>334</td>\n",
       "      <td>5</td>\n",
       "      <td>20</td>\n",
       "      <td>CL00073</td>\n",
       "      <td>LA</td>\n",
       "      <td>YF</td>\n",
       "      <td>L</td>\n",
       "      <td>Fresh</td>\n",
       "      <td>Top Up</td>\n",
       "      <td>LS</td>\n",
       "      <td>E02</td>\n",
       "    </tr>\n",
       "  </tbody>\n",
       "</table>\n",
       "</div>"
      ],
      "text/plain": [
       "   QUANTITY  SPEND  SHOP_WEEKDAY  SHOP_HOUR PROD_CODE_10  \\\n",
       "0         1    103             5         20      CL00001   \n",
       "1         1     28             4         19      CL00070   \n",
       "2         3     84             5         20      CL00167   \n",
       "3         1    221             4         19      CL00010   \n",
       "4         1    334             5         20      CL00073   \n",
       "\n",
       "  CUST_PRICE_SENSITIVITY CUST_LIFESTAGE BASKET_SIZE BASKET_DOMINANT_MISSION  \\\n",
       "0                     LA             YF           L                   Fresh   \n",
       "1                     LA             YF           M                   Fresh   \n",
       "2                     LA             YF           L                   Fresh   \n",
       "3                     LA             YF           M                   Fresh   \n",
       "4                     LA             YF           L                   Fresh   \n",
       "\n",
       "  BASKET_TYPE STORE_FORMAT STORE_REGION  \n",
       "0      Top Up           LS          E02  \n",
       "1  Small Shop           LS          E02  \n",
       "2      Top Up           LS          E02  \n",
       "3  Small Shop           LS          E02  \n",
       "4      Top Up           LS          E02  "
      ]
     },
     "execution_count": 182,
     "metadata": {},
     "output_type": "execute_result"
    }
   ],
   "source": [
    "#Extracting data for modelling\n",
    "dataset_for_model = dataset[[\"QUANTITY\", \"SPEND\", \"SHOP_WEEKDAY\" ,\"SHOP_HOUR\",  \"PROD_CODE_10\", \"CUST_PRICE_SENSITIVITY\", \"CUST_LIFESTAGE\",\"BASKET_SIZE\",\"BASKET_DOMINANT_MISSION\",\"BASKET_TYPE\" ,\"STORE_FORMAT\", \"STORE_REGION\"]]\n",
    "\n",
    "#viewing the data\n",
    "dataset_for_model.head()"
   ]
  },
  {
   "cell_type": "code",
   "execution_count": 183,
   "metadata": {},
   "outputs": [
    {
     "data": {
      "text/plain": [
       "QUANTITY                   0\n",
       "SPEND                      0\n",
       "SHOP_WEEKDAY               0\n",
       "SHOP_HOUR                  0\n",
       "PROD_CODE_10               0\n",
       "CUST_PRICE_SENSITIVITY     0\n",
       "CUST_LIFESTAGE             0\n",
       "BASKET_SIZE                0\n",
       "BASKET_DOMINANT_MISSION    0\n",
       "BASKET_TYPE                0\n",
       "STORE_FORMAT               0\n",
       "STORE_REGION               0\n",
       "dtype: int64"
      ]
     },
     "execution_count": 183,
     "metadata": {},
     "output_type": "execute_result"
    }
   ],
   "source": [
    "#looking for missing values\n",
    "dataset_for_model.isnull().sum()"
   ]
  },
  {
   "cell_type": "code",
   "execution_count": 184,
   "metadata": {},
   "outputs": [],
   "source": [
    "#Independent Variables\n",
    "X = dataset_for_model[[\"QUANTITY\",\"STORE_REGION\", \"SHOP_WEEKDAY\",\"SHOP_HOUR\",\"PROD_CODE_10\",\"CUST_PRICE_SENSITIVITY\",\"CUST_LIFESTAGE\",\"BASKET_SIZE\",\"BASKET_DOMINANT_MISSION\",\"BASKET_TYPE\",\"STORE_FORMAT\"]]\n",
    "#Dependend Variable\n",
    "Y = dataset_for_model[\"SPEND\"]"
   ]
  },
  {
   "cell_type": "code",
   "execution_count": 185,
   "metadata": {},
   "outputs": [],
   "source": [
    "# Encoding store region using Frequency Encoding\n",
    "store_format_fe = X.groupby('STORE_REGION').size()/len(X)\n",
    "X.loc[:,'STORE_REGION_ENC'] = X['STORE_REGION'].map(store_format_fe)\n",
    "\n"
   ]
  }
 ],
 "metadata": {
  "kernelspec": {
   "display_name": "Python 3",
   "language": "python",
   "name": "python3"
  },
  "language_info": {
   "codemirror_mode": {
    "name": "ipython",
    "version": 3
   },
   "file_extension": ".py",
   "mimetype": "text/x-python",
   "name": "python",
   "nbconvert_exporter": "python",
   "pygments_lexer": "ipython3",
   "version": "3.7.4"
  }
 },
 "nbformat": 4,
 "nbformat_minor": 2
}
