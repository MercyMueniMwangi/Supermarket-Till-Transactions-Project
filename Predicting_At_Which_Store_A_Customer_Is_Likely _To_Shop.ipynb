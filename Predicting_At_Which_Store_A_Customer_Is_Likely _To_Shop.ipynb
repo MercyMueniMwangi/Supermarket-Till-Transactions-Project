{
 "cells": [
  {
   "cell_type": "markdown",
   "metadata": {},
   "source": [
    "# SUPERMARKET DATA PROJECT PREDICTIVE MODEL NOTEBOOK"
   ]
  },
  {
   "cell_type": "markdown",
   "metadata": {},
   "source": [
    "# Importing Packages"
   ]
  },
  {
   "cell_type": "code",
   "execution_count": 91,
   "metadata": {},
   "outputs": [],
   "source": [
    "#importing packages\n",
    "import pandas as pd\n",
    "import numpy as np\n",
    " \n",
    "\n",
    "#importing visualization metrics\n",
    "import matplotlib.pyplot as plt\n",
    "from matplotlib import gridspec\n",
    "import seaborn as sns\n",
    "\n",
    "# Import the warnings\n",
    "import warnings\n",
    "\n",
    "# Import statsmodels\n",
    "import statsmodels.formula.api as smf\n",
    "\n",
    "# Importing classifiers from scikit-learn\n",
    "from sklearn.linear_model import LinearRegression\n",
    "from sklearn.ensemble import RandomForestClassifier\n",
    "\n",
    "# Using Skicit-learn to split data into training and testing sets\n",
    "from sklearn.model_selection import train_test_split\n",
    "\n",
    "# Import the metrics\n",
    "from sklearn.metrics import confusion_matrix\n",
    "\n",
    "# configuration settings\n",
    "%matplotlib inline\n",
    "sns.set(color_codes=True)\n",
    "warnings.filterwarnings('ignore') ## Surpress the warnings\n",
    "pd.options.display.max_columns = None # Display all columns\n",
    "\n",
    "# For Statistics\n",
    "import scipy.stats as stats\n",
    "import pandas_profiling as pp\n",
    "\n",
    "%matplotlib inline "
   ]
  },
  {
   "cell_type": "markdown",
   "metadata": {},
   "source": [
    "# Importing Data"
   ]
  },
  {
   "cell_type": "code",
   "execution_count": 92,
   "metadata": {},
   "outputs": [],
   "source": [
    "dataset =  pd.read_csv(\"supermarket_dataset_used.csv\")"
   ]
  },
  {
   "cell_type": "markdown",
   "metadata": {},
   "source": [
    "# EXPLORATORY DATA ANALYSIS"
   ]
  },
  {
   "cell_type": "markdown",
   "metadata": {},
   "source": [
    "## 1. General Analysis"
   ]
  },
  {
   "cell_type": "code",
   "execution_count": 93,
   "metadata": {},
   "outputs": [
    {
     "data": {
      "text/html": [
       "<div>\n",
       "<style scoped>\n",
       "    .dataframe tbody tr th:only-of-type {\n",
       "        vertical-align: middle;\n",
       "    }\n",
       "\n",
       "    .dataframe tbody tr th {\n",
       "        vertical-align: top;\n",
       "    }\n",
       "\n",
       "    .dataframe thead th {\n",
       "        text-align: right;\n",
       "    }\n",
       "</style>\n",
       "<table border=\"1\" class=\"dataframe\">\n",
       "  <thead>\n",
       "    <tr style=\"text-align: right;\">\n",
       "      <th></th>\n",
       "      <th>SHOP_WEEK</th>\n",
       "      <th>Year</th>\n",
       "      <th>Month</th>\n",
       "      <th>Date</th>\n",
       "      <th>SHOP_WEEKDAY</th>\n",
       "      <th>SHOP_HOUR</th>\n",
       "      <th>QUANTITY</th>\n",
       "      <th>SPEND</th>\n",
       "      <th>PROD_CODE</th>\n",
       "      <th>PROD_CODE_10</th>\n",
       "      <th>PROD_CODE_20</th>\n",
       "      <th>PROD_CODE_30</th>\n",
       "      <th>PROD_CODE_40</th>\n",
       "      <th>CUST_CODE</th>\n",
       "      <th>CUST_PRICE_SENSITIVITY</th>\n",
       "      <th>CUST_LIFESTAGE</th>\n",
       "      <th>BASKET_ID</th>\n",
       "      <th>BASKET_SIZE</th>\n",
       "      <th>BASKET_PRICE_SENSITIVITY</th>\n",
       "      <th>BASKET_TYPE</th>\n",
       "      <th>BASKET_DOMINANT_MISSION</th>\n",
       "      <th>STORE_CODE</th>\n",
       "      <th>STORE_FORMAT</th>\n",
       "      <th>STORE_REGION</th>\n",
       "    </tr>\n",
       "  </thead>\n",
       "  <tbody>\n",
       "    <tr>\n",
       "      <td>0</td>\n",
       "      <td>200607</td>\n",
       "      <td>2006</td>\n",
       "      <td>4</td>\n",
       "      <td>13</td>\n",
       "      <td>5</td>\n",
       "      <td>20</td>\n",
       "      <td>1</td>\n",
       "      <td>103</td>\n",
       "      <td>PRD0900097</td>\n",
       "      <td>CL00001</td>\n",
       "      <td>DEP00001</td>\n",
       "      <td>G00001</td>\n",
       "      <td>D00001</td>\n",
       "      <td>CUST0000634693</td>\n",
       "      <td>LA</td>\n",
       "      <td>YF</td>\n",
       "      <td>994100000000000</td>\n",
       "      <td>L</td>\n",
       "      <td>LA</td>\n",
       "      <td>Top Up</td>\n",
       "      <td>Fresh</td>\n",
       "      <td>STORE00001</td>\n",
       "      <td>LS</td>\n",
       "      <td>E02</td>\n",
       "    </tr>\n",
       "    <tr>\n",
       "      <td>1</td>\n",
       "      <td>200607</td>\n",
       "      <td>2006</td>\n",
       "      <td>4</td>\n",
       "      <td>12</td>\n",
       "      <td>4</td>\n",
       "      <td>19</td>\n",
       "      <td>1</td>\n",
       "      <td>28</td>\n",
       "      <td>PRD0900353</td>\n",
       "      <td>CL00070</td>\n",
       "      <td>DEP00020</td>\n",
       "      <td>G00007</td>\n",
       "      <td>D00002</td>\n",
       "      <td>CUST0000634693</td>\n",
       "      <td>LA</td>\n",
       "      <td>YF</td>\n",
       "      <td>994100000000000</td>\n",
       "      <td>M</td>\n",
       "      <td>MM</td>\n",
       "      <td>Small Shop</td>\n",
       "      <td>Fresh</td>\n",
       "      <td>STORE00001</td>\n",
       "      <td>LS</td>\n",
       "      <td>E02</td>\n",
       "    </tr>\n",
       "    <tr>\n",
       "      <td>2</td>\n",
       "      <td>200607</td>\n",
       "      <td>2006</td>\n",
       "      <td>4</td>\n",
       "      <td>13</td>\n",
       "      <td>5</td>\n",
       "      <td>20</td>\n",
       "      <td>3</td>\n",
       "      <td>84</td>\n",
       "      <td>PRD0900550</td>\n",
       "      <td>CL00167</td>\n",
       "      <td>DEP00055</td>\n",
       "      <td>G00016</td>\n",
       "      <td>D00003</td>\n",
       "      <td>CUST0000634693</td>\n",
       "      <td>LA</td>\n",
       "      <td>YF</td>\n",
       "      <td>994100000000000</td>\n",
       "      <td>L</td>\n",
       "      <td>LA</td>\n",
       "      <td>Top Up</td>\n",
       "      <td>Fresh</td>\n",
       "      <td>STORE00001</td>\n",
       "      <td>LS</td>\n",
       "      <td>E02</td>\n",
       "    </tr>\n",
       "    <tr>\n",
       "      <td>3</td>\n",
       "      <td>200607</td>\n",
       "      <td>2006</td>\n",
       "      <td>4</td>\n",
       "      <td>12</td>\n",
       "      <td>4</td>\n",
       "      <td>19</td>\n",
       "      <td>1</td>\n",
       "      <td>221</td>\n",
       "      <td>PRD0901647</td>\n",
       "      <td>CL00010</td>\n",
       "      <td>DEP00003</td>\n",
       "      <td>G00002</td>\n",
       "      <td>D00001</td>\n",
       "      <td>CUST0000634693</td>\n",
       "      <td>LA</td>\n",
       "      <td>YF</td>\n",
       "      <td>994100000000000</td>\n",
       "      <td>M</td>\n",
       "      <td>MM</td>\n",
       "      <td>Small Shop</td>\n",
       "      <td>Fresh</td>\n",
       "      <td>STORE00001</td>\n",
       "      <td>LS</td>\n",
       "      <td>E02</td>\n",
       "    </tr>\n",
       "    <tr>\n",
       "      <td>4</td>\n",
       "      <td>200607</td>\n",
       "      <td>2006</td>\n",
       "      <td>4</td>\n",
       "      <td>13</td>\n",
       "      <td>5</td>\n",
       "      <td>20</td>\n",
       "      <td>1</td>\n",
       "      <td>334</td>\n",
       "      <td>PRD0902064</td>\n",
       "      <td>CL00073</td>\n",
       "      <td>DEP00021</td>\n",
       "      <td>G00007</td>\n",
       "      <td>D00002</td>\n",
       "      <td>CUST0000634693</td>\n",
       "      <td>LA</td>\n",
       "      <td>YF</td>\n",
       "      <td>994100000000000</td>\n",
       "      <td>L</td>\n",
       "      <td>LA</td>\n",
       "      <td>Top Up</td>\n",
       "      <td>Fresh</td>\n",
       "      <td>STORE00001</td>\n",
       "      <td>LS</td>\n",
       "      <td>E02</td>\n",
       "    </tr>\n",
       "  </tbody>\n",
       "</table>\n",
       "</div>"
      ],
      "text/plain": [
       "   SHOP_WEEK  Year  Month  Date  SHOP_WEEKDAY  SHOP_HOUR  QUANTITY  SPEND  \\\n",
       "0     200607  2006      4    13             5         20         1    103   \n",
       "1     200607  2006      4    12             4         19         1     28   \n",
       "2     200607  2006      4    13             5         20         3     84   \n",
       "3     200607  2006      4    12             4         19         1    221   \n",
       "4     200607  2006      4    13             5         20         1    334   \n",
       "\n",
       "    PROD_CODE PROD_CODE_10 PROD_CODE_20 PROD_CODE_30 PROD_CODE_40  \\\n",
       "0  PRD0900097      CL00001     DEP00001       G00001       D00001   \n",
       "1  PRD0900353      CL00070     DEP00020       G00007       D00002   \n",
       "2  PRD0900550      CL00167     DEP00055       G00016       D00003   \n",
       "3  PRD0901647      CL00010     DEP00003       G00002       D00001   \n",
       "4  PRD0902064      CL00073     DEP00021       G00007       D00002   \n",
       "\n",
       "        CUST_CODE CUST_PRICE_SENSITIVITY CUST_LIFESTAGE        BASKET_ID  \\\n",
       "0  CUST0000634693                     LA             YF  994100000000000   \n",
       "1  CUST0000634693                     LA             YF  994100000000000   \n",
       "2  CUST0000634693                     LA             YF  994100000000000   \n",
       "3  CUST0000634693                     LA             YF  994100000000000   \n",
       "4  CUST0000634693                     LA             YF  994100000000000   \n",
       "\n",
       "  BASKET_SIZE BASKET_PRICE_SENSITIVITY BASKET_TYPE BASKET_DOMINANT_MISSION  \\\n",
       "0           L                       LA      Top Up                   Fresh   \n",
       "1           M                       MM  Small Shop                   Fresh   \n",
       "2           L                       LA      Top Up                   Fresh   \n",
       "3           M                       MM  Small Shop                   Fresh   \n",
       "4           L                       LA      Top Up                   Fresh   \n",
       "\n",
       "   STORE_CODE STORE_FORMAT STORE_REGION  \n",
       "0  STORE00001           LS          E02  \n",
       "1  STORE00001           LS          E02  \n",
       "2  STORE00001           LS          E02  \n",
       "3  STORE00001           LS          E02  \n",
       "4  STORE00001           LS          E02  "
      ]
     },
     "execution_count": 93,
     "metadata": {},
     "output_type": "execute_result"
    }
   ],
   "source": [
    "# viewing the top 5 rows of the dataset\n",
    "dataset.head()"
   ]
  },
  {
   "cell_type": "code",
   "execution_count": 94,
   "metadata": {},
   "outputs": [
    {
     "data": {
      "application/vnd.jupyter.widget-view+json": {
       "model_id": "ea194d6278db4428906cf587aa6ea6d9",
       "version_major": 2,
       "version_minor": 0
      },
      "text/plain": [
       "Tab(children=(HTML(value='<div id=\"overview-content\" class=\"row variable spacing\">\\n    <div class=\"row\">\\n   …"
      ]
     },
     "metadata": {},
     "output_type": "display_data"
    },
    {
     "data": {
      "text/html": [
       "Report generated with <a href=\"https://github.com/pandas-profiling/pandas-profiling\">pandas-profiling</a>."
      ],
      "text/plain": [
       "<IPython.core.display.HTML object>"
      ]
     },
     "metadata": {},
     "output_type": "display_data"
    },
    {
     "data": {
      "text/plain": []
     },
     "execution_count": 94,
     "metadata": {},
     "output_type": "execute_result"
    }
   ],
   "source": [
    "#getting the statistics and summary of the whole dataset\n",
    "pp.ProfileReport(dataset)"
   ]
  },
  {
   "cell_type": "code",
   "execution_count": 127,
   "metadata": {},
   "outputs": [
    {
     "data": {
      "text/plain": [
       "Index(['SHOP_WEEK', 'Year', 'Month', 'Date', 'SHOP_WEEKDAY', 'SHOP_HOUR',\n",
       "       'QUANTITY', 'SPEND', 'PROD_CODE', 'PROD_CODE_10', 'PROD_CODE_20',\n",
       "       'PROD_CODE_30', 'PROD_CODE_40', 'CUST_CODE', 'CUST_PRICE_SENSITIVITY',\n",
       "       'CUST_LIFESTAGE', 'BASKET_ID', 'BASKET_SIZE',\n",
       "       'BASKET_PRICE_SENSITIVITY', 'BASKET_TYPE', 'BASKET_DOMINANT_MISSION',\n",
       "       'STORE_CODE', 'STORE_FORMAT', 'STORE_REGION'],\n",
       "      dtype='object')"
      ]
     },
     "execution_count": 127,
     "metadata": {},
     "output_type": "execute_result"
    }
   ],
   "source": [
    "#variables in the dataset\n",
    "dataset.columns"
   ]
  },
  {
   "cell_type": "code",
   "execution_count": 82,
   "metadata": {},
   "outputs": [
    {
     "data": {
      "text/plain": [
       "SHOP_WEEK                    int64\n",
       "Year                         int64\n",
       "Month                        int64\n",
       "Date                         int64\n",
       "SHOP_WEEKDAY                 int64\n",
       "SHOP_HOUR                    int64\n",
       "QUANTITY                     int64\n",
       "SPEND                        int64\n",
       "PROD_CODE                   object\n",
       "PROD_CODE_10                object\n",
       "PROD_CODE_20                object\n",
       "PROD_CODE_30                object\n",
       "PROD_CODE_40                object\n",
       "CUST_CODE                   object\n",
       "CUST_PRICE_SENSITIVITY      object\n",
       "CUST_LIFESTAGE              object\n",
       "BASKET_ID                    int64\n",
       "BASKET_SIZE                 object\n",
       "BASKET_PRICE_SENSITIVITY    object\n",
       "BASKET_TYPE                 object\n",
       "BASKET_DOMINANT_MISSION     object\n",
       "STORE_CODE                  object\n",
       "STORE_FORMAT                object\n",
       "STORE_REGION                object\n",
       "dtype: object"
      ]
     },
     "execution_count": 82,
     "metadata": {},
     "output_type": "execute_result"
    }
   ],
   "source": [
    "# checking the datatypes\n",
    "dataset.dtypes"
   ]
  },
  {
   "cell_type": "code",
   "execution_count": 83,
   "metadata": {},
   "outputs": [
    {
     "data": {
      "text/plain": [
       "(119, 24)"
      ]
     },
     "execution_count": 83,
     "metadata": {},
     "output_type": "execute_result"
    }
   ],
   "source": [
    "#Total number of rows and columns\n",
    "#We have 119 rows and 24 columns\n",
    "dataset.shape"
   ]
  },
  {
   "cell_type": "code",
   "execution_count": 84,
   "metadata": {
    "scrolled": true
   },
   "outputs": [
    {
     "name": "stdout",
     "output_type": "stream",
     "text": [
      "Duplicate rows:  Empty DataFrame\n",
      "Columns: [SHOP_WEEK, Year, Month, Date, SHOP_WEEKDAY, SHOP_HOUR, QUANTITY, SPEND, PROD_CODE, PROD_CODE_10, PROD_CODE_20, PROD_CODE_30, PROD_CODE_40, CUST_CODE, CUST_PRICE_SENSITIVITY, CUST_LIFESTAGE, BASKET_ID, BASKET_SIZE, BASKET_PRICE_SENSITIVITY, BASKET_TYPE, BASKET_DOMINANT_MISSION, STORE_CODE, STORE_FORMAT, STORE_REGION]\n",
      "Index: []\n",
      "\n",
      "[0 rows x 24 columns]\n"
     ]
    }
   ],
   "source": [
    "# Rows containing duplicate data\n",
    "duplicate_rows = dataset[dataset.duplicated()]\n",
    "print(\"Duplicate rows: \",duplicate_rows)"
   ]
  },
  {
   "cell_type": "code",
   "execution_count": 95,
   "metadata": {},
   "outputs": [],
   "source": [
    "#code to delete dupicates if we have any\n",
    "#datset=dataset.drop_duplicates()"
   ]
  },
  {
   "cell_type": "code",
   "execution_count": 96,
   "metadata": {
    "scrolled": true
   },
   "outputs": [
    {
     "data": {
      "text/plain": [
       "SHOP_WEEK                   119\n",
       "Year                        119\n",
       "Month                       119\n",
       "Date                        119\n",
       "SHOP_WEEKDAY                119\n",
       "SHOP_HOUR                   119\n",
       "QUANTITY                    119\n",
       "SPEND                       119\n",
       "PROD_CODE                   119\n",
       "PROD_CODE_10                119\n",
       "PROD_CODE_20                119\n",
       "PROD_CODE_30                119\n",
       "PROD_CODE_40                119\n",
       "CUST_CODE                    73\n",
       "CUST_PRICE_SENSITIVITY       73\n",
       "CUST_LIFESTAGE               73\n",
       "BASKET_ID                   119\n",
       "BASKET_SIZE                 119\n",
       "BASKET_PRICE_SENSITIVITY    119\n",
       "BASKET_TYPE                 119\n",
       "BASKET_DOMINANT_MISSION     119\n",
       "STORE_CODE                  119\n",
       "STORE_FORMAT                119\n",
       "STORE_REGION                119\n",
       "dtype: int64"
      ]
     },
     "execution_count": 96,
     "metadata": {},
     "output_type": "execute_result"
    }
   ],
   "source": [
    "#The count of each column\n",
    "# CUST_CODE, CUST_PRICE_SENSITIVITY and CUST_LIFESTAGE have missing values\n",
    "dataset.count()"
   ]
  },
  {
   "cell_type": "code",
   "execution_count": 97,
   "metadata": {},
   "outputs": [
    {
     "data": {
      "text/plain": [
       "SHOP_WEEK                    0\n",
       "Year                         0\n",
       "Month                        0\n",
       "Date                         0\n",
       "SHOP_WEEKDAY                 0\n",
       "SHOP_HOUR                    0\n",
       "QUANTITY                     0\n",
       "SPEND                        0\n",
       "PROD_CODE                    0\n",
       "PROD_CODE_10                 0\n",
       "PROD_CODE_20                 0\n",
       "PROD_CODE_30                 0\n",
       "PROD_CODE_40                 0\n",
       "CUST_CODE                   46\n",
       "CUST_PRICE_SENSITIVITY      46\n",
       "CUST_LIFESTAGE              46\n",
       "BASKET_ID                    0\n",
       "BASKET_SIZE                  0\n",
       "BASKET_PRICE_SENSITIVITY     0\n",
       "BASKET_TYPE                  0\n",
       "BASKET_DOMINANT_MISSION      0\n",
       "STORE_CODE                   0\n",
       "STORE_FORMAT                 0\n",
       "STORE_REGION                 0\n",
       "dtype: int64"
      ]
     },
     "execution_count": 97,
     "metadata": {},
     "output_type": "execute_result"
    }
   ],
   "source": [
    "#lokking for columns with missing values\n",
    "dataset.isnull().sum()"
   ]
  },
  {
   "cell_type": "markdown",
   "metadata": {},
   "source": [
    "## 2. Exploring The Target Variable"
   ]
  },
  {
   "cell_type": "markdown",
   "metadata": {},
   "source": [
    "The objective is to learn more about the target varibale which is the store region. This is through visualization and conducting description analysis"
   ]
  },
  {
   "cell_type": "code",
   "execution_count": 99,
   "metadata": {},
   "outputs": [
    {
     "data": {
      "text/plain": [
       "0    E02\n",
       "1    E02\n",
       "2    E02\n",
       "3    E02\n",
       "4    E02\n",
       "Name: STORE_REGION, dtype: object"
      ]
     },
     "execution_count": 99,
     "metadata": {},
     "output_type": "execute_result"
    }
   ],
   "source": [
    "#viewing the top 5 of the store region variable\n",
    "store_region_data = dataset[\"STORE_REGION\"]\n",
    "store_region_data.head()"
   ]
  },
  {
   "cell_type": "code",
   "execution_count": 126,
   "metadata": {},
   "outputs": [
    {
     "data": {
      "text/plain": [
       "array(['E02', 'W01', 'N01', 'N02', 'W02', 'S02', 'S01', 'N03', 'S03'],\n",
       "      dtype=object)"
      ]
     },
     "execution_count": 126,
     "metadata": {},
     "output_type": "execute_result"
    }
   ],
   "source": [
    "# the store regions available\n",
    "available_store_regions = store_region_data.unique()\n",
    "available_store_regions"
   ]
  },
  {
   "cell_type": "code",
   "execution_count": 129,
   "metadata": {},
   "outputs": [
    {
     "data": {
      "text/plain": [
       "N01    21\n",
       "W01    17\n",
       "N02    16\n",
       "S01    15\n",
       "N03    14\n",
       "E02    12\n",
       "W02     9\n",
       "S03     8\n",
       "S02     7\n",
       "Name: STORE_REGION, dtype: int64"
      ]
     },
     "execution_count": 129,
     "metadata": {},
     "output_type": "execute_result"
    }
   ],
   "source": [
    "# finding out the distribution of the number the customers bought in those store regions\n",
    "dataset[\"STORE_REGION\"].value_counts()"
   ]
  },
  {
   "cell_type": "code",
   "execution_count": null,
   "metadata": {},
   "outputs": [],
   "source": [
    "#creating the visualization to shore the distribution of the number the customers bought in those store regions\n"
   ]
  }
 ],
 "metadata": {
  "kernelspec": {
   "display_name": "Python 3",
   "language": "python",
   "name": "python3"
  },
  "language_info": {
   "codemirror_mode": {
    "name": "ipython",
    "version": 3
   },
   "file_extension": ".py",
   "mimetype": "text/x-python",
   "name": "python",
   "nbconvert_exporter": "python",
   "pygments_lexer": "ipython3",
   "version": "3.7.4"
  }
 },
 "nbformat": 4,
 "nbformat_minor": 2
}
